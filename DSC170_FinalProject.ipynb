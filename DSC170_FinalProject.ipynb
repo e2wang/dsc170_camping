{
 "cells": [
  {
   "cell_type": "markdown",
   "id": "d16cabdb",
   "metadata": {},
   "source": [
    "--------------------------------------------------------------------------------------\n",
    "\n",
    "* Team member names: Elsie Wang, Hou Wan\n",
    "\n",
    "* Team member IDs: A16655032, A16462095\n",
    "\n",
    "--------------------------------------------------------------------------------------"
   ]
  },
  {
   "cell_type": "markdown",
   "id": "9d281a75",
   "metadata": {},
   "source": [
    "# Optimizing Camping Spots with OpenAI and ArcGIS"
   ]
  },
  {
   "cell_type": "markdown",
   "id": "c780dcaa",
   "metadata": {},
   "source": [
    "## Introduction"
   ]
  },
  {
   "cell_type": "markdown",
   "id": "63fd2499",
   "metadata": {},
   "source": [
    "***TODO***\n",
    "\n",
    "Question(s) you addressed, why it is important (5pt)\n",
    "\n",
    "As in your project proposal, describe the intended audience and the business case for finding a\n",
    "solution to your question.\n",
    "\n",
    "If your question changed significantly compared to your project proposal, please explain.\n",
    "(format this as a markdown cell)\n",
    "\n",
    "(at least 250 words):\n"
   ]
  },
  {
   "cell_type": "markdown",
   "id": "f6774942",
   "metadata": {},
   "source": [
    "### Related Work"
   ]
  },
  {
   "cell_type": "markdown",
   "id": "36b1319b",
   "metadata": {},
   "source": [
    "***TODO***\n",
    "\n",
    "At least 4 bibliographic references (with links) relevant to your question. These don’t have to be\n",
    "new references; you can continue what you started in your project proposal. As before, the\n",
    "references can include research publications, online articles, blogs, github repos, online\n",
    "applications, etc.\n",
    "\n",
    "As a new element of this section, reflect on how these references helped you specify the\n",
    "problem more narrowly, or focus on a specific hypothesis, or question conclusions they made,\n",
    "or improve over previously available code.\n",
    "(format this as a markdown cell)\n",
    "\n",
    "(at least 200 words)"
   ]
  },
  {
   "cell_type": "markdown",
   "id": "dbca5030",
   "metadata": {},
   "source": [
    "### Python Packages"
   ]
  },
  {
   "cell_type": "markdown",
   "id": "bc4961fe",
   "metadata": {},
   "source": [
    "***TODO***\n",
    "\n",
    "Make this a brief list – but also mention whether and how this list has evolved compared to the\n",
    "project proposal.\n",
    "\n",
    "In your notebook: identify and describe the libraries as you import them, using a combination\n",
    "of markdown and code cells.\n",
    "\n",
    "(at least 100 words)"
   ]
  },
  {
   "cell_type": "markdown",
   "id": "1f385391",
   "metadata": {},
   "source": [
    "### References"
   ]
  },
  {
   "cell_type": "markdown",
   "id": "23533a84",
   "metadata": {},
   "source": [
    "***TODO***\n",
    "\n",
    "Include a URL and a one-sentence description of each source you used. Make sure you have\n",
    "enough records for your machine learning application.\n",
    "\n",
    "Please reflect on how your choice of sources evolved since the proposal phase, and any\n",
    "concerns about the sources you used - related to data quality, provenance, access constraints,\n",
    "etc. Also, reflect on any data that would be helpful to address your research question, which\n",
    "you could not obtain (and why). Be creative! There is a lot of additional information, sometimes\n",
    "from less traditional sources, that may help.\n",
    "\n",
    "When you create a notebook, identify and describe the datasets as you load them. If the\n",
    "sources are in AGOL, provide source IDs, and/or load them using gis.content.get. Provide\n",
    "additional discussion in a markdown cell.\n",
    "\n",
    "(at least 200 words)\n"
   ]
  },
  {
   "cell_type": "markdown",
   "id": "e7e33445",
   "metadata": {},
   "source": [
    "\n",
    "\n"
   ]
  },
  {
   "cell_type": "markdown",
   "id": "61108479",
   "metadata": {},
   "source": [
    "--------------------------------------------------------------------------------------"
   ]
  },
  {
   "cell_type": "code",
   "execution_count": 33,
   "id": "67bdc826",
   "metadata": {},
   "outputs": [],
   "source": [
    "# Import statements, etc.\n",
    "import warnings\n",
    "warnings.filterwarnings(\"ignore\")\n",
    "\n",
    "from json import load\n",
    "import os\n",
    "import pandas as pd\n",
    "import geopandas as gpd\n",
    "import numpy as np\n",
    "\n",
    "import arcgis\n",
    "from arcgis.gis import GIS\n",
    "from arcgis.raster.functions import *\n",
    "from ipywidgets import *\n",
    "from IPython.display import display\n",
    "from arcgis.geocoding import geocode\n",
    "from arcgis.geometry import *\n",
    "from arcgis.features import GeoAccessor\n",
    "\n",
    "# Used with github repo\n",
    "LOGIN = load(open('./login.json', 'r'))\n",
    "gis = GIS(username=LOGIN['username'], password=LOGIN['password'])\n",
    "\n",
    "# TODO: Replace above with this in final notebook\n",
    "# import getpass\n",
    "# username = input('Enter username: ')\n",
    "# password = getpass.getpass(\"Enter password: \")\n",
    "# gis = GIS(username=username, password=password)"
   ]
  },
  {
   "cell_type": "markdown",
   "id": "4dad5a05",
   "metadata": {},
   "source": [
    "## Data Cleaning"
   ]
  },
  {
   "cell_type": "markdown",
   "id": "0262116d",
   "metadata": {},
   "source": [
    "***TODO***\n",
    "\n",
    "Describe the cleaning/wrangling operations that you performed, and whether you realized you\n",
    "needed to clean the data by examining metadata documents or by introspecting the data itself.\n",
    "Was the amount of cleaning/data preparation similar to what you expected when writing\n",
    "project proposal?\n",
    "\n",
    "Organize the discussion and code as a combination of markdown and code cells.\n",
    "(at least 100 words – less if you didn’t have to do any cleaning!)"
   ]
  },
  {
   "cell_type": "markdown",
   "id": "fae7d3bd",
   "metadata": {},
   "source": [
    "Potential Factors:\n",
    "- primitive vs campground*\n",
    "- light pollution\n",
    "- water accessibility\n",
    "- stargazing\n",
    "- proximity from roads\n",
    "- proximity from hiking trails\n",
    "- near water\n",
    "- tent vs car vs rv camping\n",
    "- weather: winter vs summer camping\n",
    "- campfires\n",
    "- ammentities: water, showers, restrooms, mobile service\n",
    "\n",
    "\n",
    "*essential information"
   ]
  },
  {
   "cell_type": "markdown",
   "id": "513a60e8",
   "metadata": {},
   "source": [
    "### Load Datasets"
   ]
  },
  {
   "cell_type": "code",
   "execution_count": 2,
   "id": "35bd7755",
   "metadata": {},
   "outputs": [],
   "source": [
    "data_location = os.environ[\"HOME\"] + '/dsc170_finalproject_camping/data/'"
   ]
  },
  {
   "cell_type": "code",
   "execution_count": 48,
   "id": "59dcf25f",
   "metadata": {},
   "outputs": [],
   "source": [
    "park_boundaries = gpd.read_file(data_location + 'park_boundaries/ParkBoundaries.shp')\n",
    "campgrounds = gpd.read_file(data_location + 'campgrounds/Campgrounds.shp')\n",
    "buildings = gpd.read_file(data_location + 'buildings/Buildings.shp')\n",
    "parking = gpd.read_file(data_location + 'parking/ParkingPoints.shp')\n",
    "routes = gpd.read_file(data_location + 'routes/RecreationalRoutes.shp')"
   ]
  },
  {
   "cell_type": "markdown",
   "id": "35ee3989",
   "metadata": {},
   "source": [
    "## Descriptive Statistics"
   ]
  },
  {
   "cell_type": "markdown",
   "id": "4f8d8f6f",
   "metadata": {},
   "source": [
    "***TODO***\n",
    "\n",
    "Explore the data using maps, charts, and common descriptive statistics. Sample questions you\n",
    "can try to answer: is there spatial autocorrelation in the data? Are you dealing with random\n",
    "point patterns? What is the spatial mean and standard distance? Or why the above questions\n",
    "are not relevant to your research theme and the data?\n",
    "\n",
    "(a combination of markdown and documented code cells)"
   ]
  },
  {
   "cell_type": "markdown",
   "id": "14f85066",
   "metadata": {},
   "source": [
    "### Buildings"
   ]
  },
  {
   "cell_type": "code",
   "execution_count": 22,
   "id": "1a224009",
   "metadata": {},
   "outputs": [
    {
     "data": {
      "text/html": [
       "<div>\n",
       "<style scoped>\n",
       "    .dataframe tbody tr th:only-of-type {\n",
       "        vertical-align: middle;\n",
       "    }\n",
       "\n",
       "    .dataframe tbody tr th {\n",
       "        vertical-align: top;\n",
       "    }\n",
       "\n",
       "    .dataframe thead th {\n",
       "        text-align: right;\n",
       "    }\n",
       "</style>\n",
       "<table border=\"1\" class=\"dataframe\">\n",
       "  <thead>\n",
       "    <tr style=\"text-align: right;\">\n",
       "      <th></th>\n",
       "      <th>Restrooms</th>\n",
       "      <th>Showers</th>\n",
       "      <th>Flush_toilet</th>\n",
       "    </tr>\n",
       "    <tr>\n",
       "      <th>UNITNAME</th>\n",
       "      <th></th>\n",
       "      <th></th>\n",
       "      <th></th>\n",
       "    </tr>\n",
       "  </thead>\n",
       "  <tbody>\n",
       "    <tr>\n",
       "      <th>Admiral William Standley SRA</th>\n",
       "      <td>True</td>\n",
       "      <td>False</td>\n",
       "      <td>False</td>\n",
       "    </tr>\n",
       "    <tr>\n",
       "      <th>Angel Island SP</th>\n",
       "      <td>True</td>\n",
       "      <td>True</td>\n",
       "      <td>False</td>\n",
       "    </tr>\n",
       "    <tr>\n",
       "      <th>Antelope Valley California Poppy Preserve (SNR)</th>\n",
       "      <td>True</td>\n",
       "      <td>False</td>\n",
       "      <td>False</td>\n",
       "    </tr>\n",
       "    <tr>\n",
       "      <th>Anza-Borrego Desert SP</th>\n",
       "      <td>True</td>\n",
       "      <td>False</td>\n",
       "      <td>False</td>\n",
       "    </tr>\n",
       "    <tr>\n",
       "      <th>Armstrong Redwoods SNR</th>\n",
       "      <td>True</td>\n",
       "      <td>True</td>\n",
       "      <td>False</td>\n",
       "    </tr>\n",
       "  </tbody>\n",
       "</table>\n",
       "</div>"
      ],
      "text/plain": [
       "                                                 Restrooms  Showers  \\\n",
       "UNITNAME                                                              \n",
       "Admiral William Standley SRA                          True    False   \n",
       "Angel Island SP                                       True     True   \n",
       "Antelope Valley California Poppy Preserve (SNR)       True    False   \n",
       "Anza-Borrego Desert SP                                True    False   \n",
       "Armstrong Redwoods SNR                                True     True   \n",
       "\n",
       "                                                 Flush_toilet  \n",
       "UNITNAME                                                       \n",
       "Admiral William Standley SRA                            False  \n",
       "Angel Island SP                                         False  \n",
       "Antelope Valley California Poppy Preserve (SNR)         False  \n",
       "Anza-Borrego Desert SP                                  False  \n",
       "Armstrong Redwoods SNR                                  False  "
      ]
     },
     "execution_count": 22,
     "metadata": {},
     "output_type": "execute_result"
    }
   ],
   "source": [
    "# Filter out NaN values\n",
    "buildings = buildings[buildings['TYPE'].notna()]\n",
    "\n",
    "# Filter rows and create columns for if restroom or shower\n",
    "restrooms = ['Chemical toilet', \n",
    "             'Combo building', \n",
    "             'Comfort station', \n",
    "             'Comfort station/dressing room', \n",
    "             'Flush toilet', \n",
    "             'Unisex combination building', \n",
    "             'Unisex comfort station', \n",
    "             'Vault toilet']\n",
    "showers = ['Bath house', \n",
    "           'Combo building', \n",
    "           'Shower building', \n",
    "           'Unisex combination building']\n",
    "buildings= buildings[buildings['TYPE'].isin(restrooms + showers)]\n",
    "buildings['Restrooms'] = buildings['TYPE'].isin(restrooms)\n",
    "buildings['Showers'] = buildings['TYPE'].isin(showers)\n",
    "buildings['Flush_toilet'] = buildings['TYPE'] == 'Flush toilet'\n",
    "\n",
    "# Group by campground\n",
    "def any_true(x):\n",
    "    '''Returns true if any values in series is true'''\n",
    "    return x.any()\n",
    "grouped_buildings = buildings.groupby('UNITNAME').agg({'Restrooms': any_true, \n",
    "                                                       'Showers': any_true, \n",
    "                                                       'Flush_toilet': any_true})\n",
    "grouped_buildings.head()"
   ]
  },
  {
   "cell_type": "markdown",
   "id": "baaca4ba",
   "metadata": {},
   "source": [
    "### Parking"
   ]
  },
  {
   "cell_type": "code",
   "execution_count": 23,
   "id": "4a37dec5",
   "metadata": {},
   "outputs": [
    {
     "data": {
      "text/plain": [
       "Vehicle            2108\n",
       "Administrative      114\n",
       "Boat                 47\n",
       "Equestrian           26\n",
       "RV/Bus/Trailer       21\n",
       "Campground Spur       2\n",
       "Name: SUBTYPE, dtype: int64"
      ]
     },
     "execution_count": 23,
     "metadata": {},
     "output_type": "execute_result"
    }
   ],
   "source": [
    "parking['SUBTYPE'].value_counts()"
   ]
  },
  {
   "cell_type": "code",
   "execution_count": 24,
   "id": "5bea6ff5",
   "metadata": {},
   "outputs": [
    {
     "data": {
      "text/html": [
       "<div>\n",
       "<style scoped>\n",
       "    .dataframe tbody tr th:only-of-type {\n",
       "        vertical-align: middle;\n",
       "    }\n",
       "\n",
       "    .dataframe tbody tr th {\n",
       "        vertical-align: top;\n",
       "    }\n",
       "\n",
       "    .dataframe thead th {\n",
       "        text-align: right;\n",
       "    }\n",
       "</style>\n",
       "<table border=\"1\" class=\"dataframe\">\n",
       "  <thead>\n",
       "    <tr style=\"text-align: right;\">\n",
       "      <th></th>\n",
       "      <th>RV Parking</th>\n",
       "      <th>Vehicle Parking</th>\n",
       "      <th>Boat Parking</th>\n",
       "    </tr>\n",
       "    <tr>\n",
       "      <th>UNITNAME</th>\n",
       "      <th></th>\n",
       "      <th></th>\n",
       "      <th></th>\n",
       "    </tr>\n",
       "  </thead>\n",
       "  <tbody>\n",
       "    <tr>\n",
       "      <th>Ahjumawi Lava Springs SP</th>\n",
       "      <td>False</td>\n",
       "      <td>True</td>\n",
       "      <td>False</td>\n",
       "    </tr>\n",
       "    <tr>\n",
       "      <th>Anderson Marsh SHP</th>\n",
       "      <td>False</td>\n",
       "      <td>True</td>\n",
       "      <td>False</td>\n",
       "    </tr>\n",
       "    <tr>\n",
       "      <th>Andrew Molera SP</th>\n",
       "      <td>False</td>\n",
       "      <td>True</td>\n",
       "      <td>False</td>\n",
       "    </tr>\n",
       "    <tr>\n",
       "      <th>Angel Island SP</th>\n",
       "      <td>False</td>\n",
       "      <td>True</td>\n",
       "      <td>False</td>\n",
       "    </tr>\n",
       "    <tr>\n",
       "      <th>Antelope Valley California Poppy Preserve (SNR)</th>\n",
       "      <td>True</td>\n",
       "      <td>True</td>\n",
       "      <td>False</td>\n",
       "    </tr>\n",
       "  </tbody>\n",
       "</table>\n",
       "</div>"
      ],
      "text/plain": [
       "                                                 RV Parking  Vehicle Parking  \\\n",
       "UNITNAME                                                                       \n",
       "Ahjumawi Lava Springs SP                              False             True   \n",
       "Anderson Marsh SHP                                    False             True   \n",
       "Andrew Molera SP                                      False             True   \n",
       "Angel Island SP                                       False             True   \n",
       "Antelope Valley California Poppy Preserve (SNR)        True             True   \n",
       "\n",
       "                                                 Boat Parking  \n",
       "UNITNAME                                                       \n",
       "Ahjumawi Lava Springs SP                                False  \n",
       "Anderson Marsh SHP                                      False  \n",
       "Andrew Molera SP                                        False  \n",
       "Angel Island SP                                         False  \n",
       "Antelope Valley California Poppy Preserve (SNR)         False  "
      ]
     },
     "execution_count": 24,
     "metadata": {},
     "output_type": "execute_result"
    }
   ],
   "source": [
    "parking['RV Parking'] = parking['SUBTYPE'] == 'RV/Bus/Trailer'\n",
    "parking['Vehicle Parking'] = parking['SUBTYPE'] == 'Vehicle'\n",
    "parking['Boat Parking'] = parking['SUBTYPE'] == 'Boat'\n",
    "\n",
    "grouped_parking = parking.groupby('UNITNAME').agg({'RV Parking': any_true, \n",
    "                                                       'Vehicle Parking': any_true, \n",
    "                                                       'Boat Parking': any_true})\n",
    "grouped_parking.head()"
   ]
  },
  {
   "cell_type": "markdown",
   "id": "ae5195b9",
   "metadata": {},
   "source": [
    "### Campgrounds"
   ]
  },
  {
   "cell_type": "code",
   "execution_count": 25,
   "id": "baac3184",
   "metadata": {},
   "outputs": [
    {
     "data": {
      "text/plain": [
       "Developed Family Camp Area    198\n",
       "Developed Group Camp Area      82\n",
       "Primitive Family Camp Area     78\n",
       "Environmental Camp Area        54\n",
       "Hike/Bike Camp Area            40\n",
       "Undefined                      25\n",
       "Horse Camp Area                18\n",
       "Primitive Group Camp Area      17\n",
       "Enroute Camp Area               8\n",
       "Walk-in Camp Area               1\n",
       "Name: TYPE, dtype: int64"
      ]
     },
     "execution_count": 25,
     "metadata": {},
     "output_type": "execute_result"
    }
   ],
   "source": [
    "campgrounds['TYPE'].value_counts()"
   ]
  },
  {
   "cell_type": "code",
   "execution_count": 26,
   "id": "0838c2b7",
   "metadata": {},
   "outputs": [
    {
     "data": {
      "text/html": [
       "<div>\n",
       "<style scoped>\n",
       "    .dataframe tbody tr th:only-of-type {\n",
       "        vertical-align: middle;\n",
       "    }\n",
       "\n",
       "    .dataframe tbody tr th {\n",
       "        vertical-align: top;\n",
       "    }\n",
       "\n",
       "    .dataframe thead th {\n",
       "        text-align: right;\n",
       "    }\n",
       "</style>\n",
       "<table border=\"1\" class=\"dataframe\">\n",
       "  <thead>\n",
       "    <tr style=\"text-align: right;\">\n",
       "      <th></th>\n",
       "      <th>FID</th>\n",
       "      <th>Campground</th>\n",
       "      <th>GISID</th>\n",
       "      <th>TYPE</th>\n",
       "      <th>SUBTYPE</th>\n",
       "      <th>UNITNBR</th>\n",
       "      <th>DETAIL</th>\n",
       "      <th>UNITNAME</th>\n",
       "      <th>SHARE</th>\n",
       "      <th>GlobalID</th>\n",
       "      <th>WHAT3WORD_</th>\n",
       "      <th>geometry</th>\n",
       "      <th>Primitive</th>\n",
       "      <th>Developed</th>\n",
       "      <th>Horse</th>\n",
       "      <th>RV Parking</th>\n",
       "      <th>Vehicle Parking</th>\n",
       "      <th>Boat Parking</th>\n",
       "    </tr>\n",
       "  </thead>\n",
       "  <tbody>\n",
       "    <tr>\n",
       "      <th>0</th>\n",
       "      <td>2074</td>\n",
       "      <td>Ritchey Creek Campground</td>\n",
       "      <td>GIS0006395</td>\n",
       "      <td>Developed Family Camp Area</td>\n",
       "      <td>None</td>\n",
       "      <td>240</td>\n",
       "      <td>Ritchey Creek Campground</td>\n",
       "      <td>Bothe-Napa Valley SP</td>\n",
       "      <td>None</td>\n",
       "      <td>{AC98673D-5387-4783-BB72-ED2987FA86AE}</td>\n",
       "      <td>camels.just.continues</td>\n",
       "      <td>POINT (-13639496.195 4657348.494)</td>\n",
       "      <td>False</td>\n",
       "      <td>True</td>\n",
       "      <td>False</td>\n",
       "      <td>False</td>\n",
       "      <td>True</td>\n",
       "      <td>False</td>\n",
       "    </tr>\n",
       "    <tr>\n",
       "      <th>1</th>\n",
       "      <td>2075</td>\n",
       "      <td>Bothe-Napa Valley Group Camp</td>\n",
       "      <td>GIS0006396</td>\n",
       "      <td>Developed Group Camp Area</td>\n",
       "      <td>None</td>\n",
       "      <td>240</td>\n",
       "      <td>Bothe-Napa Valley Group Camp</td>\n",
       "      <td>Bothe-Napa Valley SP</td>\n",
       "      <td>None</td>\n",
       "      <td>{196BF388-E240-49EC-A361-4330849D07E8}</td>\n",
       "      <td>decline.awards.thinnest</td>\n",
       "      <td>POINT (-13638520.925 4657386.784)</td>\n",
       "      <td>False</td>\n",
       "      <td>True</td>\n",
       "      <td>False</td>\n",
       "      <td>False</td>\n",
       "      <td>True</td>\n",
       "      <td>False</td>\n",
       "    </tr>\n",
       "    <tr>\n",
       "      <th>2</th>\n",
       "      <td>2076</td>\n",
       "      <td>Brannan Island Group Camp</td>\n",
       "      <td>GIS0006398</td>\n",
       "      <td>Developed Group Camp Area</td>\n",
       "      <td>None</td>\n",
       "      <td>314</td>\n",
       "      <td>Brannan Island Group Camp</td>\n",
       "      <td>Brannan Island SRA</td>\n",
       "      <td>None</td>\n",
       "      <td>{D089D94A-75A3-409E-8B95-613D918F27C5}</td>\n",
       "      <td>lighter.milked.spell</td>\n",
       "      <td>POINT (-13546051.275 4596380.365)</td>\n",
       "      <td>False</td>\n",
       "      <td>True</td>\n",
       "      <td>False</td>\n",
       "      <td>False</td>\n",
       "      <td>True</td>\n",
       "      <td>True</td>\n",
       "    </tr>\n",
       "    <tr>\n",
       "      <th>3</th>\n",
       "      <td>2077</td>\n",
       "      <td>Walk-in Campsites</td>\n",
       "      <td>GIS0006399</td>\n",
       "      <td>Developed Family Camp Area</td>\n",
       "      <td>None</td>\n",
       "      <td>314</td>\n",
       "      <td>Walk-in  Campsites</td>\n",
       "      <td>Brannan Island SRA</td>\n",
       "      <td>None</td>\n",
       "      <td>{C880DECC-2000-48C3-953E-B6AD4C29B49C}</td>\n",
       "      <td>ranch.newts.rented</td>\n",
       "      <td>POINT (-13546394.584 4595659.599)</td>\n",
       "      <td>False</td>\n",
       "      <td>True</td>\n",
       "      <td>False</td>\n",
       "      <td>False</td>\n",
       "      <td>True</td>\n",
       "      <td>True</td>\n",
       "    </tr>\n",
       "    <tr>\n",
       "      <th>4</th>\n",
       "      <td>2078</td>\n",
       "      <td>North Grove Campground</td>\n",
       "      <td>GIS0006400</td>\n",
       "      <td>Developed Family Camp Area</td>\n",
       "      <td>None</td>\n",
       "      <td>306</td>\n",
       "      <td>North Grove Campground</td>\n",
       "      <td>Calaveras Big Trees SP</td>\n",
       "      <td>None</td>\n",
       "      <td>{3C9F0EA0-DB71-479E-9486-C45DDB6C579E}</td>\n",
       "      <td>fantasy.incomplete.whistle</td>\n",
       "      <td>POINT (-13392613.832 4618511.183)</td>\n",
       "      <td>False</td>\n",
       "      <td>True</td>\n",
       "      <td>False</td>\n",
       "      <td>False</td>\n",
       "      <td>True</td>\n",
       "      <td>False</td>\n",
       "    </tr>\n",
       "  </tbody>\n",
       "</table>\n",
       "</div>"
      ],
      "text/plain": [
       "    FID                    Campground       GISID                        TYPE  \\\n",
       "0  2074      Ritchey Creek Campground  GIS0006395  Developed Family Camp Area   \n",
       "1  2075  Bothe-Napa Valley Group Camp  GIS0006396   Developed Group Camp Area   \n",
       "2  2076     Brannan Island Group Camp  GIS0006398   Developed Group Camp Area   \n",
       "3  2077             Walk-in Campsites  GIS0006399  Developed Family Camp Area   \n",
       "4  2078        North Grove Campground  GIS0006400  Developed Family Camp Area   \n",
       "\n",
       "  SUBTYPE UNITNBR                        DETAIL                UNITNAME SHARE  \\\n",
       "0    None     240      Ritchey Creek Campground    Bothe-Napa Valley SP  None   \n",
       "1    None     240  Bothe-Napa Valley Group Camp    Bothe-Napa Valley SP  None   \n",
       "2    None     314     Brannan Island Group Camp      Brannan Island SRA  None   \n",
       "3    None     314            Walk-in  Campsites      Brannan Island SRA  None   \n",
       "4    None     306        North Grove Campground  Calaveras Big Trees SP  None   \n",
       "\n",
       "                                 GlobalID                  WHAT3WORD_  \\\n",
       "0  {AC98673D-5387-4783-BB72-ED2987FA86AE}       camels.just.continues   \n",
       "1  {196BF388-E240-49EC-A361-4330849D07E8}     decline.awards.thinnest   \n",
       "2  {D089D94A-75A3-409E-8B95-613D918F27C5}        lighter.milked.spell   \n",
       "3  {C880DECC-2000-48C3-953E-B6AD4C29B49C}          ranch.newts.rented   \n",
       "4  {3C9F0EA0-DB71-479E-9486-C45DDB6C579E}  fantasy.incomplete.whistle   \n",
       "\n",
       "                            geometry  Primitive  Developed  Horse RV Parking  \\\n",
       "0  POINT (-13639496.195 4657348.494)      False       True  False      False   \n",
       "1  POINT (-13638520.925 4657386.784)      False       True  False      False   \n",
       "2  POINT (-13546051.275 4596380.365)      False       True  False      False   \n",
       "3  POINT (-13546394.584 4595659.599)      False       True  False      False   \n",
       "4  POINT (-13392613.832 4618511.183)      False       True  False      False   \n",
       "\n",
       "  Vehicle Parking Boat Parking  \n",
       "0            True        False  \n",
       "1            True        False  \n",
       "2            True         True  \n",
       "3            True         True  \n",
       "4            True        False  "
      ]
     },
     "execution_count": 26,
     "metadata": {},
     "output_type": "execute_result"
    }
   ],
   "source": [
    "# Filter na values\n",
    "campgrounds = campgrounds[campgrounds['TYPE'].notna()]\n",
    "campgrounds = campgrounds[campgrounds['DETAIL'] != 'Proposed']\n",
    "\n",
    "# Create columns for different types of camping\n",
    "campgrounds['Primitive'] = campgrounds['TYPE'].str.contains('Primitive')\n",
    "campgrounds['Developed'] = campgrounds['TYPE'].str.contains('Developed')\n",
    "campgrounds['Horse'] = campgrounds['TYPE'] == 'Horse Camp Area'\n",
    "\n",
    "campgrounds_merged = campgrounds.merge(grouped_buildings, on='UNITNAME', how='left')\n",
    "campgrounds_merged = campgrounds.merge(grouped_parking, on='UNITNAME', how='left')\n",
    "campgrounds_merged.head()"
   ]
  },
  {
   "cell_type": "code",
   "execution_count": 30,
   "id": "df34071f",
   "metadata": {},
   "outputs": [
    {
     "data": {
      "text/plain": [
       "<Derived Projected CRS: EPSG:3857>\n",
       "Name: WGS 84 / Pseudo-Mercator\n",
       "Axis Info [cartesian]:\n",
       "- X[east]: Easting (metre)\n",
       "- Y[north]: Northing (metre)\n",
       "Area of Use:\n",
       "- name: World between 85.06°S and 85.06°N.\n",
       "- bounds: (-180.0, -85.06, 180.0, 85.06)\n",
       "Coordinate Operation:\n",
       "- name: Popular Visualisation Pseudo-Mercator\n",
       "- method: Popular Visualisation Pseudo Mercator\n",
       "Datum: World Geodetic System 1984 ensemble\n",
       "- Ellipsoid: WGS 84\n",
       "- Prime Meridian: Greenwich"
      ]
     },
     "execution_count": 30,
     "metadata": {},
     "output_type": "execute_result"
    }
   ],
   "source": [
    "campgrounds_merged.crs"
   ]
  },
  {
   "cell_type": "code",
   "execution_count": 38,
   "id": "ab40da10",
   "metadata": {},
   "outputs": [
    {
     "data": {
      "text/html": [
       "<div class=\"item_container\" style=\"height: auto; overflow: hidden; border: 1px solid #cfcfcf; border-radius: 2px; background: #f6fafa; line-height: 1.21429em; padding: 10px;\">\n",
       "                    <div class=\"item_left\" style=\"width: 210px; float: left;\">\n",
       "                       <a href='https://UCSDOnline.maps.arcgis.com/home/item.html?id=ca9f049f3f5a43379875a58ea87efc1e' target='_blank'>\n",
       "                        <img src='http://static.arcgis.com/images/desktopapp.png' class=\"itemThumbnail\">\n",
       "                       </a>\n",
       "                    </div>\n",
       "\n",
       "                    <div class=\"item_right\"     style=\"float: none; width: auto; overflow: hidden;\">\n",
       "                        <a href='https://UCSDOnline.maps.arcgis.com/home/item.html?id=ca9f049f3f5a43379875a58ea87efc1e' target='_blank'><b>CA State Campgrounds</b>\n",
       "                        </a>\n",
       "                        <br/><img src='https://UCSDOnline.maps.arcgis.com/home/js/jsapi/esri/css/images/item_type_icons/featureshosted16.png' style=\"vertical-align:middle;\" width=16 height=16>Feature Layer Collection by dsc170wi24_44\n",
       "                        <br/>Last Modified: March 12, 2024\n",
       "                        <br/>0 comments, 0 views\n",
       "                    </div>\n",
       "                </div>\n",
       "                "
      ],
      "text/plain": [
       "<Item title:\"CA State Campgrounds\" type:Feature Layer Collection owner:dsc170wi24_44>"
      ]
     },
     "execution_count": 38,
     "metadata": {},
     "output_type": "execute_result"
    }
   ],
   "source": [
    "# Upload as feature layer\n",
    "# campgrounds_sdf = GeoAccessor.from_geodataframe(campgrounds_merged, inplace=False, column_name='SHAPE')\n",
    "# campgrounds_fl = campgrounds_sdf.spatial.to_featurelayer(title='CA State Campgrounds',\n",
    "#                                                          gis=gis,\n",
    "#                                                          tags='Camping')\n",
    "\n",
    "# Get feature layer\n",
    "campgroundds_fl = gis.content.get('ca9f049f3f5a43379875a58ea87efc1e')\n",
    "campgrounds_fl"
   ]
  },
  {
   "cell_type": "code",
   "execution_count": 40,
   "id": "687a262e",
   "metadata": {
    "scrolled": true
   },
   "outputs": [
    {
     "data": {
      "application/vnd.jupyter.widget-view+json": {
       "model_id": "20572c88a0bf4d8e8926a200d4883df5",
       "version_major": 2,
       "version_minor": 0
      },
      "text/plain": [
       "MapView(layout=Layout(height='400px', width='100%'))"
      ]
     },
     "metadata": {},
     "output_type": "display_data"
    },
    {
     "data": {
      "text/html": [
       "<div class=\"map-static-img-preview-86037f63-e34d-4c84-82ee-1b0a300cc41e\"><img src=\"\"></img></div>"
      ],
      "text/plain": [
       "<IPython.core.display.HTML object>"
      ]
     },
     "metadata": {},
     "output_type": "display_data"
    },
    {
     "data": {
      "text/html": [
       "<div class=\"map-html-embed-preview-86037f63-e34d-4c84-82ee-1b0a300cc41e\"></div>"
      ],
      "text/plain": [
       "<IPython.core.display.HTML object>"
      ]
     },
     "metadata": {},
     "output_type": "display_data"
    }
   ],
   "source": [
    "camp_map = gis.map('California, US')\n",
    "camp_map.add_layer(campgrounds_fl)\n",
    "camp_map"
   ]
  },
  {
   "cell_type": "markdown",
   "id": "65a7507a",
   "metadata": {},
   "source": [
    "### Recreational Routes"
   ]
  },
  {
   "cell_type": "code",
   "execution_count": 49,
   "id": "d7e662a3",
   "metadata": {},
   "outputs": [
    {
     "data": {
      "text/html": [
       "<div>\n",
       "<style scoped>\n",
       "    .dataframe tbody tr th:only-of-type {\n",
       "        vertical-align: middle;\n",
       "    }\n",
       "\n",
       "    .dataframe tbody tr th {\n",
       "        vertical-align: top;\n",
       "    }\n",
       "\n",
       "    .dataframe thead th {\n",
       "        text-align: right;\n",
       "    }\n",
       "</style>\n",
       "<table border=\"1\" class=\"dataframe\">\n",
       "  <thead>\n",
       "    <tr style=\"text-align: right;\">\n",
       "      <th></th>\n",
       "      <th>FID</th>\n",
       "      <th>ROUTENAME</th>\n",
       "      <th>GISID</th>\n",
       "      <th>ROUTECLASS</th>\n",
       "      <th>UNITNBR</th>\n",
       "      <th>UNITNAME</th>\n",
       "      <th>ROUTECAT</th>\n",
       "      <th>ROUTETYPE</th>\n",
       "      <th>SEGLNGTH</th>\n",
       "      <th>SHARE</th>\n",
       "      <th>Shape_Leng</th>\n",
       "      <th>GlobalID</th>\n",
       "      <th>SHAPE_Le_1</th>\n",
       "      <th>geometry</th>\n",
       "    </tr>\n",
       "  </thead>\n",
       "  <tbody>\n",
       "    <tr>\n",
       "      <th>72</th>\n",
       "      <td>23311</td>\n",
       "      <td>LAP</td>\n",
       "      <td>GIS0075760</td>\n",
       "      <td>State Park Road</td>\n",
       "      <td>521</td>\n",
       "      <td>Hungry Valley SVRA</td>\n",
       "      <td>Primitive Rd</td>\n",
       "      <td>Native Material</td>\n",
       "      <td>1100.0</td>\n",
       "      <td>Public</td>\n",
       "      <td>407.877932</td>\n",
       "      <td>{17C364FB-E0F6-43A8-8A82-B50C262D6F41}</td>\n",
       "      <td>407.877932</td>\n",
       "      <td>LINESTRING Z (-13226060.142 4131594.839 0.000,...</td>\n",
       "    </tr>\n",
       "    <tr>\n",
       "      <th>421</th>\n",
       "      <td>23660</td>\n",
       "      <td>Lava Springs Trail</td>\n",
       "      <td>GIS0128939</td>\n",
       "      <td>State Park Trail</td>\n",
       "      <td>190</td>\n",
       "      <td>Ahjumawi Lava Springs SP</td>\n",
       "      <td>None</td>\n",
       "      <td>Native Material</td>\n",
       "      <td>9047.0</td>\n",
       "      <td>Public</td>\n",
       "      <td>2552.327716</td>\n",
       "      <td>{DD5C3862-F726-440D-AF67-07CB6CFA5F9E}</td>\n",
       "      <td>2552.327716</td>\n",
       "      <td>LINESTRING Z (-13520639.129 5028652.868 0.000,...</td>\n",
       "    </tr>\n",
       "    <tr>\n",
       "      <th>425</th>\n",
       "      <td>23664</td>\n",
       "      <td>Nightmare Gulch</td>\n",
       "      <td>GIS0070250</td>\n",
       "      <td>State Park Road</td>\n",
       "      <td>577</td>\n",
       "      <td>Red Rock Canyon SP</td>\n",
       "      <td>Primitive Rd</td>\n",
       "      <td>Native Material</td>\n",
       "      <td>852.0</td>\n",
       "      <td>Public</td>\n",
       "      <td>1274.654037</td>\n",
       "      <td>{44DB3AF1-7AB9-4489-BA86-00202D1AF012}</td>\n",
       "      <td>1274.654037</td>\n",
       "      <td>LINESTRING Z (-13129998.876 4216458.724 0.000,...</td>\n",
       "    </tr>\n",
       "    <tr>\n",
       "      <th>426</th>\n",
       "      <td>23665</td>\n",
       "      <td>Nightmare Gulch turn around area</td>\n",
       "      <td>GIS0070251</td>\n",
       "      <td>State Park Road</td>\n",
       "      <td>577</td>\n",
       "      <td>Red Rock Canyon SP</td>\n",
       "      <td>Primitive Rd</td>\n",
       "      <td>Native Material</td>\n",
       "      <td>258.0</td>\n",
       "      <td>Public</td>\n",
       "      <td>92.928927</td>\n",
       "      <td>{8B563CED-2C5F-4AF7-8313-24E90838660E}</td>\n",
       "      <td>92.928927</td>\n",
       "      <td>LINESTRING Z (-13131843.769 4215224.907 0.000,...</td>\n",
       "    </tr>\n",
       "    <tr>\n",
       "      <th>428</th>\n",
       "      <td>23667</td>\n",
       "      <td>Last Chance Canyon Rd</td>\n",
       "      <td>GIS0070263</td>\n",
       "      <td>State Park Road</td>\n",
       "      <td>577</td>\n",
       "      <td>Red Rock Canyon SP</td>\n",
       "      <td>Primitive Rd</td>\n",
       "      <td>Native Material</td>\n",
       "      <td>853.0</td>\n",
       "      <td>Public</td>\n",
       "      <td>5825.074481</td>\n",
       "      <td>{21B0EF1B-E76F-463A-B791-4A4657B35E8F}</td>\n",
       "      <td>5825.074481</td>\n",
       "      <td>LINESTRING Z (-13127171.707 4218337.212 0.000,...</td>\n",
       "    </tr>\n",
       "  </tbody>\n",
       "</table>\n",
       "</div>"
      ],
      "text/plain": [
       "       FID                         ROUTENAME       GISID        ROUTECLASS  \\\n",
       "72   23311                               LAP  GIS0075760   State Park Road   \n",
       "421  23660                Lava Springs Trail  GIS0128939  State Park Trail   \n",
       "425  23664                   Nightmare Gulch  GIS0070250   State Park Road   \n",
       "426  23665  Nightmare Gulch turn around area  GIS0070251   State Park Road   \n",
       "428  23667             Last Chance Canyon Rd  GIS0070263   State Park Road   \n",
       "\n",
       "    UNITNBR                  UNITNAME      ROUTECAT        ROUTETYPE  \\\n",
       "72      521        Hungry Valley SVRA  Primitive Rd  Native Material   \n",
       "421     190  Ahjumawi Lava Springs SP          None  Native Material   \n",
       "425     577        Red Rock Canyon SP  Primitive Rd  Native Material   \n",
       "426     577        Red Rock Canyon SP  Primitive Rd  Native Material   \n",
       "428     577        Red Rock Canyon SP  Primitive Rd  Native Material   \n",
       "\n",
       "     SEGLNGTH   SHARE   Shape_Leng                                GlobalID  \\\n",
       "72     1100.0  Public   407.877932  {17C364FB-E0F6-43A8-8A82-B50C262D6F41}   \n",
       "421    9047.0  Public  2552.327716  {DD5C3862-F726-440D-AF67-07CB6CFA5F9E}   \n",
       "425     852.0  Public  1274.654037  {44DB3AF1-7AB9-4489-BA86-00202D1AF012}   \n",
       "426     258.0  Public    92.928927  {8B563CED-2C5F-4AF7-8313-24E90838660E}   \n",
       "428     853.0  Public  5825.074481  {21B0EF1B-E76F-463A-B791-4A4657B35E8F}   \n",
       "\n",
       "      SHAPE_Le_1                                           geometry  \n",
       "72    407.877932  LINESTRING Z (-13226060.142 4131594.839 0.000,...  \n",
       "421  2552.327716  LINESTRING Z (-13520639.129 5028652.868 0.000,...  \n",
       "425  1274.654037  LINESTRING Z (-13129998.876 4216458.724 0.000,...  \n",
       "426    92.928927  LINESTRING Z (-13131843.769 4215224.907 0.000,...  \n",
       "428  5825.074481  LINESTRING Z (-13127171.707 4218337.212 0.000,...  "
      ]
     },
     "execution_count": 49,
     "metadata": {},
     "output_type": "execute_result"
    }
   ],
   "source": [
    "routes = routes[routes['SHARE'] == 'Public']\n",
    "routes.hea"
   ]
  },
  {
   "cell_type": "code",
   "execution_count": 54,
   "id": "6fbd545a",
   "metadata": {},
   "outputs": [
    {
     "data": {
      "text/html": [
       "<div class=\"item_container\" style=\"height: auto; overflow: hidden; border: 1px solid #cfcfcf; border-radius: 2px; background: #f6fafa; line-height: 1.21429em; padding: 10px;\">\n",
       "                    <div class=\"item_left\" style=\"width: 210px; float: left;\">\n",
       "                       <a href='https://UCSDOnline.maps.arcgis.com/home/item.html?id=a789dc2099c24e659c5829cab5beac2c' target='_blank'>\n",
       "                        <img src='data:image/png;base64,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' width='200' height='133' class=\"itemThumbnail\">\n",
       "                       </a>\n",
       "                    </div>\n",
       "\n",
       "                    <div class=\"item_right\"     style=\"float: none; width: auto; overflow: hidden;\">\n",
       "                        <a href='https://UCSDOnline.maps.arcgis.com/home/item.html?id=a789dc2099c24e659c5829cab5beac2c' target='_blank'><b>State Park Trails</b>\n",
       "                        </a>\n",
       "                        <br/><img src='https://UCSDOnline.maps.arcgis.com/home/js/jsapi/esri/css/images/item_type_icons/featureshosted16.png' style=\"vertical-align:middle;\" width=16 height=16>Feature Layer Collection by dsc170wi24_44\n",
       "                        <br/>Last Modified: March 12, 2024\n",
       "                        <br/>0 comments, 5 views\n",
       "                    </div>\n",
       "                </div>\n",
       "                "
      ],
      "text/plain": [
       "<Item title:\"State Park Trails\" type:Feature Layer Collection owner:dsc170wi24_44>"
      ]
     },
     "execution_count": 54,
     "metadata": {},
     "output_type": "execute_result"
    }
   ],
   "source": [
    "# # Upload as feature layer\n",
    "# routes_sdf = GeoAccessor.from_geodataframe(routes, inplace=False, column_name='SHAPE')\n",
    "# routes_fl = routes_sdf.spatial.to_featurelayer(title='State Park Trails',\n",
    "#                                                          gis=gis,\n",
    "#                                                          tags='Camping')\n",
    "\n",
    "#Get feature layer\n",
    "routes_fl = gis.content.get('a789dc2099c24e659c5829cab5beac2c')\n",
    "routes_fl"
   ]
  },
  {
   "cell_type": "code",
   "execution_count": 55,
   "id": "0b23e976",
   "metadata": {},
   "outputs": [
    {
     "data": {
      "application/vnd.jupyter.widget-view+json": {
       "model_id": "a76b0b992dca4ffe815f3aba0c670879",
       "version_major": 2,
       "version_minor": 0
      },
      "text/plain": [
       "MapView(layout=Layout(height='400px', width='100%'))"
      ]
     },
     "metadata": {},
     "output_type": "display_data"
    },
    {
     "data": {
      "text/html": [
       "<div class=\"map-static-img-preview-9db076de-8de6-410c-9e86-b6a5b32a82b1\"><img src=\"\"></img></div>"
      ],
      "text/plain": [
       "<IPython.core.display.HTML object>"
      ]
     },
     "metadata": {},
     "output_type": "display_data"
    },
    {
     "data": {
      "text/html": [
       "<div class=\"map-html-embed-preview-9db076de-8de6-410c-9e86-b6a5b32a82b1\"></div>"
      ],
      "text/plain": [
       "<IPython.core.display.HTML object>"
      ]
     },
     "metadata": {},
     "output_type": "display_data"
    }
   ],
   "source": [
    "trail_map = gis.map('California, US')\n",
    "camp_map.add_layer(routes_fl)\n",
    "camp_map"
   ]
  },
  {
   "cell_type": "markdown",
   "id": "72df77a3",
   "metadata": {},
   "source": [
    "--------------------------------------------------------------------------------------"
   ]
  },
  {
   "cell_type": "markdown",
   "id": "f0a6013e",
   "metadata": {},
   "source": [
    "## Analysis"
   ]
  },
  {
   "cell_type": "markdown",
   "id": "2356f323",
   "metadata": {},
   "source": [
    "***TODO***\n",
    "\n",
    "Provide a general outline of your analysis (in a markdown), and then document it step by step\n",
    "as you code the solution. Please make sure that we can reproduce your analysis by running\n",
    "your notebook. As before, a diagram describing your workflow would be helpful.\n",
    "\n",
    "Please also reflect on how your actual analysis steps were different compared to your project\n",
    "proposal - or state that you didn’t deviate from the initial plan.\n",
    "\n",
    "(a combination of markdown and documented code cells)\n",
    "(at least 500 words)"
   ]
  },
  {
   "cell_type": "code",
   "execution_count": null,
   "id": "18a3ddc0",
   "metadata": {},
   "outputs": [],
   "source": []
  },
  {
   "cell_type": "markdown",
   "id": "7b354031",
   "metadata": {},
   "source": [
    "--------------------------------------------------------------------------------------"
   ]
  },
  {
   "cell_type": "markdown",
   "id": "7ea4b29c",
   "metadata": {},
   "source": [
    "## Results"
   ]
  },
  {
   "cell_type": "markdown",
   "id": "f0db91ff",
   "metadata": {},
   "source": [
    "***TODO***\n",
    "\n",
    "Describe what you found, and why it is important; illustrate the findings with maps/charts\n",
    "reflecting your results.\n",
    "\n",
    "(a combination of markdown and documented code cells)\n",
    "\n",
    "(200 words)"
   ]
  },
  {
   "cell_type": "markdown",
   "id": "a6067c2d",
   "metadata": {},
   "source": [
    "## Discussion"
   ]
  },
  {
   "cell_type": "markdown",
   "id": "2c02320a",
   "metadata": {},
   "source": [
    "The discussion should include the following parts:\n",
    "1) Discuss your findings with respect to the literature sources in section 3. What do the\n",
    "results mean in the context of what is already known? What is new? Does it validate\n",
    "what was found in literature? How do your results improve our understanding of the\n",
    "problem?\n",
    "\n",
    "2) Of particular importance is a discussion of any trade-offs and decision points that you\n",
    "had to consider. This may include a discussion of any performance issues, width of\n",
    "buffers you applied, projections you chose, spatial operations you used, machine\n",
    "learning techniques, and other issues we discussed in class.\n",
    "(this can be done as a markdown, at least 200 words)"
   ]
  },
  {
   "cell_type": "markdown",
   "id": "12a899e8",
   "metadata": {},
   "source": [
    "## Conclusions and Future Work"
   ]
  },
  {
   "cell_type": "markdown",
   "id": "0fab2f3d",
   "metadata": {},
   "source": [
    "Did you manage to completely answer your initial research question? If not, what additional\n",
    "data and additional analysis steps can you think of? Can your approach be extended to other\n",
    "areas or topics, and use additional datasets? How do you expect the results to be used and by\n",
    "whom?\n",
    "\n",
    "(a markdown cell, at least 200 words)\n"
   ]
  },
  {
   "cell_type": "code",
   "execution_count": null,
   "id": "372e9483",
   "metadata": {},
   "outputs": [],
   "source": []
  }
 ],
 "metadata": {
  "kernelspec": {
   "display_name": "Python 3 (clean)",
   "language": "python",
   "name": "python3_clean"
  },
  "language_info": {
   "codemirror_mode": {
    "name": "ipython",
    "version": 3
   },
   "file_extension": ".py",
   "mimetype": "text/x-python",
   "name": "python",
   "nbconvert_exporter": "python",
   "pygments_lexer": "ipython3",
   "version": "3.9.5"
  }
 },
 "nbformat": 4,
 "nbformat_minor": 5
}
