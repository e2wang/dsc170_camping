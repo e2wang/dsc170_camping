{
 "cells": [
  {
   "cell_type": "markdown",
   "id": "d16cabdb",
   "metadata": {},
   "source": [
    "--------------------------------------------------------------------------------------\n",
    "\n",
    "* Team member names: Elsie Wang, Hou Wan\n",
    "\n",
    "* Team member IDs: A16655032, A16462095\n",
    "\n",
    "--------------------------------------------------------------------------------------"
   ]
  },
  {
   "cell_type": "markdown",
   "id": "9d281a75",
   "metadata": {},
   "source": [
    "# Optimizing Camping Spots with OpenAI and ArcGIS"
   ]
  },
  {
   "cell_type": "markdown",
   "id": "c780dcaa",
   "metadata": {},
   "source": [
    "## Introduction"
   ]
  },
  {
   "cell_type": "markdown",
   "id": "63fd2499",
   "metadata": {},
   "source": [
    "***TODO***\n",
    "\n",
    "Question(s) you addressed, why it is important (5pt)\n",
    "\n",
    "As in your project proposal, describe the intended audience and the business case for finding a\n",
    "solution to your question.\n",
    "\n",
    "If your question changed significantly compared to your project proposal, please explain.\n",
    "(format this as a markdown cell)\n",
    "\n",
    "(at least 250 words):\n"
   ]
  },
  {
   "cell_type": "markdown",
   "id": "f6774942",
   "metadata": {},
   "source": [
    "### Related Work"
   ]
  },
  {
   "cell_type": "markdown",
   "id": "36b1319b",
   "metadata": {},
   "source": [
    "***TODO***\n",
    "\n",
    "At least 4 bibliographic references (with links) relevant to your question. These don’t have to be\n",
    "new references; you can continue what you started in your project proposal. As before, the\n",
    "references can include research publications, online articles, blogs, github repos, online\n",
    "applications, etc.\n",
    "\n",
    "As a new element of this section, reflect on how these references helped you specify the\n",
    "problem more narrowly, or focus on a specific hypothesis, or question conclusions they made,\n",
    "or improve over previously available code.\n",
    "(format this as a markdown cell)\n",
    "\n",
    "(at least 200 words)"
   ]
  },
  {
   "cell_type": "markdown",
   "id": "dbca5030",
   "metadata": {},
   "source": [
    "### Python Packages"
   ]
  },
  {
   "cell_type": "markdown",
   "id": "bc4961fe",
   "metadata": {},
   "source": [
    "***TODO***\n",
    "\n",
    "Make this a brief list – but also mention whether and how this list has evolved compared to the\n",
    "project proposal.\n",
    "\n",
    "In your notebook: identify and describe the libraries as you import them, using a combination\n",
    "of markdown and code cells.\n",
    "\n",
    "(at least 100 words)"
   ]
  },
  {
   "cell_type": "markdown",
   "id": "1f385391",
   "metadata": {},
   "source": [
    "### References"
   ]
  },
  {
   "cell_type": "markdown",
   "id": "23533a84",
   "metadata": {},
   "source": [
    "***TODO***\n",
    "\n",
    "Include a URL and a one-sentence description of each source you used. Make sure you have\n",
    "enough records for your machine learning application.\n",
    "\n",
    "Please reflect on how your choice of sources evolved since the proposal phase, and any\n",
    "concerns about the sources you used - related to data quality, provenance, access constraints,\n",
    "etc. Also, reflect on any data that would be helpful to address your research question, which\n",
    "you could not obtain (and why). Be creative! There is a lot of additional information, sometimes\n",
    "from less traditional sources, that may help.\n",
    "\n",
    "When you create a notebook, identify and describe the datasets as you load them. If the\n",
    "sources are in AGOL, provide source IDs, and/or load them using gis.content.get. Provide\n",
    "additional discussion in a markdown cell.\n",
    "\n",
    "(at least 200 words)\n"
   ]
  },
  {
   "cell_type": "markdown",
   "id": "e7e33445",
   "metadata": {},
   "source": [
    "\n",
    "\n"
   ]
  },
  {
   "cell_type": "markdown",
   "id": "61108479",
   "metadata": {},
   "source": [
    "--------------------------------------------------------------------------------------"
   ]
  },
  {
   "cell_type": "code",
   "execution_count": 7,
   "id": "67bdc826",
   "metadata": {},
   "outputs": [],
   "source": [
    "# Import statements, etc.\n",
    "import warnings\n",
    "warnings.filterwarnings(\"ignore\")\n",
    "\n",
    "from json import load\n",
    "import os\n",
    "import pandas as pd\n",
    "import geopandas as gpd\n",
    "import numpy as np\n",
    "\n",
    "import arcgis\n",
    "from arcgis.gis import GIS\n",
    "from arcgis.raster.functions import *\n",
    "from ipywidgets import *\n",
    "from IPython.display import display\n",
    "from arcgis.geocoding import geocode\n",
    "from arcgis.geometry import *\n",
    "from arcgis.features import GeoAccessor\n",
    "\n",
    "# Used with github repo\n",
    "LOGIN = load(open('./login.json', 'r'))\n",
    "gis = GIS(username=LOGIN['username'], password=LOGIN['password'])\n",
    "\n",
    "# TODO: Replace above with this in final notebook\n",
    "# import getpass\n",
    "# username = input('Enter username: ')\n",
    "# password = getpass.getpass(\"Enter password: \")\n",
    "# gis = GIS(username=username, password=password)"
   ]
  },
  {
   "cell_type": "markdown",
   "id": "4dad5a05",
   "metadata": {},
   "source": [
    "## Data Cleaning"
   ]
  },
  {
   "cell_type": "markdown",
   "id": "0262116d",
   "metadata": {},
   "source": [
    "***TODO***\n",
    "\n",
    "Describe the cleaning/wrangling operations that you performed, and whether you realized you\n",
    "needed to clean the data by examining metadata documents or by introspecting the data itself.\n",
    "Was the amount of cleaning/data preparation similar to what you expected when writing\n",
    "project proposal?\n",
    "\n",
    "Organize the discussion and code as a combination of markdown and code cells.\n",
    "(at least 100 words – less if you didn’t have to do any cleaning!)"
   ]
  },
  {
   "cell_type": "markdown",
   "id": "fae7d3bd",
   "metadata": {},
   "source": [
    "Potential Factors:\n",
    "- primitive vs campground*\n",
    "- light pollution\n",
    "- water accessibility\n",
    "- stargazing\n",
    "- proximity from roads\n",
    "- proximity from hiking trails\n",
    "- near water\n",
    "- tent vs car vs rv camping\n",
    "- weather: winter vs summer camping\n",
    "- campfires\n",
    "- ammentities: water, showers, restrooms, mobile service\n",
    "\n",
    "\n",
    "*essential information"
   ]
  },
  {
   "cell_type": "markdown",
   "id": "513a60e8",
   "metadata": {},
   "source": [
    "### Load Datasets"
   ]
  },
  {
   "cell_type": "code",
   "execution_count": 8,
   "id": "35bd7755",
   "metadata": {},
   "outputs": [],
   "source": [
    "data_location = os.environ[\"HOME\"] + '/dsc170_finalproject_camping/data/'"
   ]
  },
  {
   "cell_type": "code",
   "execution_count": 10,
   "id": "59dcf25f",
   "metadata": {},
   "outputs": [],
   "source": [
    "# Load in shapefile\n",
    "park_boundaries = gpd.read_file(data_location + 'park_boundaries/ParkBoundaries.shp')\n",
    "campgrounds = gpd.read_file(data_location + 'campgrounds/Campgrounds.shp')\n",
    "buildings = gpd.read_file(data_location + 'buildings/Buildings.shp')\n",
    "parking = gpd.read_file(data_location + 'parking/ParkingPoints.shp')\n",
    "routes = gpd.read_file(data_location + 'routes/RecreationalRoutes.shp')\n",
    "river = gpd.read_file(data_location + 'river/748e59dc-3bbc-4f48-a111-49be3925f2342020328-1-14slxpm.r36t.shp')\n",
    "#mobile = gpd.read_file(data_location + 'mobile/Mobile_Deployment.shp')\n",
    "\n",
    "# Load in imagery layers\n",
    "light_pollution = ImageryLayer('https://ic.img.arcgis.com/arcgis/rest/services/VIIRS/NighttimeLightsMDNB/ImageServer',gis)\n",
    "air_pollution = ImageryLayer('https://sedac.ciesin.columbia.edu/arcgis/rest/services/sedac/sdei_global_annual_avg_pm2_5_2001_2010_image_service/ImageServer', gis)"
   ]
  },
  {
   "cell_type": "markdown",
   "id": "35ee3989",
   "metadata": {},
   "source": [
    "### Descriptive Statistics"
   ]
  },
  {
   "cell_type": "markdown",
   "id": "4f8d8f6f",
   "metadata": {},
   "source": [
    "***TODO***\n",
    "\n",
    "Explore the data using maps, charts, and common descriptive statistics. Sample questions you\n",
    "can try to answer: is there spatial autocorrelation in the data? Are you dealing with random\n",
    "point patterns? What is the spatial mean and standard distance? Or why the above questions\n",
    "are not relevant to your research theme and the data?\n",
    "\n",
    "(a combination of markdown and documented code cells)"
   ]
  },
  {
   "cell_type": "code",
   "execution_count": 11,
   "id": "1f1a5917",
   "metadata": {},
   "outputs": [],
   "source": [
    "# Create a function to clip and set study area extent\n",
    "def extent_clip(feature):\n",
    "    feature.extent = study_area_extent\n",
    "    features_clip = clip(raster=feature, geometry=study_area_geom)\n",
    "    return features_clip"
   ]
  },
  {
   "cell_type": "code",
   "execution_count": 12,
   "id": "5b921170",
   "metadata": {},
   "outputs": [
    {
     "data": {
      "text/plain": [
       "{'xmin': -124.409174647392,\n",
       " 'ymin': 32.5342707663828,\n",
       " 'xmax': -114.131199590089,\n",
       " 'ymax': 42.0095056809425,\n",
       " 'spatialReference': {'latestwkid': 3857, 'wkid': 102100}}"
      ]
     },
     "execution_count": 12,
     "metadata": {},
     "output_type": "execute_result"
    }
   ],
   "source": [
    "# Derive the area of interest (AOI) and its geometry and extent. \n",
    "# The smaller the area the better (so that you don't run into raster size limitations)\n",
    "\n",
    "states_item = gis.content.get('1612d351695b467eba75fdf82c10884f')\n",
    "states_lyr = states_item.layers[0]\n",
    "study_area_query = states_lyr.query(\"STATE_FIPS='06'\", return_geometry=True)\n",
    "\n",
    "#Extract input data for study area\n",
    "study_area_geom = study_area_query.features[0].geometry\n",
    "study_area_geom['spatialReference'] = study_area_query.spatial_reference\n",
    "\n",
    "# Create extent dict\n",
    "study_area_ex = Geometry(study_area_geom).geoextent\n",
    "tup = (('xmin',study_area_ex[0]), ('ymin', study_area_ex[1]), ('xmax',study_area_ex[2]), ('ymax', study_area_ex[3]))\n",
    "study_area_extent = dict(tup)\n",
    "\n",
    "# Add crs\n",
    "crs = \"{'latestwkid':3857, 'wkid':102100}\"\n",
    "study_area_extent.update({'spatialReference':{'latestwkid':3857, 'wkid':102100}})\n",
    "study_area_extent"
   ]
  },
  {
   "cell_type": "markdown",
   "id": "14f85066",
   "metadata": {},
   "source": [
    "#### Buildings"
   ]
  },
  {
   "cell_type": "code",
   "execution_count": 13,
   "id": "1a224009",
   "metadata": {},
   "outputs": [
    {
     "data": {
      "text/html": [
       "<div>\n",
       "<style scoped>\n",
       "    .dataframe tbody tr th:only-of-type {\n",
       "        vertical-align: middle;\n",
       "    }\n",
       "\n",
       "    .dataframe tbody tr th {\n",
       "        vertical-align: top;\n",
       "    }\n",
       "\n",
       "    .dataframe thead th {\n",
       "        text-align: right;\n",
       "    }\n",
       "</style>\n",
       "<table border=\"1\" class=\"dataframe\">\n",
       "  <thead>\n",
       "    <tr style=\"text-align: right;\">\n",
       "      <th></th>\n",
       "      <th>Restrooms</th>\n",
       "      <th>Showers</th>\n",
       "      <th>Flush_toilet</th>\n",
       "    </tr>\n",
       "    <tr>\n",
       "      <th>UNITNAME</th>\n",
       "      <th></th>\n",
       "      <th></th>\n",
       "      <th></th>\n",
       "    </tr>\n",
       "  </thead>\n",
       "  <tbody>\n",
       "    <tr>\n",
       "      <th>Admiral William Standley SRA</th>\n",
       "      <td>True</td>\n",
       "      <td>False</td>\n",
       "      <td>False</td>\n",
       "    </tr>\n",
       "    <tr>\n",
       "      <th>Angel Island SP</th>\n",
       "      <td>True</td>\n",
       "      <td>True</td>\n",
       "      <td>False</td>\n",
       "    </tr>\n",
       "    <tr>\n",
       "      <th>Antelope Valley California Poppy Preserve (SNR)</th>\n",
       "      <td>True</td>\n",
       "      <td>False</td>\n",
       "      <td>False</td>\n",
       "    </tr>\n",
       "    <tr>\n",
       "      <th>Anza-Borrego Desert SP</th>\n",
       "      <td>True</td>\n",
       "      <td>False</td>\n",
       "      <td>False</td>\n",
       "    </tr>\n",
       "    <tr>\n",
       "      <th>Armstrong Redwoods SNR</th>\n",
       "      <td>True</td>\n",
       "      <td>True</td>\n",
       "      <td>False</td>\n",
       "    </tr>\n",
       "  </tbody>\n",
       "</table>\n",
       "</div>"
      ],
      "text/plain": [
       "                                                 Restrooms  Showers  \\\n",
       "UNITNAME                                                              \n",
       "Admiral William Standley SRA                          True    False   \n",
       "Angel Island SP                                       True     True   \n",
       "Antelope Valley California Poppy Preserve (SNR)       True    False   \n",
       "Anza-Borrego Desert SP                                True    False   \n",
       "Armstrong Redwoods SNR                                True     True   \n",
       "\n",
       "                                                 Flush_toilet  \n",
       "UNITNAME                                                       \n",
       "Admiral William Standley SRA                            False  \n",
       "Angel Island SP                                         False  \n",
       "Antelope Valley California Poppy Preserve (SNR)         False  \n",
       "Anza-Borrego Desert SP                                  False  \n",
       "Armstrong Redwoods SNR                                  False  "
      ]
     },
     "execution_count": 13,
     "metadata": {},
     "output_type": "execute_result"
    }
   ],
   "source": [
    "# Filter out NaN values\n",
    "buildings = buildings[buildings['TYPE'].notna()]\n",
    "\n",
    "# Filter rows and create columns for if restroom or shower\n",
    "restrooms = ['Chemical toilet', \n",
    "             'Combo building', \n",
    "             'Comfort station', \n",
    "             'Comfort station/dressing room', \n",
    "             'Flush toilet', \n",
    "             'Unisex combination building', \n",
    "             'Unisex comfort station', \n",
    "             'Vault toilet']\n",
    "showers = ['Bath house', \n",
    "           'Combo building', \n",
    "           'Shower building', \n",
    "           'Unisex combination building']\n",
    "buildings= buildings[buildings['TYPE'].isin(restrooms + showers)]\n",
    "buildings['Restrooms'] = buildings['TYPE'].isin(restrooms)\n",
    "buildings['Showers'] = buildings['TYPE'].isin(showers)\n",
    "buildings['Flush_toilet'] = buildings['TYPE'] == 'Flush toilet'\n",
    "\n",
    "# Group by campground\n",
    "def any_true(x):\n",
    "    '''Returns true if any values in series is true'''\n",
    "    return x.any()\n",
    "grouped_buildings = buildings.groupby('UNITNAME').agg({'Restrooms': any_true, \n",
    "                                                       'Showers': any_true, \n",
    "                                                       'Flush_toilet': any_true})\n",
    "grouped_buildings.head()"
   ]
  },
  {
   "cell_type": "markdown",
   "id": "baaca4ba",
   "metadata": {},
   "source": [
    "#### Parking"
   ]
  },
  {
   "cell_type": "code",
   "execution_count": 14,
   "id": "4a37dec5",
   "metadata": {},
   "outputs": [
    {
     "data": {
      "text/plain": [
       "Vehicle            2108\n",
       "Administrative      114\n",
       "Boat                 47\n",
       "Equestrian           26\n",
       "RV/Bus/Trailer       21\n",
       "Campground Spur       2\n",
       "Name: SUBTYPE, dtype: int64"
      ]
     },
     "execution_count": 14,
     "metadata": {},
     "output_type": "execute_result"
    }
   ],
   "source": [
    "parking['SUBTYPE'].value_counts()"
   ]
  },
  {
   "cell_type": "code",
   "execution_count": 15,
   "id": "5bea6ff5",
   "metadata": {},
   "outputs": [
    {
     "data": {
      "text/html": [
       "<div>\n",
       "<style scoped>\n",
       "    .dataframe tbody tr th:only-of-type {\n",
       "        vertical-align: middle;\n",
       "    }\n",
       "\n",
       "    .dataframe tbody tr th {\n",
       "        vertical-align: top;\n",
       "    }\n",
       "\n",
       "    .dataframe thead th {\n",
       "        text-align: right;\n",
       "    }\n",
       "</style>\n",
       "<table border=\"1\" class=\"dataframe\">\n",
       "  <thead>\n",
       "    <tr style=\"text-align: right;\">\n",
       "      <th></th>\n",
       "      <th>RV Parking</th>\n",
       "      <th>Vehicle Parking</th>\n",
       "      <th>Boat Parking</th>\n",
       "    </tr>\n",
       "    <tr>\n",
       "      <th>UNITNAME</th>\n",
       "      <th></th>\n",
       "      <th></th>\n",
       "      <th></th>\n",
       "    </tr>\n",
       "  </thead>\n",
       "  <tbody>\n",
       "    <tr>\n",
       "      <th>Ahjumawi Lava Springs SP</th>\n",
       "      <td>False</td>\n",
       "      <td>True</td>\n",
       "      <td>False</td>\n",
       "    </tr>\n",
       "    <tr>\n",
       "      <th>Anderson Marsh SHP</th>\n",
       "      <td>False</td>\n",
       "      <td>True</td>\n",
       "      <td>False</td>\n",
       "    </tr>\n",
       "    <tr>\n",
       "      <th>Andrew Molera SP</th>\n",
       "      <td>False</td>\n",
       "      <td>True</td>\n",
       "      <td>False</td>\n",
       "    </tr>\n",
       "    <tr>\n",
       "      <th>Angel Island SP</th>\n",
       "      <td>False</td>\n",
       "      <td>True</td>\n",
       "      <td>False</td>\n",
       "    </tr>\n",
       "    <tr>\n",
       "      <th>Antelope Valley California Poppy Preserve (SNR)</th>\n",
       "      <td>True</td>\n",
       "      <td>True</td>\n",
       "      <td>False</td>\n",
       "    </tr>\n",
       "  </tbody>\n",
       "</table>\n",
       "</div>"
      ],
      "text/plain": [
       "                                                 RV Parking  Vehicle Parking  \\\n",
       "UNITNAME                                                                       \n",
       "Ahjumawi Lava Springs SP                              False             True   \n",
       "Anderson Marsh SHP                                    False             True   \n",
       "Andrew Molera SP                                      False             True   \n",
       "Angel Island SP                                       False             True   \n",
       "Antelope Valley California Poppy Preserve (SNR)        True             True   \n",
       "\n",
       "                                                 Boat Parking  \n",
       "UNITNAME                                                       \n",
       "Ahjumawi Lava Springs SP                                False  \n",
       "Anderson Marsh SHP                                      False  \n",
       "Andrew Molera SP                                        False  \n",
       "Angel Island SP                                         False  \n",
       "Antelope Valley California Poppy Preserve (SNR)         False  "
      ]
     },
     "execution_count": 15,
     "metadata": {},
     "output_type": "execute_result"
    }
   ],
   "source": [
    "parking['RV Parking'] = parking['SUBTYPE'] == 'RV/Bus/Trailer'\n",
    "parking['Vehicle Parking'] = parking['SUBTYPE'] == 'Vehicle'\n",
    "parking['Boat Parking'] = parking['SUBTYPE'] == 'Boat'\n",
    "\n",
    "grouped_parking = parking.groupby('UNITNAME').agg({'RV Parking': any_true, \n",
    "                                                       'Vehicle Parking': any_true, \n",
    "                                                       'Boat Parking': any_true})\n",
    "grouped_parking.head()"
   ]
  },
  {
   "cell_type": "markdown",
   "id": "ae5195b9",
   "metadata": {},
   "source": [
    "#### Campgrounds"
   ]
  },
  {
   "cell_type": "code",
   "execution_count": 16,
   "id": "baac3184",
   "metadata": {},
   "outputs": [
    {
     "data": {
      "text/plain": [
       "Developed Family Camp Area    198\n",
       "Developed Group Camp Area      82\n",
       "Primitive Family Camp Area     78\n",
       "Environmental Camp Area        54\n",
       "Hike/Bike Camp Area            40\n",
       "Undefined                      25\n",
       "Horse Camp Area                18\n",
       "Primitive Group Camp Area      17\n",
       "Enroute Camp Area               8\n",
       "Walk-in Camp Area               1\n",
       "Name: TYPE, dtype: int64"
      ]
     },
     "execution_count": 16,
     "metadata": {},
     "output_type": "execute_result"
    }
   ],
   "source": [
    "campgrounds['TYPE'].value_counts()"
   ]
  },
  {
   "cell_type": "code",
   "execution_count": 17,
   "id": "0838c2b7",
   "metadata": {},
   "outputs": [
    {
     "data": {
      "text/html": [
       "<div>\n",
       "<style scoped>\n",
       "    .dataframe tbody tr th:only-of-type {\n",
       "        vertical-align: middle;\n",
       "    }\n",
       "\n",
       "    .dataframe tbody tr th {\n",
       "        vertical-align: top;\n",
       "    }\n",
       "\n",
       "    .dataframe thead th {\n",
       "        text-align: right;\n",
       "    }\n",
       "</style>\n",
       "<table border=\"1\" class=\"dataframe\">\n",
       "  <thead>\n",
       "    <tr style=\"text-align: right;\">\n",
       "      <th></th>\n",
       "      <th>FID</th>\n",
       "      <th>Campground</th>\n",
       "      <th>GISID</th>\n",
       "      <th>TYPE</th>\n",
       "      <th>SUBTYPE</th>\n",
       "      <th>UNITNBR</th>\n",
       "      <th>DETAIL</th>\n",
       "      <th>UNITNAME</th>\n",
       "      <th>SHARE</th>\n",
       "      <th>GlobalID</th>\n",
       "      <th>...</th>\n",
       "      <th>geometry</th>\n",
       "      <th>Primitive</th>\n",
       "      <th>Developed</th>\n",
       "      <th>Horse</th>\n",
       "      <th>Restrooms</th>\n",
       "      <th>Showers</th>\n",
       "      <th>Flush_toilet</th>\n",
       "      <th>RV Parking</th>\n",
       "      <th>Vehicle Parking</th>\n",
       "      <th>Boat Parking</th>\n",
       "    </tr>\n",
       "  </thead>\n",
       "  <tbody>\n",
       "    <tr>\n",
       "      <th>0</th>\n",
       "      <td>2074</td>\n",
       "      <td>Ritchey Creek Campground</td>\n",
       "      <td>GIS0006395</td>\n",
       "      <td>Developed Family Camp Area</td>\n",
       "      <td>None</td>\n",
       "      <td>240</td>\n",
       "      <td>Ritchey Creek Campground</td>\n",
       "      <td>Bothe-Napa Valley SP</td>\n",
       "      <td>None</td>\n",
       "      <td>{AC98673D-5387-4783-BB72-ED2987FA86AE}</td>\n",
       "      <td>...</td>\n",
       "      <td>POINT (-13639496.195 4657348.494)</td>\n",
       "      <td>False</td>\n",
       "      <td>True</td>\n",
       "      <td>False</td>\n",
       "      <td>True</td>\n",
       "      <td>True</td>\n",
       "      <td>False</td>\n",
       "      <td>False</td>\n",
       "      <td>True</td>\n",
       "      <td>False</td>\n",
       "    </tr>\n",
       "    <tr>\n",
       "      <th>1</th>\n",
       "      <td>2075</td>\n",
       "      <td>Bothe-Napa Valley Group Camp</td>\n",
       "      <td>GIS0006396</td>\n",
       "      <td>Developed Group Camp Area</td>\n",
       "      <td>None</td>\n",
       "      <td>240</td>\n",
       "      <td>Bothe-Napa Valley Group Camp</td>\n",
       "      <td>Bothe-Napa Valley SP</td>\n",
       "      <td>None</td>\n",
       "      <td>{196BF388-E240-49EC-A361-4330849D07E8}</td>\n",
       "      <td>...</td>\n",
       "      <td>POINT (-13638520.925 4657386.784)</td>\n",
       "      <td>False</td>\n",
       "      <td>True</td>\n",
       "      <td>False</td>\n",
       "      <td>True</td>\n",
       "      <td>True</td>\n",
       "      <td>False</td>\n",
       "      <td>False</td>\n",
       "      <td>True</td>\n",
       "      <td>False</td>\n",
       "    </tr>\n",
       "    <tr>\n",
       "      <th>2</th>\n",
       "      <td>2076</td>\n",
       "      <td>Brannan Island Group Camp</td>\n",
       "      <td>GIS0006398</td>\n",
       "      <td>Developed Group Camp Area</td>\n",
       "      <td>None</td>\n",
       "      <td>314</td>\n",
       "      <td>Brannan Island Group Camp</td>\n",
       "      <td>Brannan Island SRA</td>\n",
       "      <td>None</td>\n",
       "      <td>{D089D94A-75A3-409E-8B95-613D918F27C5}</td>\n",
       "      <td>...</td>\n",
       "      <td>POINT (-13546051.275 4596380.365)</td>\n",
       "      <td>False</td>\n",
       "      <td>True</td>\n",
       "      <td>False</td>\n",
       "      <td>True</td>\n",
       "      <td>True</td>\n",
       "      <td>False</td>\n",
       "      <td>False</td>\n",
       "      <td>True</td>\n",
       "      <td>True</td>\n",
       "    </tr>\n",
       "    <tr>\n",
       "      <th>3</th>\n",
       "      <td>2077</td>\n",
       "      <td>Walk-in Campsites</td>\n",
       "      <td>GIS0006399</td>\n",
       "      <td>Developed Family Camp Area</td>\n",
       "      <td>None</td>\n",
       "      <td>314</td>\n",
       "      <td>Walk-in  Campsites</td>\n",
       "      <td>Brannan Island SRA</td>\n",
       "      <td>None</td>\n",
       "      <td>{C880DECC-2000-48C3-953E-B6AD4C29B49C}</td>\n",
       "      <td>...</td>\n",
       "      <td>POINT (-13546394.584 4595659.599)</td>\n",
       "      <td>False</td>\n",
       "      <td>True</td>\n",
       "      <td>False</td>\n",
       "      <td>True</td>\n",
       "      <td>True</td>\n",
       "      <td>False</td>\n",
       "      <td>False</td>\n",
       "      <td>True</td>\n",
       "      <td>True</td>\n",
       "    </tr>\n",
       "    <tr>\n",
       "      <th>4</th>\n",
       "      <td>2078</td>\n",
       "      <td>North Grove Campground</td>\n",
       "      <td>GIS0006400</td>\n",
       "      <td>Developed Family Camp Area</td>\n",
       "      <td>None</td>\n",
       "      <td>306</td>\n",
       "      <td>North Grove Campground</td>\n",
       "      <td>Calaveras Big Trees SP</td>\n",
       "      <td>None</td>\n",
       "      <td>{3C9F0EA0-DB71-479E-9486-C45DDB6C579E}</td>\n",
       "      <td>...</td>\n",
       "      <td>POINT (-13392613.832 4618511.183)</td>\n",
       "      <td>False</td>\n",
       "      <td>True</td>\n",
       "      <td>False</td>\n",
       "      <td>True</td>\n",
       "      <td>True</td>\n",
       "      <td>False</td>\n",
       "      <td>False</td>\n",
       "      <td>True</td>\n",
       "      <td>False</td>\n",
       "    </tr>\n",
       "  </tbody>\n",
       "</table>\n",
       "<p>5 rows × 21 columns</p>\n",
       "</div>"
      ],
      "text/plain": [
       "    FID                    Campground       GISID                        TYPE  \\\n",
       "0  2074      Ritchey Creek Campground  GIS0006395  Developed Family Camp Area   \n",
       "1  2075  Bothe-Napa Valley Group Camp  GIS0006396   Developed Group Camp Area   \n",
       "2  2076     Brannan Island Group Camp  GIS0006398   Developed Group Camp Area   \n",
       "3  2077             Walk-in Campsites  GIS0006399  Developed Family Camp Area   \n",
       "4  2078        North Grove Campground  GIS0006400  Developed Family Camp Area   \n",
       "\n",
       "  SUBTYPE UNITNBR                        DETAIL                UNITNAME SHARE  \\\n",
       "0    None     240      Ritchey Creek Campground    Bothe-Napa Valley SP  None   \n",
       "1    None     240  Bothe-Napa Valley Group Camp    Bothe-Napa Valley SP  None   \n",
       "2    None     314     Brannan Island Group Camp      Brannan Island SRA  None   \n",
       "3    None     314            Walk-in  Campsites      Brannan Island SRA  None   \n",
       "4    None     306        North Grove Campground  Calaveras Big Trees SP  None   \n",
       "\n",
       "                                 GlobalID  ...  \\\n",
       "0  {AC98673D-5387-4783-BB72-ED2987FA86AE}  ...   \n",
       "1  {196BF388-E240-49EC-A361-4330849D07E8}  ...   \n",
       "2  {D089D94A-75A3-409E-8B95-613D918F27C5}  ...   \n",
       "3  {C880DECC-2000-48C3-953E-B6AD4C29B49C}  ...   \n",
       "4  {3C9F0EA0-DB71-479E-9486-C45DDB6C579E}  ...   \n",
       "\n",
       "                            geometry Primitive  Developed  Horse  Restrooms  \\\n",
       "0  POINT (-13639496.195 4657348.494)     False       True  False       True   \n",
       "1  POINT (-13638520.925 4657386.784)     False       True  False       True   \n",
       "2  POINT (-13546051.275 4596380.365)     False       True  False       True   \n",
       "3  POINT (-13546394.584 4595659.599)     False       True  False       True   \n",
       "4  POINT (-13392613.832 4618511.183)     False       True  False       True   \n",
       "\n",
       "  Showers Flush_toilet RV Parking Vehicle Parking Boat Parking  \n",
       "0    True        False      False            True        False  \n",
       "1    True        False      False            True        False  \n",
       "2    True        False      False            True         True  \n",
       "3    True        False      False            True         True  \n",
       "4    True        False      False            True        False  \n",
       "\n",
       "[5 rows x 21 columns]"
      ]
     },
     "execution_count": 17,
     "metadata": {},
     "output_type": "execute_result"
    }
   ],
   "source": [
    "# Filter na values\n",
    "campgrounds = campgrounds[campgrounds['TYPE'].notna()]\n",
    "campgrounds = campgrounds[campgrounds['DETAIL'] != 'Proposed']\n",
    "\n",
    "# Create columns for different types of camping\n",
    "campgrounds['Primitive'] = campgrounds['TYPE'].str.contains('Primitive')\n",
    "campgrounds['Developed'] = campgrounds['TYPE'].str.contains('Developed')\n",
    "campgrounds['Horse'] = campgrounds['TYPE'] == 'Horse Camp Area'\n",
    "\n",
    "campgrounds_merged = campgrounds.merge(grouped_buildings, on='UNITNAME', how='left')\n",
    "campgrounds_merged = campgrounds_merged.merge(grouped_parking, on='UNITNAME', how='left')\n",
    "campgrounds_merged.head()"
   ]
  },
  {
   "cell_type": "code",
   "execution_count": 20,
   "id": "80d08f10",
   "metadata": {},
   "outputs": [
    {
     "data": {
      "text/html": [
       "<div class=\"item_container\" style=\"height: auto; overflow: hidden; border: 1px solid #cfcfcf; border-radius: 2px; background: #f6fafa; line-height: 1.21429em; padding: 10px;\">\n",
       "                    <div class=\"item_left\" style=\"width: 210px; float: left;\">\n",
       "                       <a href='https://UCSDOnline.maps.arcgis.com/home/item.html?id=1f87231cbc4546bba448bf4016d8956e' target='_blank'>\n",
       "                        <img src='http://static.arcgis.com/images/desktopapp.png' class=\"itemThumbnail\">\n",
       "                       </a>\n",
       "                    </div>\n",
       "\n",
       "                    <div class=\"item_right\"     style=\"float: none; width: auto; overflow: hidden;\">\n",
       "                        <a href='https://UCSDOnline.maps.arcgis.com/home/item.html?id=1f87231cbc4546bba448bf4016d8956e' target='_blank'><b>CA State Campgrounds</b>\n",
       "                        </a>\n",
       "                        <br/><img src='https://UCSDOnline.maps.arcgis.com/home/js/jsapi/esri/css/images/item_type_icons/featureshosted16.png' style=\"vertical-align:middle;\" width=16 height=16>Feature Layer Collection by dsc170wi24_44\n",
       "                        <br/>Last Modified: March 14, 2024\n",
       "                        <br/>0 comments, 13 views\n",
       "                    </div>\n",
       "                </div>\n",
       "                "
      ],
      "text/plain": [
       "<Item title:\"CA State Campgrounds\" type:Feature Layer Collection owner:dsc170wi24_44>"
      ]
     },
     "execution_count": 20,
     "metadata": {},
     "output_type": "execute_result"
    }
   ],
   "source": [
    "# Upload as feature layer\n",
    "# campgrounds_sdf = GeoAccessor.from_geodataframe(campgrounds_merged, inplace=False, column_name='SHAPE')\n",
    "# campgrounds_fl = campgrounds_sdf.spatial.to_featurelayer(title='CA State Campgrounds',\n",
    "#                                                           gis=gis,\n",
    "#                                                           tags='Camping')\n",
    "\n",
    "# Get feature layer\n",
    "campgrounds_fl = gis.content.get('1f87231cbc4546bba448bf4016d8956e')\n",
    "campgrounds_fl"
   ]
  },
  {
   "cell_type": "code",
   "execution_count": 21,
   "id": "a0d37104",
   "metadata": {
    "scrolled": true
   },
   "outputs": [
    {
     "data": {
      "application/vnd.jupyter.widget-view+json": {
       "model_id": "d6bbc899d7824a01927bbd37a8bd40f5",
       "version_major": 2,
       "version_minor": 0
      },
      "text/plain": [
       "MapView(layout=Layout(height='400px', width='100%'))"
      ]
     },
     "metadata": {},
     "output_type": "display_data"
    },
    {
     "data": {
      "text/html": [
       "<div class=\"map-static-img-preview-aa0244d2-a67f-45fc-a72a-8021e8e384a7\"><img src=\"\"></img></div>"
      ],
      "text/plain": [
       "<IPython.core.display.HTML object>"
      ]
     },
     "metadata": {},
     "output_type": "display_data"
    },
    {
     "data": {
      "text/html": [
       "<div class=\"map-html-embed-preview-aa0244d2-a67f-45fc-a72a-8021e8e384a7\"></div>"
      ],
      "text/plain": [
       "<IPython.core.display.HTML object>"
      ]
     },
     "metadata": {},
     "output_type": "display_data"
    }
   ],
   "source": [
    "camp_map = gis.map('California, US')\n",
    "camp_map.add_layer(campgrounds_fl)\n",
    "camp_map"
   ]
  },
  {
   "cell_type": "markdown",
   "id": "1f6fe563",
   "metadata": {},
   "source": [
    "#### Recreational Routes"
   ]
  },
  {
   "cell_type": "code",
   "execution_count": 22,
   "id": "f5f2ba86",
   "metadata": {},
   "outputs": [
    {
     "data": {
      "text/html": [
       "<div>\n",
       "<style scoped>\n",
       "    .dataframe tbody tr th:only-of-type {\n",
       "        vertical-align: middle;\n",
       "    }\n",
       "\n",
       "    .dataframe tbody tr th {\n",
       "        vertical-align: top;\n",
       "    }\n",
       "\n",
       "    .dataframe thead th {\n",
       "        text-align: right;\n",
       "    }\n",
       "</style>\n",
       "<table border=\"1\" class=\"dataframe\">\n",
       "  <thead>\n",
       "    <tr style=\"text-align: right;\">\n",
       "      <th></th>\n",
       "      <th>FID</th>\n",
       "      <th>ROUTENAME</th>\n",
       "      <th>GISID</th>\n",
       "      <th>ROUTECLASS</th>\n",
       "      <th>UNITNBR</th>\n",
       "      <th>UNITNAME</th>\n",
       "      <th>ROUTECAT</th>\n",
       "      <th>ROUTETYPE</th>\n",
       "      <th>SEGLNGTH</th>\n",
       "      <th>SHARE</th>\n",
       "      <th>Shape_Leng</th>\n",
       "      <th>GlobalID</th>\n",
       "      <th>SHAPE_Le_1</th>\n",
       "      <th>geometry</th>\n",
       "    </tr>\n",
       "  </thead>\n",
       "  <tbody>\n",
       "    <tr>\n",
       "      <th>72</th>\n",
       "      <td>23311</td>\n",
       "      <td>LAP</td>\n",
       "      <td>GIS0075760</td>\n",
       "      <td>State Park Road</td>\n",
       "      <td>521</td>\n",
       "      <td>Hungry Valley SVRA</td>\n",
       "      <td>Primitive Rd</td>\n",
       "      <td>Native Material</td>\n",
       "      <td>1100.0</td>\n",
       "      <td>Public</td>\n",
       "      <td>407.877932</td>\n",
       "      <td>{17C364FB-E0F6-43A8-8A82-B50C262D6F41}</td>\n",
       "      <td>407.877932</td>\n",
       "      <td>LINESTRING Z (-13226060.142 4131594.839 0.000,...</td>\n",
       "    </tr>\n",
       "    <tr>\n",
       "      <th>421</th>\n",
       "      <td>23660</td>\n",
       "      <td>Lava Springs Trail</td>\n",
       "      <td>GIS0128939</td>\n",
       "      <td>State Park Trail</td>\n",
       "      <td>190</td>\n",
       "      <td>Ahjumawi Lava Springs SP</td>\n",
       "      <td>None</td>\n",
       "      <td>Native Material</td>\n",
       "      <td>9047.0</td>\n",
       "      <td>Public</td>\n",
       "      <td>2552.327716</td>\n",
       "      <td>{DD5C3862-F726-440D-AF67-07CB6CFA5F9E}</td>\n",
       "      <td>2552.327716</td>\n",
       "      <td>LINESTRING Z (-13520639.129 5028652.868 0.000,...</td>\n",
       "    </tr>\n",
       "    <tr>\n",
       "      <th>425</th>\n",
       "      <td>23664</td>\n",
       "      <td>Nightmare Gulch</td>\n",
       "      <td>GIS0070250</td>\n",
       "      <td>State Park Road</td>\n",
       "      <td>577</td>\n",
       "      <td>Red Rock Canyon SP</td>\n",
       "      <td>Primitive Rd</td>\n",
       "      <td>Native Material</td>\n",
       "      <td>852.0</td>\n",
       "      <td>Public</td>\n",
       "      <td>1274.654037</td>\n",
       "      <td>{44DB3AF1-7AB9-4489-BA86-00202D1AF012}</td>\n",
       "      <td>1274.654037</td>\n",
       "      <td>LINESTRING Z (-13129998.876 4216458.724 0.000,...</td>\n",
       "    </tr>\n",
       "    <tr>\n",
       "      <th>426</th>\n",
       "      <td>23665</td>\n",
       "      <td>Nightmare Gulch turn around area</td>\n",
       "      <td>GIS0070251</td>\n",
       "      <td>State Park Road</td>\n",
       "      <td>577</td>\n",
       "      <td>Red Rock Canyon SP</td>\n",
       "      <td>Primitive Rd</td>\n",
       "      <td>Native Material</td>\n",
       "      <td>258.0</td>\n",
       "      <td>Public</td>\n",
       "      <td>92.928927</td>\n",
       "      <td>{8B563CED-2C5F-4AF7-8313-24E90838660E}</td>\n",
       "      <td>92.928927</td>\n",
       "      <td>LINESTRING Z (-13131843.769 4215224.907 0.000,...</td>\n",
       "    </tr>\n",
       "    <tr>\n",
       "      <th>428</th>\n",
       "      <td>23667</td>\n",
       "      <td>Last Chance Canyon Rd</td>\n",
       "      <td>GIS0070263</td>\n",
       "      <td>State Park Road</td>\n",
       "      <td>577</td>\n",
       "      <td>Red Rock Canyon SP</td>\n",
       "      <td>Primitive Rd</td>\n",
       "      <td>Native Material</td>\n",
       "      <td>853.0</td>\n",
       "      <td>Public</td>\n",
       "      <td>5825.074481</td>\n",
       "      <td>{21B0EF1B-E76F-463A-B791-4A4657B35E8F}</td>\n",
       "      <td>5825.074481</td>\n",
       "      <td>LINESTRING Z (-13127171.707 4218337.212 0.000,...</td>\n",
       "    </tr>\n",
       "  </tbody>\n",
       "</table>\n",
       "</div>"
      ],
      "text/plain": [
       "       FID                         ROUTENAME       GISID        ROUTECLASS  \\\n",
       "72   23311                               LAP  GIS0075760   State Park Road   \n",
       "421  23660                Lava Springs Trail  GIS0128939  State Park Trail   \n",
       "425  23664                   Nightmare Gulch  GIS0070250   State Park Road   \n",
       "426  23665  Nightmare Gulch turn around area  GIS0070251   State Park Road   \n",
       "428  23667             Last Chance Canyon Rd  GIS0070263   State Park Road   \n",
       "\n",
       "    UNITNBR                  UNITNAME      ROUTECAT        ROUTETYPE  \\\n",
       "72      521        Hungry Valley SVRA  Primitive Rd  Native Material   \n",
       "421     190  Ahjumawi Lava Springs SP          None  Native Material   \n",
       "425     577        Red Rock Canyon SP  Primitive Rd  Native Material   \n",
       "426     577        Red Rock Canyon SP  Primitive Rd  Native Material   \n",
       "428     577        Red Rock Canyon SP  Primitive Rd  Native Material   \n",
       "\n",
       "     SEGLNGTH   SHARE   Shape_Leng                                GlobalID  \\\n",
       "72     1100.0  Public   407.877932  {17C364FB-E0F6-43A8-8A82-B50C262D6F41}   \n",
       "421    9047.0  Public  2552.327716  {DD5C3862-F726-440D-AF67-07CB6CFA5F9E}   \n",
       "425     852.0  Public  1274.654037  {44DB3AF1-7AB9-4489-BA86-00202D1AF012}   \n",
       "426     258.0  Public    92.928927  {8B563CED-2C5F-4AF7-8313-24E90838660E}   \n",
       "428     853.0  Public  5825.074481  {21B0EF1B-E76F-463A-B791-4A4657B35E8F}   \n",
       "\n",
       "      SHAPE_Le_1                                           geometry  \n",
       "72    407.877932  LINESTRING Z (-13226060.142 4131594.839 0.000,...  \n",
       "421  2552.327716  LINESTRING Z (-13520639.129 5028652.868 0.000,...  \n",
       "425  1274.654037  LINESTRING Z (-13129998.876 4216458.724 0.000,...  \n",
       "426    92.928927  LINESTRING Z (-13131843.769 4215224.907 0.000,...  \n",
       "428  5825.074481  LINESTRING Z (-13127171.707 4218337.212 0.000,...  "
      ]
     },
     "execution_count": 22,
     "metadata": {},
     "output_type": "execute_result"
    }
   ],
   "source": [
    "routes = routes[routes['SHARE'] == 'Public']\n",
    "routes.head()"
   ]
  },
  {
   "cell_type": "code",
   "execution_count": 90,
   "id": "fdd596f1",
   "metadata": {},
   "outputs": [
    {
     "name": "stderr",
     "output_type": "stream",
     "text": [
      "{\"cost\": 6.478}\n"
     ]
    }
   ],
   "source": [
    "# # Upload as feature layer\n",
    "# routes_sdf = GeoAccessor.from_geodataframe(routes, inplace=False, column_name='SHAPE')\n",
    "# routes_fl = routes_sdf.spatial.to_featurelayer(title='State Park Trails',\n",
    "#                                                          gis=gis,\n",
    "#                                                          tags='Camping')\n",
    "\n",
    "#Get feature layer\n",
    "routes_fl = gis.content.get('a789dc2099c24e659c5829cab5beac2c')\n",
    "routes_fl\n",
    "\n",
    "buffer_distance = 1000  \n",
    "routes_buffered = arcgis.features.analysis.create_buffers(routes_fl.layers[0],distances=[buffer_distance])"
   ]
  },
  {
   "cell_type": "code",
   "execution_count": 99,
   "id": "fb977d76",
   "metadata": {},
   "outputs": [
    {
     "data": {
      "text/plain": [
       "<function posixpath.basename(p)>"
      ]
     },
     "execution_count": 99,
     "metadata": {},
     "output_type": "execute_result"
    }
   ],
   "source": [
    "os.path.basename()"
   ]
  },
  {
   "cell_type": "code",
   "execution_count": 100,
   "id": "7af56fc9",
   "metadata": {},
   "outputs": [
    {
     "ename": "ValueError",
     "evalue": "`item_properties` must be  dictionary or `ItemProperties`.",
     "output_type": "error",
     "traceback": [
      "\u001b[0;31m---------------------------------------------------------------------------\u001b[0m",
      "\u001b[0;31mValueError\u001b[0m                                Traceback (most recent call last)",
      "\u001b[0;32m/tmp/ipykernel_1044/2402509273.py\u001b[0m in \u001b[0;36m<module>\u001b[0;34m\u001b[0m\n\u001b[1;32m      2\u001b[0m     \u001b[0;34m\"title\"\u001b[0m\u001b[0;34m:\u001b[0m\u001b[0;34m\"routebuffers\"\u001b[0m       \u001b[0;31m# Type of the item\u001b[0m\u001b[0;34m\u001b[0m\u001b[0;34m\u001b[0m\u001b[0m\n\u001b[1;32m      3\u001b[0m }\n\u001b[0;32m----> 4\u001b[0;31m \u001b[0mgis\u001b[0m\u001b[0;34m.\u001b[0m\u001b[0mcontent\u001b[0m\u001b[0;34m.\u001b[0m\u001b[0madd\u001b[0m\u001b[0;34m(\u001b[0m\u001b[0mroutes_buffered\u001b[0m\u001b[0;34m)\u001b[0m\u001b[0;34m\u001b[0m\u001b[0;34m\u001b[0m\u001b[0m\n\u001b[0m",
      "\u001b[0;32m/opt/conda/lib/python3.9/site-packages/arcgis/gis/__init__.py\u001b[0m in \u001b[0;36madd\u001b[0;34m(self, item_properties, data, thumbnail, metadata, owner, folder, item_id, **kwargs)\u001b[0m\n\u001b[1;32m   6673\u001b[0m \u001b[0;34m\u001b[0m\u001b[0m\n\u001b[1;32m   6674\u001b[0m         \u001b[0;32mif\u001b[0m \u001b[0;32mnot\u001b[0m \u001b[0misinstance\u001b[0m\u001b[0;34m(\u001b[0m\u001b[0mitem_properties\u001b[0m\u001b[0;34m,\u001b[0m \u001b[0;34m(\u001b[0m\u001b[0mdict\u001b[0m\u001b[0;34m,\u001b[0m \u001b[0mItemProperties\u001b[0m\u001b[0;34m)\u001b[0m\u001b[0;34m)\u001b[0m\u001b[0;34m:\u001b[0m\u001b[0;34m\u001b[0m\u001b[0;34m\u001b[0m\u001b[0m\n\u001b[0;32m-> 6675\u001b[0;31m             raise ValueError(\n\u001b[0m\u001b[1;32m   6676\u001b[0m                 \u001b[0;34m\"`item_properties` must be  dictionary or `ItemProperties`.\"\u001b[0m\u001b[0;34m\u001b[0m\u001b[0;34m\u001b[0m\u001b[0m\n\u001b[1;32m   6677\u001b[0m             )\n",
      "\u001b[0;31mValueError\u001b[0m: `item_properties` must be  dictionary or `ItemProperties`."
     ]
    }
   ],
   "source": [
    "item_properties = {\n",
    "    \"title\":\"routebuffers\"       # Type of the item\n",
    "}\n",
    "gis.content.add(item_properties,routes_buffered)"
   ]
  },
  {
   "cell_type": "code",
   "execution_count": 102,
   "id": "61c8fb90",
   "metadata": {},
   "outputs": [
    {
     "data": {
      "application/vnd.jupyter.widget-view+json": {
       "model_id": "a374dd2daa9d4ca1a10995364ff4971c",
       "version_major": 2,
       "version_minor": 0
      },
      "text/plain": [
       "MapView(layout=Layout(height='400px', width='100%'))"
      ]
     },
     "metadata": {},
     "output_type": "display_data"
    },
    {
     "data": {
      "text/html": [
       "<div class=\"map-static-img-preview-d7318136-2b26-486e-a1e7-59a21148b7c9\"><img src=\"\"></img></div>"
      ],
      "text/plain": [
       "<IPython.core.display.HTML object>"
      ]
     },
     "metadata": {},
     "output_type": "display_data"
    },
    {
     "data": {
      "text/html": [
       "<div class=\"map-html-embed-preview-d7318136-2b26-486e-a1e7-59a21148b7c9\"></div>"
      ],
      "text/plain": [
       "<IPython.core.display.HTML object>"
      ]
     },
     "metadata": {},
     "output_type": "display_data"
    }
   ],
   "source": [
    "trail_map = gis.map('California, US')\n",
    "trail_map.add_layer(campgrounds_fl)\n",
    "trail_map.add_layer(routes_buffered)\n",
    "trail_map"
   ]
  },
  {
   "cell_type": "markdown",
   "id": "2df511a7",
   "metadata": {},
   "source": [
    "#### Near River"
   ]
  },
  {
   "cell_type": "code",
   "execution_count": null,
   "id": "9ce86c31",
   "metadata": {},
   "outputs": [],
   "source": [
    "# river_sdf = GeoAccessor.from_geodataframe(river, inplace=False, column_name='SHAPE')\n",
    "# river_fl = river_sdf.spatial.to_featurelayer(title='CA Rivers',\n",
    "#                                                          gis=gis,\n",
    "#                                                          tags='Camping')\n",
    "river_fl = gis.content.get('d1dc945e8357493cb9219ed3491867fe')\n",
    "river_fl\n",
    "\n",
    "\n",
    "buffer_distance = 3000  \n",
    "river_buffered = arcgis.features.analysis.create_buffers(river_fl.layers[0],distances=[buffer_distance])\n"
   ]
  },
  {
   "cell_type": "code",
   "execution_count": 105,
   "id": "04ad2a21",
   "metadata": {},
   "outputs": [
    {
     "data": {
      "application/vnd.jupyter.widget-view+json": {
       "model_id": "6d09bb3cb50047e5a4d7cdec47d92f54",
       "version_major": 2,
       "version_minor": 0
      },
      "text/plain": [
       "MapView(layout=Layout(height='400px', width='100%'))"
      ]
     },
     "metadata": {},
     "output_type": "display_data"
    },
    {
     "data": {
      "text/html": [
       "<div class=\"map-static-img-preview-b143efdd-ae9e-49e6-b746-c086ebbcc085\"><img src=\"\"></img></div>"
      ],
      "text/plain": [
       "<IPython.core.display.HTML object>"
      ]
     },
     "metadata": {},
     "output_type": "display_data"
    },
    {
     "data": {
      "text/html": [
       "<div class=\"map-html-embed-preview-b143efdd-ae9e-49e6-b746-c086ebbcc085\"></div>"
      ],
      "text/plain": [
       "<IPython.core.display.HTML object>"
      ]
     },
     "metadata": {},
     "output_type": "display_data"
    }
   ],
   "source": [
    "river_map = gis.map('California, US')\n",
    "river_map.add_layer(campgrounds_fl)\n",
    "river_map.add_layer(river_buffered)\n",
    "river_map"
   ]
  },
  {
   "cell_type": "markdown",
   "id": "6b10c366",
   "metadata": {},
   "source": [
    "#### Light Pollution"
   ]
  },
  {
   "cell_type": "code",
   "execution_count": 47,
   "id": "b6f1b6ea",
   "metadata": {},
   "outputs": [],
   "source": [
    "# Extent and clip\n",
    "light_pollution_clip = extent_clip(light_pollution)\n",
    "\n",
    "# Normalize map into 9 bins\n",
    "light_pollution_n = remap(raster=light_pollution_clip,\n",
    "                  input_ranges = [0.0, 9.0,\n",
    "                                  9.0, 18.0,\n",
    "                                  18.0, 27.0,\n",
    "                                  27.0, 36.0,\n",
    "                                  36.0, 45.0,\n",
    "                                  45.0, 54.0,\n",
    "                                  54.0, 63.0,\n",
    "                                  63.0, 72.0,\n",
    "                                  72.0, 81.0],\n",
    "                  output_values=[9,8,7,6,5,4,3,2,1],  astype='U8')"
   ]
  },
  {
   "cell_type": "code",
   "execution_count": 48,
   "id": "1b60f84c",
   "metadata": {},
   "outputs": [
    {
     "data": {
      "text/html": [
       "<div class=\"item_container\" style=\"height: auto; overflow: hidden; border: 1px solid #cfcfcf; border-radius: 2px; background: #f6fafa; line-height: 1.21429em; padding: 10px;\">\n",
       "                    <div class=\"item_left\" style=\"width: 210px; float: left;\">\n",
       "                       <a href='https://UCSDOnline.maps.arcgis.com/home/item.html?id=afcf82caba7b45699f5a8e0fee321329' target='_blank'>\n",
       "                        <img src='data:image/png;base64,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' width='200' height='133' class=\"itemThumbnail\">\n",
       "                       </a>\n",
       "                    </div>\n",
       "\n",
       "                    <div class=\"item_right\"     style=\"float: none; width: auto; overflow: hidden;\">\n",
       "                        <a href='https://UCSDOnline.maps.arcgis.com/home/item.html?id=afcf82caba7b45699f5a8e0fee321329' target='_blank'><b>Light Pollution CA Feature Layer</b>\n",
       "                        </a>\n",
       "                        <br/>RasterToFeature_ECLNNG<img src='https://UCSDOnline.maps.arcgis.com/home/js/jsapi/esri/css/images/item_type_icons/featureshosted16.png' style=\"vertical-align:middle;\" width=16 height=16>Feature Layer Collection by dsc170wi24_44\n",
       "                        <br/>Last Modified: March 18, 2024\n",
       "                        <br/>0 comments, 0 views\n",
       "                    </div>\n",
       "                </div>\n",
       "                "
      ],
      "text/plain": [
       "<Item title:\"Light Pollution CA Feature Layer\" type:Feature Layer Collection owner:dsc170wi24_44>"
      ]
     },
     "execution_count": 48,
     "metadata": {},
     "output_type": "execute_result"
    }
   ],
   "source": [
    "# Change imagery layer to feature layer\n",
    "#light_fl = light_pollution_n.to_features()\n",
    "# light_fl = gis.content.get('ce3a7029ab0346e5a0f6c2edbd507bf4')\n",
    "light_fl = gis.content.get('afcf82caba7b45699f5a8e0fee321329')\n",
    "light_fl"
   ]
  },
  {
   "cell_type": "markdown",
   "id": "4a86acf8",
   "metadata": {},
   "source": [
    "#### Air Pollution"
   ]
  },
  {
   "cell_type": "code",
   "execution_count": 49,
   "id": "eb736999",
   "metadata": {},
   "outputs": [
    {
     "data": {
      "text/plain": [
       "{'histograms': [{'size': 10,\n",
       "   'min': -0.5,\n",
       "   'max': 9.5,\n",
       "   'counts': [0, 0, 3, 106, 280, 342, 579, 566, 581, 1470]}]}"
      ]
     },
     "execution_count": 49,
     "metadata": {},
     "output_type": "execute_result"
    }
   ],
   "source": [
    "# Extent and clip\n",
    "air_clip = extent_clip(air_pollution)\n",
    "\n",
    "# Normalize\n",
    "air_n = remap(raster=air_clip,\n",
    "                  input_ranges=[0,5,\n",
    "                                5,6,\n",
    "                                6,7,\n",
    "                                7,8,\n",
    "                                8,9,\n",
    "                                9,11,\n",
    "                                11,13,\n",
    "                                13,584,\n",
    "                                584,660],\n",
    "                  output_values=[9,8,7,6,5,4,3,2,1],  astype='U8')\n",
    "air_n.compute_histograms(geometry=study_area_geom)"
   ]
  },
  {
   "cell_type": "code",
   "execution_count": 50,
   "id": "b44e1ade",
   "metadata": {},
   "outputs": [
    {
     "data": {
      "text/html": [
       "<div class=\"item_container\" style=\"height: auto; overflow: hidden; border: 1px solid #cfcfcf; border-radius: 2px; background: #f6fafa; line-height: 1.21429em; padding: 10px;\">\n",
       "                    <div class=\"item_left\" style=\"width: 210px; float: left;\">\n",
       "                       <a href='https://UCSDOnline.maps.arcgis.com/home/item.html?id=a5c244c6241344509635eda832609967' target='_blank'>\n",
       "                        <img src='data:image/png;base64,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' width='200' height='133' class=\"itemThumbnail\">\n",
       "                       </a>\n",
       "                    </div>\n",
       "\n",
       "                    <div class=\"item_right\"     style=\"float: none; width: auto; overflow: hidden;\">\n",
       "                        <a href='https://UCSDOnline.maps.arcgis.com/home/item.html?id=a5c244c6241344509635eda832609967' target='_blank'><b>Air Pollution CA Feature Layer</b>\n",
       "                        </a>\n",
       "                        <br/>RasterToFeature_ZWTKNY<img src='https://UCSDOnline.maps.arcgis.com/home/js/jsapi/esri/css/images/item_type_icons/featureshosted16.png' style=\"vertical-align:middle;\" width=16 height=16>Feature Layer Collection by dsc170wi24_44\n",
       "                        <br/>Last Modified: March 18, 2024\n",
       "                        <br/>0 comments, 10 views\n",
       "                    </div>\n",
       "                </div>\n",
       "                "
      ],
      "text/plain": [
       "<Item title:\"Air Pollution CA Feature Layer\" type:Feature Layer Collection owner:dsc170wi24_44>"
      ]
     },
     "execution_count": 50,
     "metadata": {},
     "output_type": "execute_result"
    }
   ],
   "source": [
    "# Change to feature layer \n",
    "#air_fl = air_n.to_features()\n",
    "#air_fl = gis.content.get('7ba57f788aa94960a0d99199a37b4891')\n",
    "\n",
    "air_fl = gis.content.get('a5c244c6241344509635eda832609967')\n",
    "air_fl"
   ]
  },
  {
   "cell_type": "code",
   "execution_count": null,
   "id": "98ca8151",
   "metadata": {},
   "outputs": [],
   "source": [
    "#### River Proximity"
   ]
  },
  {
   "cell_type": "code",
   "execution_count": 70,
   "id": "be9ec68f",
   "metadata": {},
   "outputs": [
    {
     "name": "stderr",
     "output_type": "stream",
     "text": [
      "{\"cost\": 1.171}\n"
     ]
    }
   ],
   "source": []
  },
  {
   "cell_type": "code",
   "execution_count": null,
   "id": "093207a9",
   "metadata": {},
   "outputs": [],
   "source": [
    "#### Trail Proximity"
   ]
  },
  {
   "cell_type": "markdown",
   "id": "72df77a3",
   "metadata": {},
   "source": [
    "--------------------------------------------------------------------------------------"
   ]
  },
  {
   "cell_type": "markdown",
   "id": "f0a6013e",
   "metadata": {},
   "source": [
    "## Analysis"
   ]
  },
  {
   "cell_type": "markdown",
   "id": "2356f323",
   "metadata": {},
   "source": [
    "***TODO***\n",
    "\n",
    "Provide a general outline of your analysis (in a markdown), and then document it step by step\n",
    "as you code the solution. Please make sure that we can reproduce your analysis by running\n",
    "your notebook. As before, a diagram describing your workflow would be helpful.\n",
    "\n",
    "Please also reflect on how your actual analysis steps were different compared to your project\n",
    "proposal - or state that you didn’t deviate from the initial plan.\n",
    "\n",
    "(a combination of markdown and documented code cells)\n",
    "(at least 500 words)"
   ]
  },
  {
   "cell_type": "code",
   "execution_count": 51,
   "id": "18a3ddc0",
   "metadata": {},
   "outputs": [
    {
     "data": {
      "image/jpeg": "[encoded data removed]",
      "text/plain": [
       "<ImageryLayer url:\"https://ic.img.arcgis.com/arcgis/rest/services/VIIRS/NighttimeLightsMDNB/ImageServer\">"
      ]
     },
     "execution_count": 51,
     "metadata": {},
     "output_type": "execute_result"
    }
   ],
   "source": [
    "result = 0.5*light_pollution_n + 0.5*air_n\n",
    "result2"
   ]
  },
  {
   "cell_type": "code",
   "execution_count": 41,
   "id": "a05d8d5d",
   "metadata": {},
   "outputs": [],
   "source": [
    "#result_lyr = result.save(\"result_test_12345\",gis=gis)"
   ]
  },
  {
   "cell_type": "code",
   "execution_count": 106,
   "id": "891c30bf",
   "metadata": {},
   "outputs": [
    {
     "data": {
      "text/plain": [
       "{\n",
       "  \"currentVersion\": 11.2,\n",
       "  \"name\": \"result_test_12345\",\n",
       "  \"serviceDescription\": \"\",\n",
       "  \"description\": \"\",\n",
       "  \"type\": \"ImageServer\",\n",
       "  \"capabilities\": \"Image,Metadata,TilesOnly\",\n",
       "  \"copyrightText\": \"\",\n",
       "  \"serviceItemId\": \"98f7ce52906f4734b0a4cf4f8281f432\",\n",
       "  \"meanPixelSize\": 463.831191087827,\n",
       "  \"server\": \"eGSDp8lpKe5izqVc\",\n",
       "  \"created\": null,\n",
       "  \"modified\": null,\n",
       "  \"status\": \"created\",\n",
       "  \"access\": \"SECURE\",\n",
       "  \"allowAnalysis\": true,\n",
       "  \"allowCopy\": false,\n",
       "  \"serviceSourceType\": \"esriImageServiceSourceTypeDataset\",\n",
       "  \"spatialReference\": {\n",
       "    \"wkid\": 102100,\n",
       "    \"latestWkid\": 3857\n",
       "  },\n",
       "  \"extent\": {\n",
       "    \"xmin\": -463.4433969669044,\n",
       "    \"ymin\": -330.38365641304836,\n",
       "    \"xmax\": 0.3877941209225355,\n",
       "    \"ymax\": 133.44753467477858,\n",
       "    \"spatialReference\": {\n",
       "      \"wkid\": 102100,\n",
       "      \"latestWkid\": 3857\n",
       "    }\n",
       "  },\n",
       "  \"initialExtent\": {\n",
       "    \"xmin\": -463.4433969669044,\n",
       "    \"ymin\": -330.38365641304836,\n",
       "    \"xmax\": 0.3877941209225355,\n",
       "    \"ymax\": 133.44753467477858,\n",
       "    \"spatialReference\": {\n",
       "      \"wkid\": 102100,\n",
       "      \"latestWkid\": 3857\n",
       "    }\n",
       "  },\n",
       "  \"fullExtent\": {\n",
       "    \"xmin\": -463.4433969669044,\n",
       "    \"ymin\": -330.38365641304836,\n",
       "    \"xmax\": 0.3877941209225355,\n",
       "    \"ymax\": 133.44753467477858,\n",
       "    \"spatialReference\": {\n",
       "      \"wkid\": 102100,\n",
       "      \"latestWkid\": 3857\n",
       "    }\n",
       "  },\n",
       "  \"datasetFormat\": \"Cache/LERC2D\",\n",
       "  \"compressionType\": \"LERC\",\n",
       "  \"uncompressedSize\": 0,\n",
       "  \"pixelSizeX\": 463.831191087827,\n",
       "  \"pixelSizeY\": 463.831191087827,\n",
       "  \"blockWidth\": 256,\n",
       "  \"blockHeight\": 256,\n",
       "  \"bandCount\": 1,\n",
       "  \"bandNames\": [\n",
       "    \"Band_1\"\n",
       "  ],\n",
       "  \"pixelType\": \"F32\",\n",
       "  \"minPixelSize\": 463.831191087827,\n",
       "  \"maxPixelSize\": 463.831191087827,\n",
       "  \"minScale\": 1753059.26334026,\n",
       "  \"maxScale\": 1753059.26334026,\n",
       "  \"serviceDataType\": \"esriImageServiceDataTypeGeneric\",\n",
       "  \"noDataValue\": -3.402823e+38,\n",
       "  \"noDataValues\": [\n",
       "    -3.402823e+38\n",
       "  ],\n",
       "  \"minValues\": [],\n",
       "  \"maxValues\": [],\n",
       "  \"meanValues\": [],\n",
       "  \"stdvValues\": [],\n",
       "  \"objectIdField\": \"\",\n",
       "  \"fields\": [],\n",
       "  \"defaultMosaicMethod\": \"\",\n",
       "  \"allowedMosaicMethods\": \"\",\n",
       "  \"sortField\": \"\",\n",
       "  \"sortValue\": null,\n",
       "  \"sortAscending\": true,\n",
       "  \"singleFusedMapCache\": true,\n",
       "  \"tileInfo\": {\n",
       "    \"rows\": 256,\n",
       "    \"cols\": 256,\n",
       "    \"dpi\": 96,\n",
       "    \"preciseDpi\": 96,\n",
       "    \"format\": \"LERC2D\",\n",
       "    \"storageFormat\": \"esriMapCacheStorageModeCompactV2\",\n",
       "    \"packetSize\": 16,\n",
       "    \"compressionQuality\": 0,\n",
       "    \"antialiasing\": false,\n",
       "    \"origin\": {\n",
       "      \"x\": -463.443396966904,\n",
       "      \"y\": 133.447534674779\n",
       "    },\n",
       "    \"spatialReference\": {\n",
       "      \"wkid\": 102100,\n",
       "      \"latestWkid\": 3857\n",
       "    },\n",
       "    \"lods\": [\n",
       "      {\n",
       "        \"level\": 0,\n",
       "        \"resolution\": 463.831191087827,\n",
       "        \"scale\": 1753059.26334026\n",
       "      }\n",
       "    ]\n",
       "  },\n",
       "  \"cacheType\": \"Raster\",\n",
       "  \"allowRasterFunction\": false,\n",
       "  \"hasHistograms\": true,\n",
       "  \"hasColormap\": false,\n",
       "  \"hasRasterAttributeTable\": false,\n",
       "  \"exportTilesAllowed\": false,\n",
       "  \"maxExportTilesCount\": 100000,\n",
       "  \"hasMultidimensions\": false\n",
       "}"
      ]
     },
     "execution_count": 106,
     "metadata": {},
     "output_type": "execute_result"
    }
   ],
   "source": [
    "result_lyr.layers[0].properties"
   ]
  },
  {
   "cell_type": "code",
   "execution_count": 107,
   "id": "dc257bdf",
   "metadata": {},
   "outputs": [
    {
     "name": "stdout",
     "output_type": "stream",
     "text": [
      "{'histograms': [{'size': 256, 'min': -0.5, 'max': 255.5, 'counts': [0, 0, 0, 0, 0, 0, 0, 0, 0, 0, 0, 0, 0, 0, 0, 0, 0, 0, 0, 0, 0, 0, 0, 0, 0, 0, 0, 0, 0, 0, 0, 0, 0, 0, 0, 0, 0, 0, 0, 0, 0, 0, 0, 0, 0, 0, 0, 0, 0, 0, 0, 0, 0, 0, 0, 0, 0, 0, 0, 0, 0, 0, 0, 0, 0, 0, 0, 0, 0, 0, 0, 0, 0, 0, 0, 0, 0, 0, 0, 0, 0, 0, 0, 0, 0, 0, 0, 0, 0, 0, 0, 0, 0, 0, 0, 0, 0, 0, 0, 0, 0, 0, 0, 0, 0, 0, 0, 0, 0, 0, 0, 0, 0, 0, 0, 0, 0, 0, 0, 0, 0, 0, 0, 0, 0, 0, 0, 0, 0, 0, 0, 0, 0, 0, 0, 0, 0, 0, 0, 0, 0, 0, 0, 0, 0, 0, 0, 0, 0, 0, 0, 0, 0, 0, 0, 0, 0, 0, 0, 0, 0, 0, 0, 0, 0, 0, 0, 0, 0, 0, 0, 0, 0, 0, 0, 0, 0, 0, 0, 0, 0, 0, 0, 0, 0, 0, 0, 0, 0, 0, 0, 0, 0, 0, 0, 0, 0, 0, 0, 0, 0, 0, 0, 0, 0, 0, 0, 0, 0, 0, 0, 0, 0, 0, 0, 0, 0, 0, 0, 0, 0, 0, 0, 0, 0, 0, 0, 0, 0, 0, 0, 0, 0, 0, 0, 0, 0, 0, 0, 0, 0, 0, 0, 0, 0, 0, 0, 0, 0, 0, 0, 0, 0, 0, 0, 0]}]}\n"
     ]
    },
    {
     "data": {
      "image/jpeg": "[encoded data removed]",
      "text/plain": [
       "<ImageryLayer url:\"https://rasterutils1.arcgis.com/arcgis/rest/services/RasterRendering/ImageServer\">"
      ]
     },
     "execution_count": 107,
     "metadata": {},
     "output_type": "execute_result"
    }
   ],
   "source": [
    "# not suitable (red) and suitable (green)\n",
    "result2_b = remap(raster=result_lyr.layers[0],\n",
    "                  input_ranges=[0,7, 7,141],\n",
    "                  output_values=[1,0],  astype='U8')\n",
    "print(result2_b.compute_histograms(geometry=study_area_geom))\n",
    "clrmap2 =  [[1, 230, 0, 0], [0, 38, 115, 0]]\n",
    "\n",
    "result2_c = colormap(result2_b, colormap=clrmap2)\n",
    "result2_c"
   ]
  },
  {
   "cell_type": "code",
   "execution_count": 108,
   "id": "05ae2081",
   "metadata": {},
   "outputs": [
    {
     "ename": "Exception",
     "evalue": "You do not have permissions to access this resource or perform this operation.\n(Error Code: 403)",
     "output_type": "error",
     "traceback": [
      "\u001b[0;31m---------------------------------------------------------------------------\u001b[0m",
      "\u001b[0;31mException\u001b[0m                                 Traceback (most recent call last)",
      "\u001b[0;32m/tmp/ipykernel_1044/763889396.py\u001b[0m in \u001b[0;36m<module>\u001b[0;34m\u001b[0m\n\u001b[0;32m----> 1\u001b[0;31m \u001b[0mresultb_lyr\u001b[0m \u001b[0;34m=\u001b[0m \u001b[0mgis\u001b[0m\u001b[0;34m.\u001b[0m\u001b[0mcontent\u001b[0m\u001b[0;34m.\u001b[0m\u001b[0mget\u001b[0m\u001b[0;34m(\u001b[0m\u001b[0;34m'bebd505291844055b36da1a181500fee'\u001b[0m\u001b[0;34m)\u001b[0m\u001b[0;34m\u001b[0m\u001b[0;34m\u001b[0m\u001b[0m\n\u001b[0m\u001b[1;32m      2\u001b[0m \u001b[0mresultb_lr\u001b[0m \u001b[0;34m=\u001b[0m \u001b[0mresultb_lyr\u001b[0m\u001b[0;34m.\u001b[0m\u001b[0mlayers\u001b[0m\u001b[0;34m[\u001b[0m\u001b[0;36m0\u001b[0m\u001b[0;34m]\u001b[0m\u001b[0;34m.\u001b[0m\u001b[0mto_features\u001b[0m\u001b[0;34m(\u001b[0m\u001b[0;34m)\u001b[0m\u001b[0;34m\u001b[0m\u001b[0;34m\u001b[0m\u001b[0m\n\u001b[1;32m      3\u001b[0m \u001b[0mresutlb_lr\u001b[0m\u001b[0;34m\u001b[0m\u001b[0;34m\u001b[0m\u001b[0m\n",
      "\u001b[0;32m/opt/conda/lib/python3.9/site-packages/arcgis/gis/__init__.py\u001b[0m in \u001b[0;36mget\u001b[0;34m(self, itemid)\u001b[0m\n\u001b[1;32m   7275\u001b[0m                 \u001b[0;32mreturn\u001b[0m \u001b[0;32mNone\u001b[0m\u001b[0;34m\u001b[0m\u001b[0;34m\u001b[0m\u001b[0m\n\u001b[1;32m   7276\u001b[0m             \u001b[0;32melse\u001b[0m\u001b[0;34m:\u001b[0m\u001b[0;34m\u001b[0m\u001b[0;34m\u001b[0m\u001b[0m\n\u001b[0;32m-> 7277\u001b[0;31m                 \u001b[0;32mraise\u001b[0m \u001b[0me\u001b[0m\u001b[0;34m\u001b[0m\u001b[0;34m\u001b[0m\u001b[0m\n\u001b[0m\u001b[1;32m   7278\u001b[0m \u001b[0;34m\u001b[0m\u001b[0m\n\u001b[1;32m   7279\u001b[0m         \u001b[0;32mif\u001b[0m \u001b[0mitem\u001b[0m \u001b[0;32mis\u001b[0m \u001b[0;32mnot\u001b[0m \u001b[0;32mNone\u001b[0m\u001b[0;34m:\u001b[0m\u001b[0;34m\u001b[0m\u001b[0;34m\u001b[0m\u001b[0m\n",
      "\u001b[0;32m/opt/conda/lib/python3.9/site-packages/arcgis/gis/__init__.py\u001b[0m in \u001b[0;36mget\u001b[0;34m(self, itemid)\u001b[0m\n\u001b[1;32m   7265\u001b[0m         \"\"\"\n\u001b[1;32m   7266\u001b[0m         \u001b[0;32mtry\u001b[0m\u001b[0;34m:\u001b[0m\u001b[0;34m\u001b[0m\u001b[0;34m\u001b[0m\u001b[0m\n\u001b[0;32m-> 7267\u001b[0;31m             \u001b[0mitem\u001b[0m \u001b[0;34m=\u001b[0m \u001b[0mself\u001b[0m\u001b[0;34m.\u001b[0m\u001b[0m_portal\u001b[0m\u001b[0;34m.\u001b[0m\u001b[0mget_item\u001b[0m\u001b[0;34m(\u001b[0m\u001b[0mitemid\u001b[0m\u001b[0;34m)\u001b[0m\u001b[0;34m\u001b[0m\u001b[0;34m\u001b[0m\u001b[0m\n\u001b[0m\u001b[1;32m   7268\u001b[0m         \u001b[0;32mexcept\u001b[0m \u001b[0mRuntimeError\u001b[0m \u001b[0;32mas\u001b[0m \u001b[0mre\u001b[0m\u001b[0;34m:\u001b[0m\u001b[0;34m\u001b[0m\u001b[0;34m\u001b[0m\u001b[0m\n\u001b[1;32m   7269\u001b[0m             \u001b[0;32mif\u001b[0m \u001b[0mre\u001b[0m\u001b[0;34m.\u001b[0m\u001b[0margs\u001b[0m\u001b[0;34m[\u001b[0m\u001b[0;36m0\u001b[0m\u001b[0;34m]\u001b[0m\u001b[0;34m.\u001b[0m\u001b[0m__contains__\u001b[0m\u001b[0;34m(\u001b[0m\u001b[0;34m\"Item does not exist or is inaccessible\"\u001b[0m\u001b[0;34m)\u001b[0m\u001b[0;34m:\u001b[0m\u001b[0;34m\u001b[0m\u001b[0;34m\u001b[0m\u001b[0m\n",
      "\u001b[0;32m/opt/conda/lib/python3.9/site-packages/arcgis/gis/_impl/_portalpy.py\u001b[0m in \u001b[0;36mget_item\u001b[0;34m(self, itemid)\u001b[0m\n\u001b[1;32m   1423\u001b[0m             \u001b[0;34m==\u001b[0m\u001b[0;34m==\u001b[0m\u001b[0;34m==\u001b[0m\u001b[0;34m==\u001b[0m\u001b[0;34m==\u001b[0m\u001b[0;34m==\u001b[0m\u001b[0;34m==\u001b[0m\u001b[0;34m==\u001b[0m  \u001b[0;34m==\u001b[0m\u001b[0;34m==\u001b[0m\u001b[0;34m==\u001b[0m\u001b[0;34m==\u001b[0m\u001b[0;34m==\u001b[0m\u001b[0;34m==\u001b[0m\u001b[0;34m==\u001b[0m\u001b[0;34m==\u001b[0m\u001b[0;34m==\u001b[0m\u001b[0;34m==\u001b[0m\u001b[0;34m==\u001b[0m\u001b[0;34m==\u001b[0m\u001b[0;34m==\u001b[0m\u001b[0;34m==\u001b[0m\u001b[0;34m==\u001b[0m\u001b[0;34m==\u001b[0m\u001b[0;34m==\u001b[0m\u001b[0;34m==\u001b[0m\u001b[0;34m==\u001b[0m\u001b[0;34m==\u001b[0m\u001b[0;34m==\u001b[0m\u001b[0;34m==\u001b[0m\u001b[0;34m==\u001b[0m\u001b[0;34m==\u001b[0m\u001b[0;34m==\u001b[0m\u001b[0;34m==\u001b[0m\u001b[0;34m==\u001b[0m\u001b[0;34m==\u001b[0m\u001b[0;34m\u001b[0m\u001b[0;34m\u001b[0m\u001b[0m\n\u001b[1;32m   1424\u001b[0m         \"\"\"\n\u001b[0;32m-> 1425\u001b[0;31m         \u001b[0;32mreturn\u001b[0m \u001b[0mself\u001b[0m\u001b[0;34m.\u001b[0m\u001b[0mcon\u001b[0m\u001b[0;34m.\u001b[0m\u001b[0mpost\u001b[0m\u001b[0;34m(\u001b[0m\u001b[0;34m\"content/items/\"\u001b[0m \u001b[0;34m+\u001b[0m \u001b[0mitemid\u001b[0m\u001b[0;34m,\u001b[0m \u001b[0mself\u001b[0m\u001b[0;34m.\u001b[0m\u001b[0m_postdata\u001b[0m\u001b[0;34m(\u001b[0m\u001b[0;34m)\u001b[0m\u001b[0;34m)\u001b[0m\u001b[0;34m\u001b[0m\u001b[0;34m\u001b[0m\u001b[0m\n\u001b[0m\u001b[1;32m   1426\u001b[0m \u001b[0;34m\u001b[0m\u001b[0m\n\u001b[1;32m   1427\u001b[0m     def get_item_data(\n",
      "\u001b[0;32m/opt/conda/lib/python3.9/site-packages/arcgis/gis/_impl/_con/_connection.py\u001b[0m in \u001b[0;36mpost\u001b[0;34m(self, path, params, files, **kwargs)\u001b[0m\n\u001b[1;32m   1522\u001b[0m         \u001b[0;32mif\u001b[0m \u001b[0mreturn_raw_response\u001b[0m\u001b[0;34m:\u001b[0m\u001b[0;34m\u001b[0m\u001b[0;34m\u001b[0m\u001b[0m\n\u001b[1;32m   1523\u001b[0m             \u001b[0;32mreturn\u001b[0m \u001b[0mresp\u001b[0m\u001b[0;34m\u001b[0m\u001b[0;34m\u001b[0m\u001b[0m\n\u001b[0;32m-> 1524\u001b[0;31m         return self._handle_response(\n\u001b[0m\u001b[1;32m   1525\u001b[0m             \u001b[0mresp\u001b[0m\u001b[0;34m=\u001b[0m\u001b[0mresp\u001b[0m\u001b[0;34m,\u001b[0m\u001b[0;34m\u001b[0m\u001b[0;34m\u001b[0m\u001b[0m\n\u001b[1;32m   1526\u001b[0m             \u001b[0mout_path\u001b[0m\u001b[0;34m=\u001b[0m\u001b[0mout_path\u001b[0m\u001b[0;34m,\u001b[0m\u001b[0;34m\u001b[0m\u001b[0;34m\u001b[0m\u001b[0m\n",
      "\u001b[0;32m/opt/conda/lib/python3.9/site-packages/arcgis/gis/_impl/_con/_connection.py\u001b[0m in \u001b[0;36m_handle_response\u001b[0;34m(self, resp, file_name, out_path, try_json, force_bytes, ignore_error_key)\u001b[0m\n\u001b[1;32m    998\u001b[0m                     \u001b[0;32mreturn\u001b[0m \u001b[0mdata\u001b[0m\u001b[0;34m\u001b[0m\u001b[0;34m\u001b[0m\u001b[0m\n\u001b[1;32m    999\u001b[0m                 \u001b[0merrorcode\u001b[0m \u001b[0;34m=\u001b[0m \u001b[0mdata\u001b[0m\u001b[0;34m[\u001b[0m\u001b[0;34m\"error\"\u001b[0m\u001b[0;34m]\u001b[0m\u001b[0;34m[\u001b[0m\u001b[0;34m\"code\"\u001b[0m\u001b[0;34m]\u001b[0m \u001b[0;32mif\u001b[0m \u001b[0;34m\"code\"\u001b[0m \u001b[0;32min\u001b[0m \u001b[0mdata\u001b[0m\u001b[0;34m[\u001b[0m\u001b[0;34m\"error\"\u001b[0m\u001b[0;34m]\u001b[0m \u001b[0;32melse\u001b[0m \u001b[0;36m0\u001b[0m\u001b[0;34m\u001b[0m\u001b[0;34m\u001b[0m\u001b[0m\n\u001b[0;32m-> 1000\u001b[0;31m                 \u001b[0mself\u001b[0m\u001b[0;34m.\u001b[0m\u001b[0m_handle_json_error\u001b[0m\u001b[0;34m(\u001b[0m\u001b[0mdata\u001b[0m\u001b[0;34m[\u001b[0m\u001b[0;34m\"error\"\u001b[0m\u001b[0;34m]\u001b[0m\u001b[0;34m,\u001b[0m \u001b[0merrorcode\u001b[0m\u001b[0;34m)\u001b[0m\u001b[0;34m\u001b[0m\u001b[0;34m\u001b[0m\u001b[0m\n\u001b[0m\u001b[1;32m   1001\u001b[0m             \u001b[0;32mreturn\u001b[0m \u001b[0mdata\u001b[0m\u001b[0;34m\u001b[0m\u001b[0;34m\u001b[0m\u001b[0m\n\u001b[1;32m   1002\u001b[0m         \u001b[0;32melse\u001b[0m\u001b[0;34m:\u001b[0m\u001b[0;34m\u001b[0m\u001b[0;34m\u001b[0m\u001b[0m\n",
      "\u001b[0;32m/opt/conda/lib/python3.9/site-packages/arcgis/gis/_impl/_con/_connection.py\u001b[0m in \u001b[0;36m_handle_json_error\u001b[0;34m(self, error, errorcode)\u001b[0m\n\u001b[1;32m   1021\u001b[0m \u001b[0;34m\u001b[0m\u001b[0m\n\u001b[1;32m   1022\u001b[0m         \u001b[0merrormessage\u001b[0m \u001b[0;34m=\u001b[0m \u001b[0merrormessage\u001b[0m \u001b[0;34m+\u001b[0m \u001b[0;34m\"\\n(Error Code: \"\u001b[0m \u001b[0;34m+\u001b[0m \u001b[0mstr\u001b[0m\u001b[0;34m(\u001b[0m\u001b[0merrorcode\u001b[0m\u001b[0;34m)\u001b[0m \u001b[0;34m+\u001b[0m \u001b[0;34m\")\"\u001b[0m\u001b[0;34m\u001b[0m\u001b[0;34m\u001b[0m\u001b[0m\n\u001b[0;32m-> 1023\u001b[0;31m         \u001b[0;32mraise\u001b[0m \u001b[0mException\u001b[0m\u001b[0;34m(\u001b[0m\u001b[0merrormessage\u001b[0m\u001b[0;34m)\u001b[0m\u001b[0;34m\u001b[0m\u001b[0;34m\u001b[0m\u001b[0m\n\u001b[0m\u001b[1;32m   1024\u001b[0m \u001b[0;34m\u001b[0m\u001b[0m\n\u001b[1;32m   1025\u001b[0m     def post_multipart(\n",
      "\u001b[0;31mException\u001b[0m: You do not have permissions to access this resource or perform this operation.\n(Error Code: 403)"
     ]
    }
   ],
   "source": [
    "resultb_lyr = gis.content.get('bebd505291844055b36da1a181500fee')\n",
    "resultb_lr = resultb_lyr.layers[0].to_features()\n",
    "resutlb_lr"
   ]
  },
  {
   "cell_type": "code",
   "execution_count": 109,
   "id": "f46d8e4d",
   "metadata": {},
   "outputs": [
    {
     "ename": "Exception",
     "evalue": "You do not have permissions to access this resource or perform this operation.\n(Error Code: 403)",
     "output_type": "error",
     "traceback": [
      "\u001b[0;31m---------------------------------------------------------------------------\u001b[0m",
      "\u001b[0;31mException\u001b[0m                                 Traceback (most recent call last)",
      "\u001b[0;32m/tmp/ipykernel_1044/4084797888.py\u001b[0m in \u001b[0;36m<module>\u001b[0;34m\u001b[0m\n\u001b[0;32m----> 1\u001b[0;31m \u001b[0mfl\u001b[0m \u001b[0;34m=\u001b[0m \u001b[0mgis\u001b[0m\u001b[0;34m.\u001b[0m\u001b[0mcontent\u001b[0m\u001b[0;34m.\u001b[0m\u001b[0mget\u001b[0m\u001b[0;34m(\u001b[0m\u001b[0;34m'408cda385e164a958d916554edeac6c5'\u001b[0m\u001b[0;34m)\u001b[0m\u001b[0;34m\u001b[0m\u001b[0;34m\u001b[0m\u001b[0m\n\u001b[0m",
      "\u001b[0;32m/opt/conda/lib/python3.9/site-packages/arcgis/gis/__init__.py\u001b[0m in \u001b[0;36mget\u001b[0;34m(self, itemid)\u001b[0m\n\u001b[1;32m   7275\u001b[0m                 \u001b[0;32mreturn\u001b[0m \u001b[0;32mNone\u001b[0m\u001b[0;34m\u001b[0m\u001b[0;34m\u001b[0m\u001b[0m\n\u001b[1;32m   7276\u001b[0m             \u001b[0;32melse\u001b[0m\u001b[0;34m:\u001b[0m\u001b[0;34m\u001b[0m\u001b[0;34m\u001b[0m\u001b[0m\n\u001b[0;32m-> 7277\u001b[0;31m                 \u001b[0;32mraise\u001b[0m \u001b[0me\u001b[0m\u001b[0;34m\u001b[0m\u001b[0;34m\u001b[0m\u001b[0m\n\u001b[0m\u001b[1;32m   7278\u001b[0m \u001b[0;34m\u001b[0m\u001b[0m\n\u001b[1;32m   7279\u001b[0m         \u001b[0;32mif\u001b[0m \u001b[0mitem\u001b[0m \u001b[0;32mis\u001b[0m \u001b[0;32mnot\u001b[0m \u001b[0;32mNone\u001b[0m\u001b[0;34m:\u001b[0m\u001b[0;34m\u001b[0m\u001b[0;34m\u001b[0m\u001b[0m\n",
      "\u001b[0;32m/opt/conda/lib/python3.9/site-packages/arcgis/gis/__init__.py\u001b[0m in \u001b[0;36mget\u001b[0;34m(self, itemid)\u001b[0m\n\u001b[1;32m   7265\u001b[0m         \"\"\"\n\u001b[1;32m   7266\u001b[0m         \u001b[0;32mtry\u001b[0m\u001b[0;34m:\u001b[0m\u001b[0;34m\u001b[0m\u001b[0;34m\u001b[0m\u001b[0m\n\u001b[0;32m-> 7267\u001b[0;31m             \u001b[0mitem\u001b[0m \u001b[0;34m=\u001b[0m \u001b[0mself\u001b[0m\u001b[0;34m.\u001b[0m\u001b[0m_portal\u001b[0m\u001b[0;34m.\u001b[0m\u001b[0mget_item\u001b[0m\u001b[0;34m(\u001b[0m\u001b[0mitemid\u001b[0m\u001b[0;34m)\u001b[0m\u001b[0;34m\u001b[0m\u001b[0;34m\u001b[0m\u001b[0m\n\u001b[0m\u001b[1;32m   7268\u001b[0m         \u001b[0;32mexcept\u001b[0m \u001b[0mRuntimeError\u001b[0m \u001b[0;32mas\u001b[0m \u001b[0mre\u001b[0m\u001b[0;34m:\u001b[0m\u001b[0;34m\u001b[0m\u001b[0;34m\u001b[0m\u001b[0m\n\u001b[1;32m   7269\u001b[0m             \u001b[0;32mif\u001b[0m \u001b[0mre\u001b[0m\u001b[0;34m.\u001b[0m\u001b[0margs\u001b[0m\u001b[0;34m[\u001b[0m\u001b[0;36m0\u001b[0m\u001b[0;34m]\u001b[0m\u001b[0;34m.\u001b[0m\u001b[0m__contains__\u001b[0m\u001b[0;34m(\u001b[0m\u001b[0;34m\"Item does not exist or is inaccessible\"\u001b[0m\u001b[0;34m)\u001b[0m\u001b[0;34m:\u001b[0m\u001b[0;34m\u001b[0m\u001b[0;34m\u001b[0m\u001b[0m\n",
      "\u001b[0;32m/opt/conda/lib/python3.9/site-packages/arcgis/gis/_impl/_portalpy.py\u001b[0m in \u001b[0;36mget_item\u001b[0;34m(self, itemid)\u001b[0m\n\u001b[1;32m   1423\u001b[0m             \u001b[0;34m==\u001b[0m\u001b[0;34m==\u001b[0m\u001b[0;34m==\u001b[0m\u001b[0;34m==\u001b[0m\u001b[0;34m==\u001b[0m\u001b[0;34m==\u001b[0m\u001b[0;34m==\u001b[0m\u001b[0;34m==\u001b[0m  \u001b[0;34m==\u001b[0m\u001b[0;34m==\u001b[0m\u001b[0;34m==\u001b[0m\u001b[0;34m==\u001b[0m\u001b[0;34m==\u001b[0m\u001b[0;34m==\u001b[0m\u001b[0;34m==\u001b[0m\u001b[0;34m==\u001b[0m\u001b[0;34m==\u001b[0m\u001b[0;34m==\u001b[0m\u001b[0;34m==\u001b[0m\u001b[0;34m==\u001b[0m\u001b[0;34m==\u001b[0m\u001b[0;34m==\u001b[0m\u001b[0;34m==\u001b[0m\u001b[0;34m==\u001b[0m\u001b[0;34m==\u001b[0m\u001b[0;34m==\u001b[0m\u001b[0;34m==\u001b[0m\u001b[0;34m==\u001b[0m\u001b[0;34m==\u001b[0m\u001b[0;34m==\u001b[0m\u001b[0;34m==\u001b[0m\u001b[0;34m==\u001b[0m\u001b[0;34m==\u001b[0m\u001b[0;34m==\u001b[0m\u001b[0;34m==\u001b[0m\u001b[0;34m==\u001b[0m\u001b[0;34m\u001b[0m\u001b[0;34m\u001b[0m\u001b[0m\n\u001b[1;32m   1424\u001b[0m         \"\"\"\n\u001b[0;32m-> 1425\u001b[0;31m         \u001b[0;32mreturn\u001b[0m \u001b[0mself\u001b[0m\u001b[0;34m.\u001b[0m\u001b[0mcon\u001b[0m\u001b[0;34m.\u001b[0m\u001b[0mpost\u001b[0m\u001b[0;34m(\u001b[0m\u001b[0;34m\"content/items/\"\u001b[0m \u001b[0;34m+\u001b[0m \u001b[0mitemid\u001b[0m\u001b[0;34m,\u001b[0m \u001b[0mself\u001b[0m\u001b[0;34m.\u001b[0m\u001b[0m_postdata\u001b[0m\u001b[0;34m(\u001b[0m\u001b[0;34m)\u001b[0m\u001b[0;34m)\u001b[0m\u001b[0;34m\u001b[0m\u001b[0;34m\u001b[0m\u001b[0m\n\u001b[0m\u001b[1;32m   1426\u001b[0m \u001b[0;34m\u001b[0m\u001b[0m\n\u001b[1;32m   1427\u001b[0m     def get_item_data(\n",
      "\u001b[0;32m/opt/conda/lib/python3.9/site-packages/arcgis/gis/_impl/_con/_connection.py\u001b[0m in \u001b[0;36mpost\u001b[0;34m(self, path, params, files, **kwargs)\u001b[0m\n\u001b[1;32m   1522\u001b[0m         \u001b[0;32mif\u001b[0m \u001b[0mreturn_raw_response\u001b[0m\u001b[0;34m:\u001b[0m\u001b[0;34m\u001b[0m\u001b[0;34m\u001b[0m\u001b[0m\n\u001b[1;32m   1523\u001b[0m             \u001b[0;32mreturn\u001b[0m \u001b[0mresp\u001b[0m\u001b[0;34m\u001b[0m\u001b[0;34m\u001b[0m\u001b[0m\n\u001b[0;32m-> 1524\u001b[0;31m         return self._handle_response(\n\u001b[0m\u001b[1;32m   1525\u001b[0m             \u001b[0mresp\u001b[0m\u001b[0;34m=\u001b[0m\u001b[0mresp\u001b[0m\u001b[0;34m,\u001b[0m\u001b[0;34m\u001b[0m\u001b[0;34m\u001b[0m\u001b[0m\n\u001b[1;32m   1526\u001b[0m             \u001b[0mout_path\u001b[0m\u001b[0;34m=\u001b[0m\u001b[0mout_path\u001b[0m\u001b[0;34m,\u001b[0m\u001b[0;34m\u001b[0m\u001b[0;34m\u001b[0m\u001b[0m\n",
      "\u001b[0;32m/opt/conda/lib/python3.9/site-packages/arcgis/gis/_impl/_con/_connection.py\u001b[0m in \u001b[0;36m_handle_response\u001b[0;34m(self, resp, file_name, out_path, try_json, force_bytes, ignore_error_key)\u001b[0m\n\u001b[1;32m    998\u001b[0m                     \u001b[0;32mreturn\u001b[0m \u001b[0mdata\u001b[0m\u001b[0;34m\u001b[0m\u001b[0;34m\u001b[0m\u001b[0m\n\u001b[1;32m    999\u001b[0m                 \u001b[0merrorcode\u001b[0m \u001b[0;34m=\u001b[0m \u001b[0mdata\u001b[0m\u001b[0;34m[\u001b[0m\u001b[0;34m\"error\"\u001b[0m\u001b[0;34m]\u001b[0m\u001b[0;34m[\u001b[0m\u001b[0;34m\"code\"\u001b[0m\u001b[0;34m]\u001b[0m \u001b[0;32mif\u001b[0m \u001b[0;34m\"code\"\u001b[0m \u001b[0;32min\u001b[0m \u001b[0mdata\u001b[0m\u001b[0;34m[\u001b[0m\u001b[0;34m\"error\"\u001b[0m\u001b[0;34m]\u001b[0m \u001b[0;32melse\u001b[0m \u001b[0;36m0\u001b[0m\u001b[0;34m\u001b[0m\u001b[0;34m\u001b[0m\u001b[0m\n\u001b[0;32m-> 1000\u001b[0;31m                 \u001b[0mself\u001b[0m\u001b[0;34m.\u001b[0m\u001b[0m_handle_json_error\u001b[0m\u001b[0;34m(\u001b[0m\u001b[0mdata\u001b[0m\u001b[0;34m[\u001b[0m\u001b[0;34m\"error\"\u001b[0m\u001b[0;34m]\u001b[0m\u001b[0;34m,\u001b[0m \u001b[0merrorcode\u001b[0m\u001b[0;34m)\u001b[0m\u001b[0;34m\u001b[0m\u001b[0;34m\u001b[0m\u001b[0m\n\u001b[0m\u001b[1;32m   1001\u001b[0m             \u001b[0;32mreturn\u001b[0m \u001b[0mdata\u001b[0m\u001b[0;34m\u001b[0m\u001b[0;34m\u001b[0m\u001b[0m\n\u001b[1;32m   1002\u001b[0m         \u001b[0;32melse\u001b[0m\u001b[0;34m:\u001b[0m\u001b[0;34m\u001b[0m\u001b[0;34m\u001b[0m\u001b[0m\n",
      "\u001b[0;32m/opt/conda/lib/python3.9/site-packages/arcgis/gis/_impl/_con/_connection.py\u001b[0m in \u001b[0;36m_handle_json_error\u001b[0;34m(self, error, errorcode)\u001b[0m\n\u001b[1;32m   1021\u001b[0m \u001b[0;34m\u001b[0m\u001b[0m\n\u001b[1;32m   1022\u001b[0m         \u001b[0merrormessage\u001b[0m \u001b[0;34m=\u001b[0m \u001b[0merrormessage\u001b[0m \u001b[0;34m+\u001b[0m \u001b[0;34m\"\\n(Error Code: \"\u001b[0m \u001b[0;34m+\u001b[0m \u001b[0mstr\u001b[0m\u001b[0;34m(\u001b[0m\u001b[0merrorcode\u001b[0m\u001b[0;34m)\u001b[0m \u001b[0;34m+\u001b[0m \u001b[0;34m\")\"\u001b[0m\u001b[0;34m\u001b[0m\u001b[0;34m\u001b[0m\u001b[0m\n\u001b[0;32m-> 1023\u001b[0;31m         \u001b[0;32mraise\u001b[0m \u001b[0mException\u001b[0m\u001b[0;34m(\u001b[0m\u001b[0merrormessage\u001b[0m\u001b[0;34m)\u001b[0m\u001b[0;34m\u001b[0m\u001b[0;34m\u001b[0m\u001b[0m\n\u001b[0m\u001b[1;32m   1024\u001b[0m \u001b[0;34m\u001b[0m\u001b[0m\n\u001b[1;32m   1025\u001b[0m     def post_multipart(\n",
      "\u001b[0;31mException\u001b[0m: You do not have permissions to access this resource or perform this operation.\n(Error Code: 403)"
     ]
    }
   ],
   "source": [
    "fl = gis.content.get('408cda385e164a958d916554edeac6c5')"
   ]
  },
  {
   "cell_type": "code",
   "execution_count": 110,
   "id": "534832c9",
   "metadata": {},
   "outputs": [
    {
     "data": {
      "text/html": [
       "<div>\n",
       "<style scoped>\n",
       "    .dataframe tbody tr th:only-of-type {\n",
       "        vertical-align: middle;\n",
       "    }\n",
       "\n",
       "    .dataframe tbody tr th {\n",
       "        vertical-align: top;\n",
       "    }\n",
       "\n",
       "    .dataframe thead th {\n",
       "        text-align: right;\n",
       "    }\n",
       "</style>\n",
       "<table border=\"1\" class=\"dataframe\">\n",
       "  <thead>\n",
       "    <tr style=\"text-align: right;\">\n",
       "      <th></th>\n",
       "      <th>FID</th>\n",
       "      <th>Campground</th>\n",
       "      <th>GISID</th>\n",
       "      <th>TYPE</th>\n",
       "      <th>SUBTYPE</th>\n",
       "      <th>UNITNBR</th>\n",
       "      <th>DETAIL</th>\n",
       "      <th>UNITNAME</th>\n",
       "      <th>SHARE</th>\n",
       "      <th>GlobalID</th>\n",
       "      <th>...</th>\n",
       "      <th>geometry</th>\n",
       "      <th>Primitive</th>\n",
       "      <th>Developed</th>\n",
       "      <th>Horse</th>\n",
       "      <th>Restrooms</th>\n",
       "      <th>Showers</th>\n",
       "      <th>Flush_toilet</th>\n",
       "      <th>RV Parking</th>\n",
       "      <th>Vehicle Parking</th>\n",
       "      <th>Boat Parking</th>\n",
       "    </tr>\n",
       "  </thead>\n",
       "  <tbody>\n",
       "    <tr>\n",
       "      <th>0</th>\n",
       "      <td>2074</td>\n",
       "      <td>Ritchey Creek Campground</td>\n",
       "      <td>GIS0006395</td>\n",
       "      <td>Developed Family Camp Area</td>\n",
       "      <td>None</td>\n",
       "      <td>240</td>\n",
       "      <td>Ritchey Creek Campground</td>\n",
       "      <td>Bothe-Napa Valley SP</td>\n",
       "      <td>None</td>\n",
       "      <td>{AC98673D-5387-4783-BB72-ED2987FA86AE}</td>\n",
       "      <td>...</td>\n",
       "      <td>POINT (-13639496.195 4657348.494)</td>\n",
       "      <td>False</td>\n",
       "      <td>True</td>\n",
       "      <td>False</td>\n",
       "      <td>True</td>\n",
       "      <td>True</td>\n",
       "      <td>False</td>\n",
       "      <td>False</td>\n",
       "      <td>True</td>\n",
       "      <td>False</td>\n",
       "    </tr>\n",
       "    <tr>\n",
       "      <th>1</th>\n",
       "      <td>2075</td>\n",
       "      <td>Bothe-Napa Valley Group Camp</td>\n",
       "      <td>GIS0006396</td>\n",
       "      <td>Developed Group Camp Area</td>\n",
       "      <td>None</td>\n",
       "      <td>240</td>\n",
       "      <td>Bothe-Napa Valley Group Camp</td>\n",
       "      <td>Bothe-Napa Valley SP</td>\n",
       "      <td>None</td>\n",
       "      <td>{196BF388-E240-49EC-A361-4330849D07E8}</td>\n",
       "      <td>...</td>\n",
       "      <td>POINT (-13638520.925 4657386.784)</td>\n",
       "      <td>False</td>\n",
       "      <td>True</td>\n",
       "      <td>False</td>\n",
       "      <td>True</td>\n",
       "      <td>True</td>\n",
       "      <td>False</td>\n",
       "      <td>False</td>\n",
       "      <td>True</td>\n",
       "      <td>False</td>\n",
       "    </tr>\n",
       "    <tr>\n",
       "      <th>2</th>\n",
       "      <td>2076</td>\n",
       "      <td>Brannan Island Group Camp</td>\n",
       "      <td>GIS0006398</td>\n",
       "      <td>Developed Group Camp Area</td>\n",
       "      <td>None</td>\n",
       "      <td>314</td>\n",
       "      <td>Brannan Island Group Camp</td>\n",
       "      <td>Brannan Island SRA</td>\n",
       "      <td>None</td>\n",
       "      <td>{D089D94A-75A3-409E-8B95-613D918F27C5}</td>\n",
       "      <td>...</td>\n",
       "      <td>POINT (-13546051.275 4596380.365)</td>\n",
       "      <td>False</td>\n",
       "      <td>True</td>\n",
       "      <td>False</td>\n",
       "      <td>True</td>\n",
       "      <td>True</td>\n",
       "      <td>False</td>\n",
       "      <td>False</td>\n",
       "      <td>True</td>\n",
       "      <td>True</td>\n",
       "    </tr>\n",
       "    <tr>\n",
       "      <th>3</th>\n",
       "      <td>2077</td>\n",
       "      <td>Walk-in Campsites</td>\n",
       "      <td>GIS0006399</td>\n",
       "      <td>Developed Family Camp Area</td>\n",
       "      <td>None</td>\n",
       "      <td>314</td>\n",
       "      <td>Walk-in  Campsites</td>\n",
       "      <td>Brannan Island SRA</td>\n",
       "      <td>None</td>\n",
       "      <td>{C880DECC-2000-48C3-953E-B6AD4C29B49C}</td>\n",
       "      <td>...</td>\n",
       "      <td>POINT (-13546394.584 4595659.599)</td>\n",
       "      <td>False</td>\n",
       "      <td>True</td>\n",
       "      <td>False</td>\n",
       "      <td>True</td>\n",
       "      <td>True</td>\n",
       "      <td>False</td>\n",
       "      <td>False</td>\n",
       "      <td>True</td>\n",
       "      <td>True</td>\n",
       "    </tr>\n",
       "    <tr>\n",
       "      <th>4</th>\n",
       "      <td>2078</td>\n",
       "      <td>North Grove Campground</td>\n",
       "      <td>GIS0006400</td>\n",
       "      <td>Developed Family Camp Area</td>\n",
       "      <td>None</td>\n",
       "      <td>306</td>\n",
       "      <td>North Grove Campground</td>\n",
       "      <td>Calaveras Big Trees SP</td>\n",
       "      <td>None</td>\n",
       "      <td>{3C9F0EA0-DB71-479E-9486-C45DDB6C579E}</td>\n",
       "      <td>...</td>\n",
       "      <td>POINT (-13392613.832 4618511.183)</td>\n",
       "      <td>False</td>\n",
       "      <td>True</td>\n",
       "      <td>False</td>\n",
       "      <td>True</td>\n",
       "      <td>True</td>\n",
       "      <td>False</td>\n",
       "      <td>False</td>\n",
       "      <td>True</td>\n",
       "      <td>False</td>\n",
       "    </tr>\n",
       "  </tbody>\n",
       "</table>\n",
       "<p>5 rows × 21 columns</p>\n",
       "</div>"
      ],
      "text/plain": [
       "    FID                    Campground       GISID                        TYPE  \\\n",
       "0  2074      Ritchey Creek Campground  GIS0006395  Developed Family Camp Area   \n",
       "1  2075  Bothe-Napa Valley Group Camp  GIS0006396   Developed Group Camp Area   \n",
       "2  2076     Brannan Island Group Camp  GIS0006398   Developed Group Camp Area   \n",
       "3  2077             Walk-in Campsites  GIS0006399  Developed Family Camp Area   \n",
       "4  2078        North Grove Campground  GIS0006400  Developed Family Camp Area   \n",
       "\n",
       "  SUBTYPE UNITNBR                        DETAIL                UNITNAME SHARE  \\\n",
       "0    None     240      Ritchey Creek Campground    Bothe-Napa Valley SP  None   \n",
       "1    None     240  Bothe-Napa Valley Group Camp    Bothe-Napa Valley SP  None   \n",
       "2    None     314     Brannan Island Group Camp      Brannan Island SRA  None   \n",
       "3    None     314            Walk-in  Campsites      Brannan Island SRA  None   \n",
       "4    None     306        North Grove Campground  Calaveras Big Trees SP  None   \n",
       "\n",
       "                                 GlobalID  ...  \\\n",
       "0  {AC98673D-5387-4783-BB72-ED2987FA86AE}  ...   \n",
       "1  {196BF388-E240-49EC-A361-4330849D07E8}  ...   \n",
       "2  {D089D94A-75A3-409E-8B95-613D918F27C5}  ...   \n",
       "3  {C880DECC-2000-48C3-953E-B6AD4C29B49C}  ...   \n",
       "4  {3C9F0EA0-DB71-479E-9486-C45DDB6C579E}  ...   \n",
       "\n",
       "                            geometry Primitive  Developed  Horse  Restrooms  \\\n",
       "0  POINT (-13639496.195 4657348.494)     False       True  False       True   \n",
       "1  POINT (-13638520.925 4657386.784)     False       True  False       True   \n",
       "2  POINT (-13546051.275 4596380.365)     False       True  False       True   \n",
       "3  POINT (-13546394.584 4595659.599)     False       True  False       True   \n",
       "4  POINT (-13392613.832 4618511.183)     False       True  False       True   \n",
       "\n",
       "  Showers Flush_toilet RV Parking Vehicle Parking Boat Parking  \n",
       "0    True        False      False            True        False  \n",
       "1    True        False      False            True        False  \n",
       "2    True        False      False            True         True  \n",
       "3    True        False      False            True         True  \n",
       "4    True        False      False            True        False  \n",
       "\n",
       "[5 rows x 21 columns]"
      ]
     },
     "execution_count": 110,
     "metadata": {},
     "output_type": "execute_result"
    }
   ],
   "source": [
    "#Developed campgrounds and restrooms\n",
    "campgrounds_filtered = campgrounds_merged[campgrounds_merged['Showers'] == True]\n",
    "campgrounds_filtered = campgrounds_filtered[campgrounds_filtered['Restrooms'] == True]\n",
    "campgrounds_filtered.head()"
   ]
  },
  {
   "cell_type": "code",
   "execution_count": 111,
   "id": "579c25c0",
   "metadata": {},
   "outputs": [
    {
     "ename": "NameError",
     "evalue": "name 'fl' is not defined",
     "output_type": "error",
     "traceback": [
      "\u001b[0;31m---------------------------------------------------------------------------\u001b[0m",
      "\u001b[0;31mNameError\u001b[0m                                 Traceback (most recent call last)",
      "\u001b[0;32m/tmp/ipykernel_1044/3798356012.py\u001b[0m in \u001b[0;36m<module>\u001b[0;34m\u001b[0m\n\u001b[1;32m      2\u001b[0m \u001b[0mm\u001b[0m\u001b[0;34m.\u001b[0m\u001b[0mextent\u001b[0m \u001b[0;34m=\u001b[0m \u001b[0mstudy_area_extent\u001b[0m\u001b[0;34m\u001b[0m\u001b[0;34m\u001b[0m\u001b[0m\n\u001b[1;32m      3\u001b[0m \u001b[0mm\u001b[0m\u001b[0;34m.\u001b[0m\u001b[0mlegend\u001b[0m\u001b[0;34m=\u001b[0m\u001b[0;32mTrue\u001b[0m\u001b[0;34m\u001b[0m\u001b[0;34m\u001b[0m\u001b[0m\n\u001b[0;32m----> 4\u001b[0;31m m.add_layer(fl,\n\u001b[0m\u001b[1;32m      5\u001b[0m  {\"renderer\":\"ClassedColorRenderer\",\n\u001b[1;32m      6\u001b[0m  \u001b[0;34m\"field_name\"\u001b[0m\u001b[0;34m:\u001b[0m\u001b[0;34m\"gridcode\"\u001b[0m\u001b[0;34m,\u001b[0m\u001b[0;34m\u001b[0m\u001b[0;34m\u001b[0m\u001b[0m\n",
      "\u001b[0;31mNameError\u001b[0m: name 'fl' is not defined"
     ]
    }
   ],
   "source": [
    "m = gis.map()\n",
    "m.extent = study_area_extent        \n",
    "m.legend=True\n",
    "m.add_layer(fl,\n",
    " {\"renderer\":\"ClassedColorRenderer\",\n",
    " \"field_name\":\"gridcode\",\n",
    " \"opacity\":0.7,\n",
    " })\n",
    "m"
   ]
  },
  {
   "cell_type": "code",
   "execution_count": 119,
   "id": "15505bf5",
   "metadata": {},
   "outputs": [],
   "source": [
    "m.add_layer(camps_fl)"
   ]
  },
  {
   "cell_type": "code",
   "execution_count": 113,
   "id": "9561b2d6",
   "metadata": {},
   "outputs": [],
   "source": [
    "camps_filtered_sdf = GeoAccessor.from_geodataframe(campgrounds_filtered, inplace=False, column_name='SHAPE')\n",
    "camps_fl = camps_filtered_sdf.spatial.to_featurelayer(title='Campgrounds Filtered',\n",
    "                                                         gis=gis,\n",
    "                                                         tags='Camping')"
   ]
  },
  {
   "cell_type": "code",
   "execution_count": 111,
   "id": "92494c94",
   "metadata": {},
   "outputs": [
    {
     "ename": "AttributeError",
     "evalue": "'Item' object has no attribute 'intersect'",
     "output_type": "error",
     "traceback": [
      "\u001b[0;31m---------------------------------------------------------------------------\u001b[0m",
      "\u001b[0;31mKeyError\u001b[0m                                  Traceback (most recent call last)",
      "\u001b[0;32m/opt/conda/lib/python3.9/site-packages/arcgis/gis/__init__.py\u001b[0m in \u001b[0;36m__getattr__\u001b[0;34m(self, name)\u001b[0m\n\u001b[1;32m  13190\u001b[0m         \u001b[0;32mtry\u001b[0m\u001b[0;34m:\u001b[0m\u001b[0;34m\u001b[0m\u001b[0;34m\u001b[0m\u001b[0m\n\u001b[0;32m> 13191\u001b[0;31m             \u001b[0;32mreturn\u001b[0m \u001b[0mdict\u001b[0m\u001b[0;34m.\u001b[0m\u001b[0m__getitem__\u001b[0m\u001b[0;34m(\u001b[0m\u001b[0mself\u001b[0m\u001b[0;34m,\u001b[0m \u001b[0mname\u001b[0m\u001b[0;34m)\u001b[0m\u001b[0;34m\u001b[0m\u001b[0;34m\u001b[0m\u001b[0m\n\u001b[0m\u001b[1;32m  13192\u001b[0m         \u001b[0;32mexcept\u001b[0m\u001b[0;34m:\u001b[0m\u001b[0;34m\u001b[0m\u001b[0;34m\u001b[0m\u001b[0m\n",
      "\u001b[0;31mKeyError\u001b[0m: 'intersect'",
      "\nDuring handling of the above exception, another exception occurred:\n",
      "\u001b[0;31mAttributeError\u001b[0m                            Traceback (most recent call last)",
      "\u001b[0;32m/tmp/ipykernel_1122/665033474.py\u001b[0m in \u001b[0;36m<module>\u001b[0;34m\u001b[0m\n\u001b[0;32m----> 1\u001b[0;31m \u001b[0mcamps_fl\u001b[0m\u001b[0;34m.\u001b[0m\u001b[0mintersect\u001b[0m\u001b[0;34m(\u001b[0m\u001b[0mfl\u001b[0m\u001b[0;34m)\u001b[0m\u001b[0;34m\u001b[0m\u001b[0;34m\u001b[0m\u001b[0m\n\u001b[0m",
      "\u001b[0;32m/opt/conda/lib/python3.9/site-packages/arcgis/gis/__init__.py\u001b[0m in \u001b[0;36m__getattr__\u001b[0;34m(self, name)\u001b[0m\n\u001b[1;32m  13191\u001b[0m             \u001b[0;32mreturn\u001b[0m \u001b[0mdict\u001b[0m\u001b[0;34m.\u001b[0m\u001b[0m__getitem__\u001b[0m\u001b[0;34m(\u001b[0m\u001b[0mself\u001b[0m\u001b[0;34m,\u001b[0m \u001b[0mname\u001b[0m\u001b[0;34m)\u001b[0m\u001b[0;34m\u001b[0m\u001b[0;34m\u001b[0m\u001b[0m\n\u001b[1;32m  13192\u001b[0m         \u001b[0;32mexcept\u001b[0m\u001b[0;34m:\u001b[0m\u001b[0;34m\u001b[0m\u001b[0;34m\u001b[0m\u001b[0m\n\u001b[0;32m> 13193\u001b[0;31m             raise AttributeError(\n\u001b[0m\u001b[1;32m  13194\u001b[0m                 \u001b[0;34m\"'%s' object has no attribute '%s'\"\u001b[0m \u001b[0;34m%\u001b[0m \u001b[0;34m(\u001b[0m\u001b[0mtype\u001b[0m\u001b[0;34m(\u001b[0m\u001b[0mself\u001b[0m\u001b[0;34m)\u001b[0m\u001b[0;34m.\u001b[0m\u001b[0m__name__\u001b[0m\u001b[0;34m,\u001b[0m \u001b[0mname\u001b[0m\u001b[0;34m)\u001b[0m\u001b[0;34m\u001b[0m\u001b[0;34m\u001b[0m\u001b[0m\n\u001b[1;32m  13195\u001b[0m             )\n",
      "\u001b[0;31mAttributeError\u001b[0m: 'Item' object has no attribute 'intersect'"
     ]
    }
   ],
   "source": [
    "desired_polygon = campgrounds_filtered[campgrounds_filtered['attribute_column'] == desired_value].unary_union"
   ]
  },
  {
   "cell_type": "code",
   "execution_count": 151,
   "id": "b43c1389",
   "metadata": {},
   "outputs": [],
   "source": [
    "\n",
    "camps_routes_joined = camps_filtered_sdf.spatial.join(routes_buffered.query().sdf,how=\"inner\")\n",
    "camps_rivers_joined = camps_filtered_sdf.spatial.join(river_buffered.query().sdf,how=\"inner\")"
   ]
  },
  {
   "cell_type": "code",
   "execution_count": 156,
   "id": "730bec47",
   "metadata": {},
   "outputs": [
    {
     "data": {
      "text/plain": [
       "array([2074, 2075, 2078, 2079, 2081, 2082, 2112, 2367, 2368, 2080, 2083,\n",
       "       2084, 2313, 2314, 2315, 2316, 2317, 2085, 2170, 2171, 2091, 2093,\n",
       "       2473, 2474, 2475, 2092, 2421, 2094, 2095, 2385, 2386, 2422, 2118,\n",
       "       2119, 2120, 2124, 2521, 2126, 2132, 2196, 2197, 2318, 2319, 2380,\n",
       "       2381, 2129, 2130, 2253, 2397, 2135, 2136, 2143, 2278, 2489, 2144,\n",
       "       2152, 2312, 2359, 2360, 2361, 2362, 2363, 2453, 2454, 2162, 2163,\n",
       "       2401, 2402, 2165, 2166, 2167, 2172, 2382, 2184, 2185, 2186, 2200,\n",
       "       2206, 2207, 2269, 2459, 2460, 2201, 2203, 2204, 2220, 2221, 2268,\n",
       "       2337, 2338, 2339, 2280, 2281, 2282, 2283, 2298, 2297, 2299, 2291,\n",
       "       2309, 2310, 2559, 2391, 2398, 2399, 2400, 2417, 2418, 2420, 2419,\n",
       "       2488, 2560, 2535, 2536, 2537, 2538, 2539, 2540, 2541, 2542, 2543,\n",
       "       2544, 2545, 2550, 2547, 2548, 2549, 2581])"
      ]
     },
     "execution_count": 156,
     "metadata": {},
     "output_type": "execute_result"
    }
   ],
   "source": [
    "camps_routes_joined[\"FID\"].unique()\n",
    "camps_rivers_joined[\"FID\"].unique()"
   ]
  },
  {
   "cell_type": "code",
   "execution_count": 175,
   "id": "a3476d29",
   "metadata": {},
   "outputs": [],
   "source": [
    "route_filtered_sdf = camps_filtered_sdf.loc[camps_filtered_sdf['FID'].isin(camps_routes_joined[\"FID\"].unique())]\n",
    "river_filtered_sdf = camps_filtered_sdf.loc[camps_filtered_sdf['FID'].isin(camps_rivers_joined[\"FID\"].unique())]\n",
    "both_filtered_sdf = \n"
   ]
  },
  {
   "cell_type": "code",
   "execution_count": 200,
   "id": "2e550463",
   "metadata": {},
   "outputs": [],
   "source": [
    "boolean_matrix = ['Primitive', 'Developed', 'Horse', 'Restrooms', 'Showers', 'Flush_toilet', 'RV Parking', 'Vehicle Parking', 'Boat Parking']\n",
    "\n",
    "def get_suitable_campsites(data_dict, light_plltn_w, air_plltn_w, river_prox, trail_prox):\n",
    "    filtered_df = campgrounds_merged.copy()\n",
    "    # Filter boolean vars\n",
    "    for k,v in data_dict.items():\n",
    "        filtered_df = filtered_df[filtered_df[k] == v]\n",
    "    \n",
    "    # Filter by proximity to trail or river\n",
    "    if river_prox and trail_prox:\n",
    "        filtered_df = filtered_df.loc[(filtered_df['FID'].isin(camps_rivers_joined[\"FID\"].unique())) & (filtered_df['FID'].isin(camps_routes_joined[\"FID\"].unique()))]\n",
    "    elif river_prox:\n",
    "        filtered_df = filtered_df.loc[filtered_df['FID'].isin(camps_rivers_joined[\"FID\"].unique())]\n",
    "    elif trail_prox:\n",
    "        filtered_df = filtered_df.loc[filtered_df['FID'].isin(camps_routes_joined[\"FID\"].unique())]\n",
    "    \n",
    "    # Filter by air pollution / light pollution\n",
    "    \n",
    "    return filtered_df\n",
    "    \n",
    "\n",
    "\n"
   ]
  },
  {
   "cell_type": "code",
   "execution_count": 207,
   "id": "e3657ab5",
   "metadata": {},
   "outputs": [
    {
     "data": {
      "text/html": [
       "<div>\n",
       "<style scoped>\n",
       "    .dataframe tbody tr th:only-of-type {\n",
       "        vertical-align: middle;\n",
       "    }\n",
       "\n",
       "    .dataframe tbody tr th {\n",
       "        vertical-align: top;\n",
       "    }\n",
       "\n",
       "    .dataframe thead th {\n",
       "        text-align: right;\n",
       "    }\n",
       "</style>\n",
       "<table border=\"1\" class=\"dataframe\">\n",
       "  <thead>\n",
       "    <tr style=\"text-align: right;\">\n",
       "      <th></th>\n",
       "      <th>FID</th>\n",
       "      <th>Campground</th>\n",
       "      <th>GISID</th>\n",
       "      <th>TYPE</th>\n",
       "      <th>SUBTYPE</th>\n",
       "      <th>UNITNBR</th>\n",
       "      <th>DETAIL</th>\n",
       "      <th>UNITNAME</th>\n",
       "      <th>SHARE</th>\n",
       "      <th>GlobalID</th>\n",
       "      <th>...</th>\n",
       "      <th>geometry</th>\n",
       "      <th>Primitive</th>\n",
       "      <th>Developed</th>\n",
       "      <th>Horse</th>\n",
       "      <th>Restrooms</th>\n",
       "      <th>Showers</th>\n",
       "      <th>Flush_toilet</th>\n",
       "      <th>RV Parking</th>\n",
       "      <th>Vehicle Parking</th>\n",
       "      <th>Boat Parking</th>\n",
       "    </tr>\n",
       "  </thead>\n",
       "  <tbody>\n",
       "    <tr>\n",
       "      <th>21</th>\n",
       "      <td>2095</td>\n",
       "      <td>Devil's Gulch #1</td>\n",
       "      <td>GIS0006418</td>\n",
       "      <td>Horse Camp Area</td>\n",
       "      <td>None</td>\n",
       "      <td>233</td>\n",
       "      <td>None</td>\n",
       "      <td>Samuel P. Taylor SP</td>\n",
       "      <td>None</td>\n",
       "      <td>{16B274F0-524B-4AE4-85DE-5822F73A2560}</td>\n",
       "      <td>...</td>\n",
       "      <td>POINT (-13662586.641 4583894.611)</td>\n",
       "      <td>False</td>\n",
       "      <td>False</td>\n",
       "      <td>True</td>\n",
       "      <td>True</td>\n",
       "      <td>True</td>\n",
       "      <td>False</td>\n",
       "      <td>False</td>\n",
       "      <td>True</td>\n",
       "      <td>False</td>\n",
       "    </tr>\n",
       "    <tr>\n",
       "      <th>132</th>\n",
       "      <td>2206</td>\n",
       "      <td>Lake Perris Horse Camp</td>\n",
       "      <td>GIS0006546</td>\n",
       "      <td>Horse Camp Area</td>\n",
       "      <td>None</td>\n",
       "      <td>665</td>\n",
       "      <td>None</td>\n",
       "      <td>Lake Perris SRA</td>\n",
       "      <td>None</td>\n",
       "      <td>{EFF75813-0EA1-4EF6-B880-08CF10214B0D}</td>\n",
       "      <td>...</td>\n",
       "      <td>POINT (-13044490.066 4012429.197)</td>\n",
       "      <td>False</td>\n",
       "      <td>False</td>\n",
       "      <td>True</td>\n",
       "      <td>True</td>\n",
       "      <td>True</td>\n",
       "      <td>False</td>\n",
       "      <td>False</td>\n",
       "      <td>True</td>\n",
       "      <td>True</td>\n",
       "    </tr>\n",
       "    <tr>\n",
       "      <th>224</th>\n",
       "      <td>2298</td>\n",
       "      <td>Loafer Creek Horse Camps</td>\n",
       "      <td>GIS0006644</td>\n",
       "      <td>Horse Camp Area</td>\n",
       "      <td>None</td>\n",
       "      <td>151</td>\n",
       "      <td>None</td>\n",
       "      <td>Lake Oroville SRA</td>\n",
       "      <td>None</td>\n",
       "      <td>{AAB69154-9FDE-4584-89B1-49FC5AC68E6A}</td>\n",
       "      <td>...</td>\n",
       "      <td>POINT (-13520382.114 4796792.680)</td>\n",
       "      <td>False</td>\n",
       "      <td>False</td>\n",
       "      <td>True</td>\n",
       "      <td>True</td>\n",
       "      <td>True</td>\n",
       "      <td>False</td>\n",
       "      <td>True</td>\n",
       "      <td>True</td>\n",
       "      <td>True</td>\n",
       "    </tr>\n",
       "  </tbody>\n",
       "</table>\n",
       "<p>3 rows × 21 columns</p>\n",
       "</div>"
      ],
      "text/plain": [
       "      FID                Campground       GISID             TYPE SUBTYPE  \\\n",
       "21   2095          Devil's Gulch #1  GIS0006418  Horse Camp Area    None   \n",
       "132  2206    Lake Perris Horse Camp  GIS0006546  Horse Camp Area    None   \n",
       "224  2298  Loafer Creek Horse Camps  GIS0006644  Horse Camp Area    None   \n",
       "\n",
       "    UNITNBR DETAIL             UNITNAME SHARE  \\\n",
       "21      233   None  Samuel P. Taylor SP  None   \n",
       "132     665   None      Lake Perris SRA  None   \n",
       "224     151   None    Lake Oroville SRA  None   \n",
       "\n",
       "                                   GlobalID  ...  \\\n",
       "21   {16B274F0-524B-4AE4-85DE-5822F73A2560}  ...   \n",
       "132  {EFF75813-0EA1-4EF6-B880-08CF10214B0D}  ...   \n",
       "224  {AAB69154-9FDE-4584-89B1-49FC5AC68E6A}  ...   \n",
       "\n",
       "                              geometry Primitive  Developed  Horse  Restrooms  \\\n",
       "21   POINT (-13662586.641 4583894.611)     False      False   True       True   \n",
       "132  POINT (-13044490.066 4012429.197)     False      False   True       True   \n",
       "224  POINT (-13520382.114 4796792.680)     False      False   True       True   \n",
       "\n",
       "    Showers Flush_toilet RV Parking Vehicle Parking Boat Parking  \n",
       "21     True        False      False            True        False  \n",
       "132    True        False      False            True         True  \n",
       "224    True        False       True            True         True  \n",
       "\n",
       "[3 rows x 21 columns]"
      ]
     },
     "execution_count": 207,
     "metadata": {},
     "output_type": "execute_result"
    }
   ],
   "source": [
    "example_dict = {'Horse':True}\n",
    "get_suitable_campsites(example_dict, 1, 1, True, False)"
   ]
  },
  {
   "cell_type": "markdown",
   "id": "7b354031",
   "metadata": {},
   "source": [
    "--------------------------------------------------------------------------------------"
   ]
  },
  {
   "cell_type": "markdown",
   "id": "7ea4b29c",
   "metadata": {},
   "source": [
    "## Results"
   ]
  },
  {
   "cell_type": "markdown",
   "id": "f0db91ff",
   "metadata": {},
   "source": [
    "***TODO***\n",
    "\n",
    "Describe what you found, and why it is important; illustrate the findings with maps/charts\n",
    "reflecting your results.\n",
    "\n",
    "(a combination of markdown and documented code cells)\n",
    "\n",
    "(200 words)"
   ]
  },
  {
   "cell_type": "markdown",
   "id": "a6067c2d",
   "metadata": {},
   "source": [
    "## Discussion"
   ]
  },
  {
   "cell_type": "markdown",
   "id": "2c02320a",
   "metadata": {},
   "source": [
    "The discussion should include the following parts:\n",
    "1) Discuss your findings with respect to the literature sources in section 3. What do the\n",
    "results mean in the context of what is already known? What is new? Does it validate\n",
    "what was found in literature? How do your results improve our understanding of the\n",
    "problem?\n",
    "\n",
    "2) Of particular importance is a discussion of any trade-offs and decision points that you\n",
    "had to consider. This may include a discussion of any performance issues, width of\n",
    "buffers you applied, projections you chose, spatial operations you used, machine\n",
    "learning techniques, and other issues we discussed in class.\n",
    "(this can be done as a markdown, at least 200 words)\n",
    "\n",
    "\n",
    "We explore 3 different methods of filtering: Conventional boolean joins, raster vote weighting, as well as spatial join operations"
   ]
  },
  {
   "cell_type": "code",
   "execution_count": null,
   "id": "0e326777",
   "metadata": {},
   "outputs": [],
   "source": []
  },
  {
   "cell_type": "markdown",
   "id": "12a899e8",
   "metadata": {},
   "source": [
    "## Conclusions and Future Work"
   ]
  },
  {
   "cell_type": "markdown",
   "id": "0fab2f3d",
   "metadata": {},
   "source": [
    "Did you manage to completely answer your initial research question? If not, what additional\n",
    "data and additional analysis steps can you think of? Can your approach be extended to other\n",
    "areas or topics, and use additional datasets? How do you expect the results to be used and by\n",
    "whom?\n",
    "\n",
    "(a markdown cell, at least 200 words)\n"
   ]
  },
  {
   "cell_type": "code",
   "execution_count": null,
   "id": "372e9483",
   "metadata": {},
   "outputs": [],
   "source": []
  }
 ],
 "metadata": {
  "kernelspec": {
   "display_name": "Python 3 (clean)",
   "language": "python",
   "name": "python3_clean"
  },
  "language_info": {
   "codemirror_mode": {
    "name": "ipython",
    "version": 3
   },
   "file_extension": ".py",
   "mimetype": "text/x-python",
   "name": "python",
   "nbconvert_exporter": "python",
   "pygments_lexer": "ipython3",
   "version": "3.9.5"
  }
 },
 "nbformat": 4,
 "nbformat_minor": 5
}
