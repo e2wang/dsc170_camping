{
 "cells": [
  {
   "cell_type": "markdown",
   "id": "d16cabdb",
   "metadata": {},
   "source": [
    "--------------------------------------------------------------------------------------\n",
    "\n",
    "* Team member names: Elsie Wang, Hou Wan\n",
    "\n",
    "* Team member IDs: A16655032, A16462095\n",
    "\n",
    "--------------------------------------------------------------------------------------"
   ]
  },
  {
   "cell_type": "markdown",
   "id": "9d281a75",
   "metadata": {},
   "source": [
    "# Optimizing Camping Spots with OpenAI and ArcGIS"
   ]
  },
  {
   "cell_type": "markdown",
   "id": "c780dcaa",
   "metadata": {},
   "source": [
    "## Introduction"
   ]
  },
  {
   "cell_type": "markdown",
   "id": "63fd2499",
   "metadata": {},
   "source": [
    "***TODO***\n",
    "\n",
    "Question(s) you addressed, why it is important (5pt)\n",
    "\n",
    "As in your project proposal, describe the intended audience and the business case for finding a\n",
    "solution to your question.\n",
    "\n",
    "If your question changed significantly compared to your project proposal, please explain.\n",
    "(format this as a markdown cell)\n",
    "\n",
    "(at least 250 words):\n"
   ]
  },
  {
   "cell_type": "markdown",
   "id": "f6774942",
   "metadata": {},
   "source": [
    "### Related Work"
   ]
  },
  {
   "cell_type": "markdown",
   "id": "36b1319b",
   "metadata": {},
   "source": [
    "***TODO***\n",
    "\n",
    "At least 4 bibliographic references (with links) relevant to your question. These don’t have to be\n",
    "new references; you can continue what you started in your project proposal. As before, the\n",
    "references can include research publications, online articles, blogs, github repos, online\n",
    "applications, etc.\n",
    "\n",
    "As a new element of this section, reflect on how these references helped you specify the\n",
    "problem more narrowly, or focus on a specific hypothesis, or question conclusions they made,\n",
    "or improve over previously available code.\n",
    "(format this as a markdown cell)\n",
    "\n",
    "(at least 200 words)"
   ]
  },
  {
   "cell_type": "markdown",
   "id": "dbca5030",
   "metadata": {},
   "source": [
    "### Python Packages"
   ]
  },
  {
   "cell_type": "markdown",
   "id": "bc4961fe",
   "metadata": {},
   "source": [
    "***TODO***\n",
    "\n",
    "Make this a brief list – but also mention whether and how this list has evolved compared to the\n",
    "project proposal.\n",
    "\n",
    "In your notebook: identify and describe the libraries as you import them, using a combination\n",
    "of markdown and code cells.\n",
    "\n",
    "(at least 100 words)"
   ]
  },
  {
   "cell_type": "markdown",
   "id": "1f385391",
   "metadata": {},
   "source": [
    "### References"
   ]
  },
  {
   "cell_type": "markdown",
   "id": "23533a84",
   "metadata": {},
   "source": [
    "***TODO***\n",
    "\n",
    "Include a URL and a one-sentence description of each source you used. Make sure you have\n",
    "enough records for your machine learning application.\n",
    "\n",
    "Please reflect on how your choice of sources evolved since the proposal phase, and any\n",
    "concerns about the sources you used - related to data quality, provenance, access constraints,\n",
    "etc. Also, reflect on any data that would be helpful to address your research question, which\n",
    "you could not obtain (and why). Be creative! There is a lot of additional information, sometimes\n",
    "from less traditional sources, that may help.\n",
    "\n",
    "When you create a notebook, identify and describe the datasets as you load them. If the\n",
    "sources are in AGOL, provide source IDs, and/or load them using gis.content.get. Provide\n",
    "additional discussion in a markdown cell.\n",
    "\n",
    "(at least 200 words)\n"
   ]
  },
  {
   "cell_type": "markdown",
   "id": "e7e33445",
   "metadata": {},
   "source": [
    "\n",
    "\n"
   ]
  },
  {
   "cell_type": "markdown",
   "id": "61108479",
   "metadata": {},
   "source": [
    "--------------------------------------------------------------------------------------"
   ]
  },
  {
   "cell_type": "code",
   "execution_count": 1,
   "id": "67bdc826",
   "metadata": {},
   "outputs": [],
   "source": [
    "# Import statements, etc.\n",
    "import warnings\n",
    "warnings.filterwarnings(\"ignore\")\n",
    "\n",
    "from json import load\n",
    "import os\n",
    "import pandas as pd\n",
    "import geopandas as gpd\n",
    "import numpy as np\n",
    "\n",
    "import arcgis\n",
    "from arcgis.gis import GIS\n",
    "from arcgis.raster.functions import *\n",
    "from ipywidgets import *\n",
    "from IPython.display import display\n",
    "from arcgis.geocoding import geocode\n",
    "from arcgis.geometry import *\n",
    "from arcgis.features import GeoAccessor\n",
    "\n",
    "# Used with github repo\n",
    "LOGIN = load(open('./login.json', 'r'))\n",
    "gis = GIS(username=LOGIN['username'], password=LOGIN['password'])\n",
    "\n",
    "# TODO: Replace above with this in final notebook\n",
    "# import getpass\n",
    "# username = input('Enter username: ')\n",
    "# password = getpass.getpass(\"Enter password: \")\n",
    "# gis = GIS(username=username, password=password)"
   ]
  },
  {
   "cell_type": "markdown",
   "id": "4dad5a05",
   "metadata": {},
   "source": [
    "## Data Cleaning"
   ]
  },
  {
   "cell_type": "markdown",
   "id": "0262116d",
   "metadata": {},
   "source": [
    "***TODO***\n",
    "\n",
    "Describe the cleaning/wrangling operations that you performed, and whether you realized you\n",
    "needed to clean the data by examining metadata documents or by introspecting the data itself.\n",
    "Was the amount of cleaning/data preparation similar to what you expected when writing\n",
    "project proposal?\n",
    "\n",
    "Organize the discussion and code as a combination of markdown and code cells.\n",
    "(at least 100 words – less if you didn’t have to do any cleaning!)"
   ]
  },
  {
   "cell_type": "markdown",
   "id": "fae7d3bd",
   "metadata": {},
   "source": [
    "Potential Factors:\n",
    "- primitive vs campground*\n",
    "- light pollution\n",
    "- water accessibility\n",
    "- stargazing\n",
    "- proximity from roads\n",
    "- proximity from hiking trails\n",
    "- near water\n",
    "- tent vs car vs rv camping\n",
    "- weather: winter vs summer camping\n",
    "- campfires\n",
    "- ammentities: water, showers, restrooms, mobile service\n",
    "\n",
    "\n",
    "*essential information"
   ]
  },
  {
   "cell_type": "markdown",
   "id": "513a60e8",
   "metadata": {},
   "source": [
    "### Load Datasets"
   ]
  },
  {
   "cell_type": "code",
   "execution_count": 2,
   "id": "35bd7755",
   "metadata": {},
   "outputs": [],
   "source": [
    "data_location = os.environ[\"HOME\"] + '/dsc170_finalproject_camping/data/'"
   ]
  },
  {
   "cell_type": "code",
   "execution_count": 4,
   "id": "59dcf25f",
   "metadata": {},
   "outputs": [],
   "source": [
    "# Load in shapefile\n",
    "park_boundaries = gpd.read_file(data_location + 'park_boundaries/ParkBoundaries.shp')\n",
    "campgrounds = gpd.read_file(data_location + 'campgrounds/Campgrounds.shp')\n",
    "buildings = gpd.read_file(data_location + 'buildings/Buildings.shp')\n",
    "parking = gpd.read_file(data_location + 'parking/ParkingPoints.shp')\n",
    "routes = gpd.read_file(data_location + 'routes/RecreationalRoutes.shp')\n",
    "\n",
    "# Load in imagery layers\n",
    "light_pollution = ImageryLayer('https://ic.img.arcgis.com/arcgis/rest/services/VIIRS/NighttimeLightsMDNB/ImageServer',gis)\n",
    "air_pollution = ImageryLayer('https://sedac.ciesin.columbia.edu/arcgis/rest/services/sedac/sdei_global_annual_avg_pm2_5_2001_2010_image_service/ImageServer', gis)"
   ]
  },
  {
   "cell_type": "markdown",
   "id": "35ee3989",
   "metadata": {},
   "source": [
    "### Descriptive Statistics"
   ]
  },
  {
   "cell_type": "markdown",
   "id": "4f8d8f6f",
   "metadata": {},
   "source": [
    "***TODO***\n",
    "\n",
    "Explore the data using maps, charts, and common descriptive statistics. Sample questions you\n",
    "can try to answer: is there spatial autocorrelation in the data? Are you dealing with random\n",
    "point patterns? What is the spatial mean and standard distance? Or why the above questions\n",
    "are not relevant to your research theme and the data?\n",
    "\n",
    "(a combination of markdown and documented code cells)"
   ]
  },
  {
   "cell_type": "code",
   "execution_count": 5,
   "id": "1f1a5917",
   "metadata": {},
   "outputs": [],
   "source": [
    "# Create a function to clip and set study area extent\n",
    "def extent_clip(feature):\n",
    "    feature.extent = study_area_extent\n",
    "    features_clip = clip(raster=feature, geometry=study_area_geom)\n",
    "    return features_clip"
   ]
  },
  {
   "cell_type": "code",
   "execution_count": 10,
   "id": "5b921170",
   "metadata": {},
   "outputs": [
    {
     "data": {
      "text/plain": [
       "{'xmin': -13090875.0407958,\n",
       " 'ymin': 3833847.56313313,\n",
       " 'xmax': -12922139.2950188,\n",
       " 'ymax': 3963248.36768519,\n",
       " 'spatialReference': {'latestwkid': 3857, 'wkid': 102100}}"
      ]
     },
     "execution_count": 10,
     "metadata": {},
     "output_type": "execute_result"
    }
   ],
   "source": [
    "# Derive the area of interest (AOI) and its geometry and extent. \n",
    "# The smaller the area the better (so that you don't run into raster size limitations)\n",
    "\n",
    "counties_item = gis.content.search('USA Counties generalized', 'Feature Layer', outside_org=True)[5]\n",
    "counties_lyr = counties_item.layers[0]\n",
    "study_area_query = counties_lyr.query(\"FIPS='06073'\", return_geometry=True)\n",
    "\n",
    "#Extract input data for study area\n",
    "study_area_geom = study_area_query.features[0].geometry\n",
    "study_area_geom['spatialReference'] = study_area_query.spatial_reference\n",
    "\n",
    "# Create extent dict\n",
    "study_area_ex = Geometry(study_area_geom).geoextent\n",
    "tup = (('xmin',study_area_ex[0]), ('ymin', study_area_ex[1]), ('xmax',study_area_ex[2]), ('ymax', study_area_ex[3]))\n",
    "study_area_extent = dict(tup)\n",
    "\n",
    "# Add crs\n",
    "crs = \"{'latestwkid':3857, 'wkid':102100}\"\n",
    "study_area_extent.update({'spatialReference':{'latestwkid':3857, 'wkid':102100}})\n",
    "study_area_extent"
   ]
  },
  {
   "cell_type": "markdown",
   "id": "14f85066",
   "metadata": {},
   "source": [
    "#### Buildings"
   ]
  },
  {
   "cell_type": "code",
   "execution_count": 12,
   "id": "1a224009",
   "metadata": {},
   "outputs": [
    {
     "data": {
      "text/html": [
       "<div>\n",
       "<style scoped>\n",
       "    .dataframe tbody tr th:only-of-type {\n",
       "        vertical-align: middle;\n",
       "    }\n",
       "\n",
       "    .dataframe tbody tr th {\n",
       "        vertical-align: top;\n",
       "    }\n",
       "\n",
       "    .dataframe thead th {\n",
       "        text-align: right;\n",
       "    }\n",
       "</style>\n",
       "<table border=\"1\" class=\"dataframe\">\n",
       "  <thead>\n",
       "    <tr style=\"text-align: right;\">\n",
       "      <th></th>\n",
       "      <th>Restrooms</th>\n",
       "      <th>Showers</th>\n",
       "      <th>Flush_toilet</th>\n",
       "    </tr>\n",
       "    <tr>\n",
       "      <th>UNITNAME</th>\n",
       "      <th></th>\n",
       "      <th></th>\n",
       "      <th></th>\n",
       "    </tr>\n",
       "  </thead>\n",
       "  <tbody>\n",
       "    <tr>\n",
       "      <th>Admiral William Standley SRA</th>\n",
       "      <td>True</td>\n",
       "      <td>False</td>\n",
       "      <td>False</td>\n",
       "    </tr>\n",
       "    <tr>\n",
       "      <th>Angel Island SP</th>\n",
       "      <td>True</td>\n",
       "      <td>True</td>\n",
       "      <td>False</td>\n",
       "    </tr>\n",
       "    <tr>\n",
       "      <th>Antelope Valley California Poppy Preserve (SNR)</th>\n",
       "      <td>True</td>\n",
       "      <td>False</td>\n",
       "      <td>False</td>\n",
       "    </tr>\n",
       "    <tr>\n",
       "      <th>Anza-Borrego Desert SP</th>\n",
       "      <td>True</td>\n",
       "      <td>False</td>\n",
       "      <td>False</td>\n",
       "    </tr>\n",
       "    <tr>\n",
       "      <th>Armstrong Redwoods SNR</th>\n",
       "      <td>True</td>\n",
       "      <td>True</td>\n",
       "      <td>False</td>\n",
       "    </tr>\n",
       "  </tbody>\n",
       "</table>\n",
       "</div>"
      ],
      "text/plain": [
       "                                                 Restrooms  Showers  \\\n",
       "UNITNAME                                                              \n",
       "Admiral William Standley SRA                          True    False   \n",
       "Angel Island SP                                       True     True   \n",
       "Antelope Valley California Poppy Preserve (SNR)       True    False   \n",
       "Anza-Borrego Desert SP                                True    False   \n",
       "Armstrong Redwoods SNR                                True     True   \n",
       "\n",
       "                                                 Flush_toilet  \n",
       "UNITNAME                                                       \n",
       "Admiral William Standley SRA                            False  \n",
       "Angel Island SP                                         False  \n",
       "Antelope Valley California Poppy Preserve (SNR)         False  \n",
       "Anza-Borrego Desert SP                                  False  \n",
       "Armstrong Redwoods SNR                                  False  "
      ]
     },
     "execution_count": 12,
     "metadata": {},
     "output_type": "execute_result"
    }
   ],
   "source": [
    "# Filter out NaN values\n",
    "buildings = buildings[buildings['TYPE'].notna()]\n",
    "\n",
    "# Filter rows and create columns for if restroom or shower\n",
    "restrooms = ['Chemical toilet', \n",
    "             'Combo building', \n",
    "             'Comfort station', \n",
    "             'Comfort station/dressing room', \n",
    "             'Flush toilet', \n",
    "             'Unisex combination building', \n",
    "             'Unisex comfort station', \n",
    "             'Vault toilet']\n",
    "showers = ['Bath house', \n",
    "           'Combo building', \n",
    "           'Shower building', \n",
    "           'Unisex combination building']\n",
    "buildings= buildings[buildings['TYPE'].isin(restrooms + showers)]\n",
    "buildings['Restrooms'] = buildings['TYPE'].isin(restrooms)\n",
    "buildings['Showers'] = buildings['TYPE'].isin(showers)\n",
    "buildings['Flush_toilet'] = buildings['TYPE'] == 'Flush toilet'\n",
    "\n",
    "# Group by campground\n",
    "def any_true(x):\n",
    "    '''Returns true if any values in series is true'''\n",
    "    return x.any()\n",
    "grouped_buildings = buildings.groupby('UNITNAME').agg({'Restrooms': any_true, \n",
    "                                                       'Showers': any_true, \n",
    "                                                       'Flush_toilet': any_true})\n",
    "grouped_buildings.head()"
   ]
  },
  {
   "cell_type": "markdown",
   "id": "baaca4ba",
   "metadata": {},
   "source": [
    "#### Parking"
   ]
  },
  {
   "cell_type": "code",
   "execution_count": 13,
   "id": "4a37dec5",
   "metadata": {},
   "outputs": [
    {
     "data": {
      "text/plain": [
       "Vehicle            2108\n",
       "Administrative      114\n",
       "Boat                 47\n",
       "Equestrian           26\n",
       "RV/Bus/Trailer       21\n",
       "Campground Spur       2\n",
       "Name: SUBTYPE, dtype: int64"
      ]
     },
     "execution_count": 13,
     "metadata": {},
     "output_type": "execute_result"
    }
   ],
   "source": [
    "parking['SUBTYPE'].value_counts()"
   ]
  },
  {
   "cell_type": "code",
   "execution_count": 14,
   "id": "5bea6ff5",
   "metadata": {},
   "outputs": [
    {
     "data": {
      "text/html": [
       "<div>\n",
       "<style scoped>\n",
       "    .dataframe tbody tr th:only-of-type {\n",
       "        vertical-align: middle;\n",
       "    }\n",
       "\n",
       "    .dataframe tbody tr th {\n",
       "        vertical-align: top;\n",
       "    }\n",
       "\n",
       "    .dataframe thead th {\n",
       "        text-align: right;\n",
       "    }\n",
       "</style>\n",
       "<table border=\"1\" class=\"dataframe\">\n",
       "  <thead>\n",
       "    <tr style=\"text-align: right;\">\n",
       "      <th></th>\n",
       "      <th>RV Parking</th>\n",
       "      <th>Vehicle Parking</th>\n",
       "      <th>Boat Parking</th>\n",
       "    </tr>\n",
       "    <tr>\n",
       "      <th>UNITNAME</th>\n",
       "      <th></th>\n",
       "      <th></th>\n",
       "      <th></th>\n",
       "    </tr>\n",
       "  </thead>\n",
       "  <tbody>\n",
       "    <tr>\n",
       "      <th>Ahjumawi Lava Springs SP</th>\n",
       "      <td>False</td>\n",
       "      <td>True</td>\n",
       "      <td>False</td>\n",
       "    </tr>\n",
       "    <tr>\n",
       "      <th>Anderson Marsh SHP</th>\n",
       "      <td>False</td>\n",
       "      <td>True</td>\n",
       "      <td>False</td>\n",
       "    </tr>\n",
       "    <tr>\n",
       "      <th>Andrew Molera SP</th>\n",
       "      <td>False</td>\n",
       "      <td>True</td>\n",
       "      <td>False</td>\n",
       "    </tr>\n",
       "    <tr>\n",
       "      <th>Angel Island SP</th>\n",
       "      <td>False</td>\n",
       "      <td>True</td>\n",
       "      <td>False</td>\n",
       "    </tr>\n",
       "    <tr>\n",
       "      <th>Antelope Valley California Poppy Preserve (SNR)</th>\n",
       "      <td>True</td>\n",
       "      <td>True</td>\n",
       "      <td>False</td>\n",
       "    </tr>\n",
       "  </tbody>\n",
       "</table>\n",
       "</div>"
      ],
      "text/plain": [
       "                                                 RV Parking  Vehicle Parking  \\\n",
       "UNITNAME                                                                       \n",
       "Ahjumawi Lava Springs SP                              False             True   \n",
       "Anderson Marsh SHP                                    False             True   \n",
       "Andrew Molera SP                                      False             True   \n",
       "Angel Island SP                                       False             True   \n",
       "Antelope Valley California Poppy Preserve (SNR)        True             True   \n",
       "\n",
       "                                                 Boat Parking  \n",
       "UNITNAME                                                       \n",
       "Ahjumawi Lava Springs SP                                False  \n",
       "Anderson Marsh SHP                                      False  \n",
       "Andrew Molera SP                                        False  \n",
       "Angel Island SP                                         False  \n",
       "Antelope Valley California Poppy Preserve (SNR)         False  "
      ]
     },
     "execution_count": 14,
     "metadata": {},
     "output_type": "execute_result"
    }
   ],
   "source": [
    "parking['RV Parking'] = parking['SUBTYPE'] == 'RV/Bus/Trailer'\n",
    "parking['Vehicle Parking'] = parking['SUBTYPE'] == 'Vehicle'\n",
    "parking['Boat Parking'] = parking['SUBTYPE'] == 'Boat'\n",
    "\n",
    "grouped_parking = parking.groupby('UNITNAME').agg({'RV Parking': any_true, \n",
    "                                                       'Vehicle Parking': any_true, \n",
    "                                                       'Boat Parking': any_true})\n",
    "grouped_parking.head()"
   ]
  },
  {
   "cell_type": "markdown",
   "id": "ae5195b9",
   "metadata": {},
   "source": [
    "#### Campgrounds"
   ]
  },
  {
   "cell_type": "code",
   "execution_count": 15,
   "id": "baac3184",
   "metadata": {},
   "outputs": [
    {
     "data": {
      "text/plain": [
       "Developed Family Camp Area    198\n",
       "Developed Group Camp Area      82\n",
       "Primitive Family Camp Area     78\n",
       "Environmental Camp Area        54\n",
       "Hike/Bike Camp Area            40\n",
       "Undefined                      25\n",
       "Horse Camp Area                18\n",
       "Primitive Group Camp Area      17\n",
       "Enroute Camp Area               8\n",
       "Walk-in Camp Area               1\n",
       "Name: TYPE, dtype: int64"
      ]
     },
     "execution_count": 15,
     "metadata": {},
     "output_type": "execute_result"
    }
   ],
   "source": [
    "campgrounds['TYPE'].value_counts()"
   ]
  },
  {
   "cell_type": "code",
   "execution_count": 16,
   "id": "0838c2b7",
   "metadata": {},
   "outputs": [
    {
     "data": {
      "text/html": [
       "<div>\n",
       "<style scoped>\n",
       "    .dataframe tbody tr th:only-of-type {\n",
       "        vertical-align: middle;\n",
       "    }\n",
       "\n",
       "    .dataframe tbody tr th {\n",
       "        vertical-align: top;\n",
       "    }\n",
       "\n",
       "    .dataframe thead th {\n",
       "        text-align: right;\n",
       "    }\n",
       "</style>\n",
       "<table border=\"1\" class=\"dataframe\">\n",
       "  <thead>\n",
       "    <tr style=\"text-align: right;\">\n",
       "      <th></th>\n",
       "      <th>FID</th>\n",
       "      <th>Campground</th>\n",
       "      <th>GISID</th>\n",
       "      <th>TYPE</th>\n",
       "      <th>SUBTYPE</th>\n",
       "      <th>UNITNBR</th>\n",
       "      <th>DETAIL</th>\n",
       "      <th>UNITNAME</th>\n",
       "      <th>SHARE</th>\n",
       "      <th>GlobalID</th>\n",
       "      <th>...</th>\n",
       "      <th>geometry</th>\n",
       "      <th>Primitive</th>\n",
       "      <th>Developed</th>\n",
       "      <th>Horse</th>\n",
       "      <th>Restrooms</th>\n",
       "      <th>Showers</th>\n",
       "      <th>Flush_toilet</th>\n",
       "      <th>RV Parking</th>\n",
       "      <th>Vehicle Parking</th>\n",
       "      <th>Boat Parking</th>\n",
       "    </tr>\n",
       "  </thead>\n",
       "  <tbody>\n",
       "    <tr>\n",
       "      <th>0</th>\n",
       "      <td>2074</td>\n",
       "      <td>Ritchey Creek Campground</td>\n",
       "      <td>GIS0006395</td>\n",
       "      <td>Developed Family Camp Area</td>\n",
       "      <td>None</td>\n",
       "      <td>240</td>\n",
       "      <td>Ritchey Creek Campground</td>\n",
       "      <td>Bothe-Napa Valley SP</td>\n",
       "      <td>None</td>\n",
       "      <td>{AC98673D-5387-4783-BB72-ED2987FA86AE}</td>\n",
       "      <td>...</td>\n",
       "      <td>POINT (-13639496.195 4657348.494)</td>\n",
       "      <td>False</td>\n",
       "      <td>True</td>\n",
       "      <td>False</td>\n",
       "      <td>True</td>\n",
       "      <td>True</td>\n",
       "      <td>False</td>\n",
       "      <td>False</td>\n",
       "      <td>True</td>\n",
       "      <td>False</td>\n",
       "    </tr>\n",
       "    <tr>\n",
       "      <th>1</th>\n",
       "      <td>2075</td>\n",
       "      <td>Bothe-Napa Valley Group Camp</td>\n",
       "      <td>GIS0006396</td>\n",
       "      <td>Developed Group Camp Area</td>\n",
       "      <td>None</td>\n",
       "      <td>240</td>\n",
       "      <td>Bothe-Napa Valley Group Camp</td>\n",
       "      <td>Bothe-Napa Valley SP</td>\n",
       "      <td>None</td>\n",
       "      <td>{196BF388-E240-49EC-A361-4330849D07E8}</td>\n",
       "      <td>...</td>\n",
       "      <td>POINT (-13638520.925 4657386.784)</td>\n",
       "      <td>False</td>\n",
       "      <td>True</td>\n",
       "      <td>False</td>\n",
       "      <td>True</td>\n",
       "      <td>True</td>\n",
       "      <td>False</td>\n",
       "      <td>False</td>\n",
       "      <td>True</td>\n",
       "      <td>False</td>\n",
       "    </tr>\n",
       "    <tr>\n",
       "      <th>2</th>\n",
       "      <td>2076</td>\n",
       "      <td>Brannan Island Group Camp</td>\n",
       "      <td>GIS0006398</td>\n",
       "      <td>Developed Group Camp Area</td>\n",
       "      <td>None</td>\n",
       "      <td>314</td>\n",
       "      <td>Brannan Island Group Camp</td>\n",
       "      <td>Brannan Island SRA</td>\n",
       "      <td>None</td>\n",
       "      <td>{D089D94A-75A3-409E-8B95-613D918F27C5}</td>\n",
       "      <td>...</td>\n",
       "      <td>POINT (-13546051.275 4596380.365)</td>\n",
       "      <td>False</td>\n",
       "      <td>True</td>\n",
       "      <td>False</td>\n",
       "      <td>True</td>\n",
       "      <td>True</td>\n",
       "      <td>False</td>\n",
       "      <td>False</td>\n",
       "      <td>True</td>\n",
       "      <td>True</td>\n",
       "    </tr>\n",
       "    <tr>\n",
       "      <th>3</th>\n",
       "      <td>2077</td>\n",
       "      <td>Walk-in Campsites</td>\n",
       "      <td>GIS0006399</td>\n",
       "      <td>Developed Family Camp Area</td>\n",
       "      <td>None</td>\n",
       "      <td>314</td>\n",
       "      <td>Walk-in  Campsites</td>\n",
       "      <td>Brannan Island SRA</td>\n",
       "      <td>None</td>\n",
       "      <td>{C880DECC-2000-48C3-953E-B6AD4C29B49C}</td>\n",
       "      <td>...</td>\n",
       "      <td>POINT (-13546394.584 4595659.599)</td>\n",
       "      <td>False</td>\n",
       "      <td>True</td>\n",
       "      <td>False</td>\n",
       "      <td>True</td>\n",
       "      <td>True</td>\n",
       "      <td>False</td>\n",
       "      <td>False</td>\n",
       "      <td>True</td>\n",
       "      <td>True</td>\n",
       "    </tr>\n",
       "    <tr>\n",
       "      <th>4</th>\n",
       "      <td>2078</td>\n",
       "      <td>North Grove Campground</td>\n",
       "      <td>GIS0006400</td>\n",
       "      <td>Developed Family Camp Area</td>\n",
       "      <td>None</td>\n",
       "      <td>306</td>\n",
       "      <td>North Grove Campground</td>\n",
       "      <td>Calaveras Big Trees SP</td>\n",
       "      <td>None</td>\n",
       "      <td>{3C9F0EA0-DB71-479E-9486-C45DDB6C579E}</td>\n",
       "      <td>...</td>\n",
       "      <td>POINT (-13392613.832 4618511.183)</td>\n",
       "      <td>False</td>\n",
       "      <td>True</td>\n",
       "      <td>False</td>\n",
       "      <td>True</td>\n",
       "      <td>True</td>\n",
       "      <td>False</td>\n",
       "      <td>False</td>\n",
       "      <td>True</td>\n",
       "      <td>False</td>\n",
       "    </tr>\n",
       "  </tbody>\n",
       "</table>\n",
       "<p>5 rows × 21 columns</p>\n",
       "</div>"
      ],
      "text/plain": [
       "    FID                    Campground       GISID                        TYPE  \\\n",
       "0  2074      Ritchey Creek Campground  GIS0006395  Developed Family Camp Area   \n",
       "1  2075  Bothe-Napa Valley Group Camp  GIS0006396   Developed Group Camp Area   \n",
       "2  2076     Brannan Island Group Camp  GIS0006398   Developed Group Camp Area   \n",
       "3  2077             Walk-in Campsites  GIS0006399  Developed Family Camp Area   \n",
       "4  2078        North Grove Campground  GIS0006400  Developed Family Camp Area   \n",
       "\n",
       "  SUBTYPE UNITNBR                        DETAIL                UNITNAME SHARE  \\\n",
       "0    None     240      Ritchey Creek Campground    Bothe-Napa Valley SP  None   \n",
       "1    None     240  Bothe-Napa Valley Group Camp    Bothe-Napa Valley SP  None   \n",
       "2    None     314     Brannan Island Group Camp      Brannan Island SRA  None   \n",
       "3    None     314            Walk-in  Campsites      Brannan Island SRA  None   \n",
       "4    None     306        North Grove Campground  Calaveras Big Trees SP  None   \n",
       "\n",
       "                                 GlobalID  ...  \\\n",
       "0  {AC98673D-5387-4783-BB72-ED2987FA86AE}  ...   \n",
       "1  {196BF388-E240-49EC-A361-4330849D07E8}  ...   \n",
       "2  {D089D94A-75A3-409E-8B95-613D918F27C5}  ...   \n",
       "3  {C880DECC-2000-48C3-953E-B6AD4C29B49C}  ...   \n",
       "4  {3C9F0EA0-DB71-479E-9486-C45DDB6C579E}  ...   \n",
       "\n",
       "                            geometry Primitive  Developed  Horse  Restrooms  \\\n",
       "0  POINT (-13639496.195 4657348.494)     False       True  False       True   \n",
       "1  POINT (-13638520.925 4657386.784)     False       True  False       True   \n",
       "2  POINT (-13546051.275 4596380.365)     False       True  False       True   \n",
       "3  POINT (-13546394.584 4595659.599)     False       True  False       True   \n",
       "4  POINT (-13392613.832 4618511.183)     False       True  False       True   \n",
       "\n",
       "  Showers Flush_toilet RV Parking Vehicle Parking Boat Parking  \n",
       "0    True        False      False            True        False  \n",
       "1    True        False      False            True        False  \n",
       "2    True        False      False            True         True  \n",
       "3    True        False      False            True         True  \n",
       "4    True        False      False            True        False  \n",
       "\n",
       "[5 rows x 21 columns]"
      ]
     },
     "execution_count": 16,
     "metadata": {},
     "output_type": "execute_result"
    }
   ],
   "source": [
    "# Filter na values\n",
    "campgrounds = campgrounds[campgrounds['TYPE'].notna()]\n",
    "campgrounds = campgrounds[campgrounds['DETAIL'] != 'Proposed']\n",
    "\n",
    "# Create columns for different types of camping\n",
    "campgrounds['Primitive'] = campgrounds['TYPE'].str.contains('Primitive')\n",
    "campgrounds['Developed'] = campgrounds['TYPE'].str.contains('Developed')\n",
    "campgrounds['Horse'] = campgrounds['TYPE'] == 'Horse Camp Area'\n",
    "\n",
    "campgrounds_merged = campgrounds.merge(grouped_buildings, on='UNITNAME', how='left')\n",
    "campgrounds_merged = campgrounds_merged.merge(grouped_parking, on='UNITNAME', how='left')\n",
    "campgrounds_merged.head()"
   ]
  },
  {
   "cell_type": "code",
   "execution_count": 17,
   "id": "80d08f10",
   "metadata": {},
   "outputs": [
    {
     "data": {
      "text/html": [
       "<div class=\"item_container\" style=\"height: auto; overflow: hidden; border: 1px solid #cfcfcf; border-radius: 2px; background: #f6fafa; line-height: 1.21429em; padding: 10px;\">\n",
       "                    <div class=\"item_left\" style=\"width: 210px; float: left;\">\n",
       "                       <a href='https://UCSDOnline.maps.arcgis.com/home/item.html?id=1f87231cbc4546bba448bf4016d8956e' target='_blank'>\n",
       "                        <img src='http://static.arcgis.com/images/desktopapp.png' class=\"itemThumbnail\">\n",
       "                       </a>\n",
       "                    </div>\n",
       "\n",
       "                    <div class=\"item_right\"     style=\"float: none; width: auto; overflow: hidden;\">\n",
       "                        <a href='https://UCSDOnline.maps.arcgis.com/home/item.html?id=1f87231cbc4546bba448bf4016d8956e' target='_blank'><b>CA State Campgrounds</b>\n",
       "                        </a>\n",
       "                        <br/><img src='https://UCSDOnline.maps.arcgis.com/home/js/jsapi/esri/css/images/item_type_icons/featureshosted16.png' style=\"vertical-align:middle;\" width=16 height=16>Feature Layer Collection by dsc170wi24_44\n",
       "                        <br/>Last Modified: March 14, 2024\n",
       "                        <br/>0 comments, 7 views\n",
       "                    </div>\n",
       "                </div>\n",
       "                "
      ],
      "text/plain": [
       "<Item title:\"CA State Campgrounds\" type:Feature Layer Collection owner:dsc170wi24_44>"
      ]
     },
     "execution_count": 17,
     "metadata": {},
     "output_type": "execute_result"
    }
   ],
   "source": [
    "# Upload as feature layer\n",
    "# campgrounds_sdf = GeoAccessor.from_geodataframe(campgrounds_merged, inplace=False, column_name='SHAPE')\n",
    "# campgrounds_fl = campgrounds_sdf.spatial.to_featurelayer(title='CA State Campgrounds',\n",
    "#                                                           gis=gis,\n",
    "#                                                           tags='Camping')\n",
    "\n",
    "# Get feature layer\n",
    "campgrounds_fl = gis.content.get('1f87231cbc4546bba448bf4016d8956e')\n",
    "campgrounds_fl"
   ]
  },
  {
   "cell_type": "code",
   "execution_count": 18,
   "id": "a0d37104",
   "metadata": {
    "scrolled": true
   },
   "outputs": [
    {
     "data": {
      "application/vnd.jupyter.widget-view+json": {
       "model_id": "f21a9bf626514adeb46d570ccf1e8af1",
       "version_major": 2,
       "version_minor": 0
      },
      "text/plain": [
       "MapView(layout=Layout(height='400px', width='100%'))"
      ]
     },
     "metadata": {},
     "output_type": "display_data"
    },
    {
     "data": {
      "text/html": [
       "<div class=\"map-static-img-preview-eb1313c1-376f-4b7a-b1d6-88db1b2737c2\"><img src=\"\"></img></div>"
      ],
      "text/plain": [
       "<IPython.core.display.HTML object>"
      ]
     },
     "metadata": {},
     "output_type": "display_data"
    },
    {
     "data": {
      "text/html": [
       "<div class=\"map-html-embed-preview-eb1313c1-376f-4b7a-b1d6-88db1b2737c2\"></div>"
      ],
      "text/plain": [
       "<IPython.core.display.HTML object>"
      ]
     },
     "metadata": {},
     "output_type": "display_data"
    }
   ],
   "source": [
    "camp_map = gis.map('California, US')\n",
    "camp_map.add_layer(campgrounds_fl)\n",
    "camp_map"
   ]
  },
  {
   "cell_type": "markdown",
   "id": "1f6fe563",
   "metadata": {},
   "source": [
    "#### Recreational Routes"
   ]
  },
  {
   "cell_type": "code",
   "execution_count": 19,
   "id": "f5f2ba86",
   "metadata": {},
   "outputs": [
    {
     "data": {
      "text/html": [
       "<div>\n",
       "<style scoped>\n",
       "    .dataframe tbody tr th:only-of-type {\n",
       "        vertical-align: middle;\n",
       "    }\n",
       "\n",
       "    .dataframe tbody tr th {\n",
       "        vertical-align: top;\n",
       "    }\n",
       "\n",
       "    .dataframe thead th {\n",
       "        text-align: right;\n",
       "    }\n",
       "</style>\n",
       "<table border=\"1\" class=\"dataframe\">\n",
       "  <thead>\n",
       "    <tr style=\"text-align: right;\">\n",
       "      <th></th>\n",
       "      <th>FID</th>\n",
       "      <th>ROUTENAME</th>\n",
       "      <th>GISID</th>\n",
       "      <th>ROUTECLASS</th>\n",
       "      <th>UNITNBR</th>\n",
       "      <th>UNITNAME</th>\n",
       "      <th>ROUTECAT</th>\n",
       "      <th>ROUTETYPE</th>\n",
       "      <th>SEGLNGTH</th>\n",
       "      <th>SHARE</th>\n",
       "      <th>Shape_Leng</th>\n",
       "      <th>GlobalID</th>\n",
       "      <th>SHAPE_Le_1</th>\n",
       "      <th>geometry</th>\n",
       "    </tr>\n",
       "  </thead>\n",
       "  <tbody>\n",
       "    <tr>\n",
       "      <th>72</th>\n",
       "      <td>23311</td>\n",
       "      <td>LAP</td>\n",
       "      <td>GIS0075760</td>\n",
       "      <td>State Park Road</td>\n",
       "      <td>521</td>\n",
       "      <td>Hungry Valley SVRA</td>\n",
       "      <td>Primitive Rd</td>\n",
       "      <td>Native Material</td>\n",
       "      <td>1100.0</td>\n",
       "      <td>Public</td>\n",
       "      <td>407.877932</td>\n",
       "      <td>{17C364FB-E0F6-43A8-8A82-B50C262D6F41}</td>\n",
       "      <td>407.877932</td>\n",
       "      <td>LINESTRING Z (-13226060.142 4131594.839 0.000,...</td>\n",
       "    </tr>\n",
       "    <tr>\n",
       "      <th>421</th>\n",
       "      <td>23660</td>\n",
       "      <td>Lava Springs Trail</td>\n",
       "      <td>GIS0128939</td>\n",
       "      <td>State Park Trail</td>\n",
       "      <td>190</td>\n",
       "      <td>Ahjumawi Lava Springs SP</td>\n",
       "      <td>None</td>\n",
       "      <td>Native Material</td>\n",
       "      <td>9047.0</td>\n",
       "      <td>Public</td>\n",
       "      <td>2552.327716</td>\n",
       "      <td>{DD5C3862-F726-440D-AF67-07CB6CFA5F9E}</td>\n",
       "      <td>2552.327716</td>\n",
       "      <td>LINESTRING Z (-13520639.129 5028652.868 0.000,...</td>\n",
       "    </tr>\n",
       "    <tr>\n",
       "      <th>425</th>\n",
       "      <td>23664</td>\n",
       "      <td>Nightmare Gulch</td>\n",
       "      <td>GIS0070250</td>\n",
       "      <td>State Park Road</td>\n",
       "      <td>577</td>\n",
       "      <td>Red Rock Canyon SP</td>\n",
       "      <td>Primitive Rd</td>\n",
       "      <td>Native Material</td>\n",
       "      <td>852.0</td>\n",
       "      <td>Public</td>\n",
       "      <td>1274.654037</td>\n",
       "      <td>{44DB3AF1-7AB9-4489-BA86-00202D1AF012}</td>\n",
       "      <td>1274.654037</td>\n",
       "      <td>LINESTRING Z (-13129998.876 4216458.724 0.000,...</td>\n",
       "    </tr>\n",
       "    <tr>\n",
       "      <th>426</th>\n",
       "      <td>23665</td>\n",
       "      <td>Nightmare Gulch turn around area</td>\n",
       "      <td>GIS0070251</td>\n",
       "      <td>State Park Road</td>\n",
       "      <td>577</td>\n",
       "      <td>Red Rock Canyon SP</td>\n",
       "      <td>Primitive Rd</td>\n",
       "      <td>Native Material</td>\n",
       "      <td>258.0</td>\n",
       "      <td>Public</td>\n",
       "      <td>92.928927</td>\n",
       "      <td>{8B563CED-2C5F-4AF7-8313-24E90838660E}</td>\n",
       "      <td>92.928927</td>\n",
       "      <td>LINESTRING Z (-13131843.769 4215224.907 0.000,...</td>\n",
       "    </tr>\n",
       "    <tr>\n",
       "      <th>428</th>\n",
       "      <td>23667</td>\n",
       "      <td>Last Chance Canyon Rd</td>\n",
       "      <td>GIS0070263</td>\n",
       "      <td>State Park Road</td>\n",
       "      <td>577</td>\n",
       "      <td>Red Rock Canyon SP</td>\n",
       "      <td>Primitive Rd</td>\n",
       "      <td>Native Material</td>\n",
       "      <td>853.0</td>\n",
       "      <td>Public</td>\n",
       "      <td>5825.074481</td>\n",
       "      <td>{21B0EF1B-E76F-463A-B791-4A4657B35E8F}</td>\n",
       "      <td>5825.074481</td>\n",
       "      <td>LINESTRING Z (-13127171.707 4218337.212 0.000,...</td>\n",
       "    </tr>\n",
       "  </tbody>\n",
       "</table>\n",
       "</div>"
      ],
      "text/plain": [
       "       FID                         ROUTENAME       GISID        ROUTECLASS  \\\n",
       "72   23311                               LAP  GIS0075760   State Park Road   \n",
       "421  23660                Lava Springs Trail  GIS0128939  State Park Trail   \n",
       "425  23664                   Nightmare Gulch  GIS0070250   State Park Road   \n",
       "426  23665  Nightmare Gulch turn around area  GIS0070251   State Park Road   \n",
       "428  23667             Last Chance Canyon Rd  GIS0070263   State Park Road   \n",
       "\n",
       "    UNITNBR                  UNITNAME      ROUTECAT        ROUTETYPE  \\\n",
       "72      521        Hungry Valley SVRA  Primitive Rd  Native Material   \n",
       "421     190  Ahjumawi Lava Springs SP          None  Native Material   \n",
       "425     577        Red Rock Canyon SP  Primitive Rd  Native Material   \n",
       "426     577        Red Rock Canyon SP  Primitive Rd  Native Material   \n",
       "428     577        Red Rock Canyon SP  Primitive Rd  Native Material   \n",
       "\n",
       "     SEGLNGTH   SHARE   Shape_Leng                                GlobalID  \\\n",
       "72     1100.0  Public   407.877932  {17C364FB-E0F6-43A8-8A82-B50C262D6F41}   \n",
       "421    9047.0  Public  2552.327716  {DD5C3862-F726-440D-AF67-07CB6CFA5F9E}   \n",
       "425     852.0  Public  1274.654037  {44DB3AF1-7AB9-4489-BA86-00202D1AF012}   \n",
       "426     258.0  Public    92.928927  {8B563CED-2C5F-4AF7-8313-24E90838660E}   \n",
       "428     853.0  Public  5825.074481  {21B0EF1B-E76F-463A-B791-4A4657B35E8F}   \n",
       "\n",
       "      SHAPE_Le_1                                           geometry  \n",
       "72    407.877932  LINESTRING Z (-13226060.142 4131594.839 0.000,...  \n",
       "421  2552.327716  LINESTRING Z (-13520639.129 5028652.868 0.000,...  \n",
       "425  1274.654037  LINESTRING Z (-13129998.876 4216458.724 0.000,...  \n",
       "426    92.928927  LINESTRING Z (-13131843.769 4215224.907 0.000,...  \n",
       "428  5825.074481  LINESTRING Z (-13127171.707 4218337.212 0.000,...  "
      ]
     },
     "execution_count": 19,
     "metadata": {},
     "output_type": "execute_result"
    }
   ],
   "source": [
    "routes = routes[routes['SHARE'] == 'Public']\n",
    "routes.head()"
   ]
  },
  {
   "cell_type": "code",
   "execution_count": 20,
   "id": "fdd596f1",
   "metadata": {},
   "outputs": [
    {
     "data": {
      "text/html": [
       "<div class=\"item_container\" style=\"height: auto; overflow: hidden; border: 1px solid #cfcfcf; border-radius: 2px; background: #f6fafa; line-height: 1.21429em; padding: 10px;\">\n",
       "                    <div class=\"item_left\" style=\"width: 210px; float: left;\">\n",
       "                       <a href='https://UCSDOnline.maps.arcgis.com/home/item.html?id=a789dc2099c24e659c5829cab5beac2c' target='_blank'>\n",
       "                        <img src='data:image/png;base64,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' width='200' height='133' class=\"itemThumbnail\">\n",
       "                       </a>\n",
       "                    </div>\n",
       "\n",
       "                    <div class=\"item_right\"     style=\"float: none; width: auto; overflow: hidden;\">\n",
       "                        <a href='https://UCSDOnline.maps.arcgis.com/home/item.html?id=a789dc2099c24e659c5829cab5beac2c' target='_blank'><b>State Park Trails</b>\n",
       "                        </a>\n",
       "                        <br/><img src='https://UCSDOnline.maps.arcgis.com/home/js/jsapi/esri/css/images/item_type_icons/featureshosted16.png' style=\"vertical-align:middle;\" width=16 height=16>Feature Layer Collection by dsc170wi24_44\n",
       "                        <br/>Last Modified: March 12, 2024\n",
       "                        <br/>0 comments, 14 views\n",
       "                    </div>\n",
       "                </div>\n",
       "                "
      ],
      "text/plain": [
       "<Item title:\"State Park Trails\" type:Feature Layer Collection owner:dsc170wi24_44>"
      ]
     },
     "execution_count": 20,
     "metadata": {},
     "output_type": "execute_result"
    }
   ],
   "source": [
    "# # Upload as feature layer\n",
    "# routes_sdf = GeoAccessor.from_geodataframe(routes, inplace=False, column_name='SHAPE')\n",
    "# routes_fl = routes_sdf.spatial.to_featurelayer(title='State Park Trails',\n",
    "#                                                          gis=gis,\n",
    "#                                                          tags='Camping')\n",
    "\n",
    "#Get feature layer\n",
    "routes_fl = gis.content.get('a789dc2099c24e659c5829cab5beac2c')\n",
    "routes_fl"
   ]
  },
  {
   "cell_type": "code",
   "execution_count": null,
   "id": "61c8fb90",
   "metadata": {},
   "outputs": [],
   "source": [
    "trail_map = gis.map('California, US')\n",
    "trail_map.add_layer(campgrounds_fl)\n",
    "trail_map.add_layer(routes_fl)\n",
    "trail_map"
   ]
  },
  {
   "cell_type": "markdown",
   "id": "6b10c366",
   "metadata": {},
   "source": [
    "#### Light Pollution"
   ]
  },
  {
   "cell_type": "code",
   "execution_count": 27,
   "id": "b6f1b6ea",
   "metadata": {},
   "outputs": [
    {
     "data": {
      "image/jpeg": "[encoded data removed]",
      "text/plain": [
       "<ImageryLayer url:\"https://ic.img.arcgis.com/arcgis/rest/services/VIIRS/NighttimeLightsMDNB/ImageServer\">"
      ]
     },
     "execution_count": 27,
     "metadata": {},
     "output_type": "execute_result"
    }
   ],
   "source": [
    "# Extent and clip\n",
    "light_pollution_clip = extent_clip(light_pollution)\n",
    "\n",
    "# Normalize map into 9 bins\n",
    "light_pollution_n = remap(raster=light_pollution_clip,\n",
    "                  input_ranges = [0.0, 9.0,\n",
    "                                  9.0, 18.0,\n",
    "                                  18.0, 27.0,\n",
    "                                  27.0, 36.0,\n",
    "                                  36.0, 45.0,\n",
    "                                  45.0, 54.0,\n",
    "                                  54.0, 63.0,\n",
    "                                  63.0, 72.0,\n",
    "                                  72.0, 81.0],\n",
    "                  output_values=[9,8,7,6,5,4,3,2,1],  astype='U8')\n",
    "light_pollution_n"
   ]
  },
  {
   "cell_type": "code",
   "execution_count": 32,
   "id": "d2d78cbe",
   "metadata": {},
   "outputs": [
    {
     "data": {
      "text/html": [
       "<div class=\"item_container\" style=\"height: auto; overflow: hidden; border: 1px solid #cfcfcf; border-radius: 2px; background: #f6fafa; line-height: 1.21429em; padding: 10px;\">\n",
       "                    <div class=\"item_left\" style=\"width: 210px; float: left;\">\n",
       "                       <a href='https://UCSDOnline.maps.arcgis.com/home/item.html?id=ce3a7029ab0346e5a0f6c2edbd507bf4' target='_blank'>\n",
       "                        <img src='data:image/png;base64,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' width='200' height='133' class=\"itemThumbnail\">\n",
       "                       </a>\n",
       "                    </div>\n",
       "\n",
       "                    <div class=\"item_right\"     style=\"float: none; width: auto; overflow: hidden;\">\n",
       "                        <a href='https://UCSDOnline.maps.arcgis.com/home/item.html?id=ce3a7029ab0346e5a0f6c2edbd507bf4' target='_blank'><b>RasterToFeature_JRXIUM</b>\n",
       "                        </a>\n",
       "                        <br/>Light Pollution in SD County<img src='https://UCSDOnline.maps.arcgis.com/home/js/jsapi/esri/css/images/item_type_icons/featureshosted16.png' style=\"vertical-align:middle;\" width=16 height=16>Feature Layer Collection by dsc170wi24_44\n",
       "                        <br/>Last Modified: March 14, 2024\n",
       "                        <br/>0 comments, 10 views\n",
       "                    </div>\n",
       "                </div>\n",
       "                "
      ],
      "text/plain": [
       "<Item title:\"RasterToFeature_JRXIUM\" type:Feature Layer Collection owner:dsc170wi24_44>"
      ]
     },
     "execution_count": 32,
     "metadata": {},
     "output_type": "execute_result"
    }
   ],
   "source": [
    "# Change imagery layer to feature layer\n",
    "#light_fl = light_pollution_n.to_features()\n",
    "light_fl = gis.content.get('ce3a7029ab0346e5a0f6c2edbd507bf4')\n",
    "light_fl"
   ]
  },
  {
   "cell_type": "markdown",
   "id": "03454961",
   "metadata": {},
   "source": [
    "#### Air Pollution"
   ]
  },
  {
   "cell_type": "code",
   "execution_count": 22,
   "id": "eb736999",
   "metadata": {},
   "outputs": [],
   "source": [
    "# Extent and clip\n",
    "air_clip = extent_clip(air_pollution)\n",
    "\n",
    "# Normalize\n",
    "air_n = remap(raster=air_clip,\n",
    "                  input_ranges=[0,5,\n",
    "                                5,6,\n",
    "                                6,7,\n",
    "                                7,8,\n",
    "                                9,10,\n",
    "                                11,12,\n",
    "                                12,13,\n",
    "                                13,584,\n",
    "                                584,659],\n",
    "                  output_values=[9,8,7,6,5,4,3,2,1],  astype='U8')"
   ]
  },
  {
   "cell_type": "code",
   "execution_count": 35,
   "id": "b44e1ade",
   "metadata": {},
   "outputs": [
    {
     "data": {
      "text/html": [
       "<div class=\"item_container\" style=\"height: auto; overflow: hidden; border: 1px solid #cfcfcf; border-radius: 2px; background: #f6fafa; line-height: 1.21429em; padding: 10px;\">\n",
       "                    <div class=\"item_left\" style=\"width: 210px; float: left;\">\n",
       "                       <a href='https://UCSDOnline.maps.arcgis.com/home/item.html?id=7ba57f788aa94960a0d99199a37b4891' target='_blank'>\n",
       "                        <img src='data:image/png;base64,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' width='200' height='133' class=\"itemThumbnail\">\n",
       "                       </a>\n",
       "                    </div>\n",
       "\n",
       "                    <div class=\"item_right\"     style=\"float: none; width: auto; overflow: hidden;\">\n",
       "                        <a href='https://UCSDOnline.maps.arcgis.com/home/item.html?id=7ba57f788aa94960a0d99199a37b4891' target='_blank'><b>Air Pollution in San Diego County</b>\n",
       "                        </a>\n",
       "                        <br/>Air Pollution in San Diego County<img src='https://UCSDOnline.maps.arcgis.com/home/js/jsapi/esri/css/images/item_type_icons/featureshosted16.png' style=\"vertical-align:middle;\" width=16 height=16>Feature Layer Collection by dsc170wi24_44\n",
       "                        <br/>Last Modified: March 14, 2024\n",
       "                        <br/>0 comments, 12 views\n",
       "                    </div>\n",
       "                </div>\n",
       "                "
      ],
      "text/plain": [
       "<Item title:\"Air Pollution in San Diego County\" type:Feature Layer Collection owner:dsc170wi24_44>"
      ]
     },
     "execution_count": 35,
     "metadata": {},
     "output_type": "execute_result"
    }
   ],
   "source": [
    "# Change to feature layer \n",
    "#air_n.to_features()\n",
    "air_fl = gis.content.get('7ba57f788aa94960a0d99199a37b4891')\n",
    "air_fl"
   ]
  },
  {
   "cell_type": "markdown",
   "id": "72df77a3",
   "metadata": {},
   "source": [
    "--------------------------------------------------------------------------------------"
   ]
  },
  {
   "cell_type": "markdown",
   "id": "f0a6013e",
   "metadata": {},
   "source": [
    "## Analysis"
   ]
  },
  {
   "cell_type": "markdown",
   "id": "2356f323",
   "metadata": {},
   "source": [
    "***TODO***\n",
    "\n",
    "Provide a general outline of your analysis (in a markdown), and then document it step by step\n",
    "as you code the solution. Please make sure that we can reproduce your analysis by running\n",
    "your notebook. As before, a diagram describing your workflow would be helpful.\n",
    "\n",
    "Please also reflect on how your actual analysis steps were different compared to your project\n",
    "proposal - or state that you didn’t deviate from the initial plan.\n",
    "\n",
    "(a combination of markdown and documented code cells)\n",
    "(at least 500 words)"
   ]
  },
  {
   "cell_type": "code",
   "execution_count": null,
   "id": "18a3ddc0",
   "metadata": {},
   "outputs": [],
   "source": []
  },
  {
   "cell_type": "markdown",
   "id": "7b354031",
   "metadata": {},
   "source": [
    "--------------------------------------------------------------------------------------"
   ]
  },
  {
   "cell_type": "markdown",
   "id": "7ea4b29c",
   "metadata": {},
   "source": [
    "## Results"
   ]
  },
  {
   "cell_type": "markdown",
   "id": "f0db91ff",
   "metadata": {},
   "source": [
    "***TODO***\n",
    "\n",
    "Describe what you found, and why it is important; illustrate the findings with maps/charts\n",
    "reflecting your results.\n",
    "\n",
    "(a combination of markdown and documented code cells)\n",
    "\n",
    "(200 words)"
   ]
  },
  {
   "cell_type": "markdown",
   "id": "a6067c2d",
   "metadata": {},
   "source": [
    "## Discussion"
   ]
  },
  {
   "cell_type": "markdown",
   "id": "2c02320a",
   "metadata": {},
   "source": [
    "The discussion should include the following parts:\n",
    "1) Discuss your findings with respect to the literature sources in section 3. What do the\n",
    "results mean in the context of what is already known? What is new? Does it validate\n",
    "what was found in literature? How do your results improve our understanding of the\n",
    "problem?\n",
    "\n",
    "2) Of particular importance is a discussion of any trade-offs and decision points that you\n",
    "had to consider. This may include a discussion of any performance issues, width of\n",
    "buffers you applied, projections you chose, spatial operations you used, machine\n",
    "learning techniques, and other issues we discussed in class.\n",
    "(this can be done as a markdown, at least 200 words)"
   ]
  },
  {
   "cell_type": "markdown",
   "id": "12a899e8",
   "metadata": {},
   "source": [
    "## Conclusions and Future Work"
   ]
  },
  {
   "cell_type": "markdown",
   "id": "0fab2f3d",
   "metadata": {},
   "source": [
    "Did you manage to completely answer your initial research question? If not, what additional\n",
    "data and additional analysis steps can you think of? Can your approach be extended to other\n",
    "areas or topics, and use additional datasets? How do you expect the results to be used and by\n",
    "whom?\n",
    "\n",
    "(a markdown cell, at least 200 words)\n"
   ]
  },
  {
   "cell_type": "code",
   "execution_count": null,
   "id": "372e9483",
   "metadata": {},
   "outputs": [],
   "source": []
  }
 ],
 "metadata": {
  "kernelspec": {
   "display_name": "Python 3 (clean)",
   "language": "python",
   "name": "python3_clean"
  },
  "language_info": {
   "codemirror_mode": {
    "name": "ipython",
    "version": 3
   },
   "file_extension": ".py",
   "mimetype": "text/x-python",
   "name": "python",
   "nbconvert_exporter": "python",
   "pygments_lexer": "ipython3",
   "version": "3.9.5"
  }
 },
 "nbformat": 4,
 "nbformat_minor": 5
}
