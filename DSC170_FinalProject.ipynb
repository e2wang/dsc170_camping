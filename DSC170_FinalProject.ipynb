{
 "cells": [
  {
   "cell_type": "markdown",
   "id": "d16cabdb",
   "metadata": {},
   "source": [
    "--------------------------------------------------------------------------------------\n",
    "\n",
    "* Team member names: Elsie Wang, Hou Wan\n",
    "\n",
    "* Team member IDs: A16655032, A16462095\n",
    "\n",
    "--------------------------------------------------------------------------------------"
   ]
  },
  {
   "cell_type": "markdown",
   "id": "9d281a75",
   "metadata": {},
   "source": [
    "# Optimizing Camping Spots with OpenAI and ArcGIS"
   ]
  },
  {
   "cell_type": "markdown",
   "id": "c780dcaa",
   "metadata": {},
   "source": [
    "## Introduction"
   ]
  },
  {
   "cell_type": "markdown",
   "id": "63fd2499",
   "metadata": {},
   "source": [
    "***TODO***\n",
    "\n",
    "Question(s) you addressed, why it is important (5pt)\n",
    "\n",
    "As in your project proposal, describe the intended audience and the business case for finding a\n",
    "solution to your question.\n",
    "\n",
    "If your question changed significantly compared to your project proposal, please explain.\n",
    "(format this as a markdown cell)\n",
    "\n",
    "(at least 250 words):\n"
   ]
  },
  {
   "cell_type": "markdown",
   "id": "f6774942",
   "metadata": {},
   "source": [
    "### Related Work"
   ]
  },
  {
   "cell_type": "markdown",
   "id": "36b1319b",
   "metadata": {},
   "source": [
    "***TODO***\n",
    "\n",
    "At least 4 bibliographic references (with links) relevant to your question. These don’t have to be\n",
    "new references; you can continue what you started in your project proposal. As before, the\n",
    "references can include research publications, online articles, blogs, github repos, online\n",
    "applications, etc.\n",
    "\n",
    "As a new element of this section, reflect on how these references helped you specify the\n",
    "problem more narrowly, or focus on a specific hypothesis, or question conclusions they made,\n",
    "or improve over previously available code.\n",
    "(format this as a markdown cell)\n",
    "\n",
    "(at least 200 words)"
   ]
  },
  {
   "cell_type": "markdown",
   "id": "dbca5030",
   "metadata": {},
   "source": [
    "### Python Packages"
   ]
  },
  {
   "cell_type": "markdown",
   "id": "bc4961fe",
   "metadata": {},
   "source": [
    "***TODO***\n",
    "\n",
    "Make this a brief list – but also mention whether and how this list has evolved compared to the\n",
    "project proposal.\n",
    "\n",
    "In your notebook: identify and describe the libraries as you import them, using a combination\n",
    "of markdown and code cells.\n",
    "\n",
    "(at least 100 words)"
   ]
  },
  {
   "cell_type": "markdown",
   "id": "1f385391",
   "metadata": {},
   "source": [
    "### References"
   ]
  },
  {
   "cell_type": "markdown",
   "id": "23533a84",
   "metadata": {},
   "source": [
    "***TODO***\n",
    "\n",
    "Include a URL and a one-sentence description of each source you used. Make sure you have\n",
    "enough records for your machine learning application.\n",
    "\n",
    "Please reflect on how your choice of sources evolved since the proposal phase, and any\n",
    "concerns about the sources you used - related to data quality, provenance, access constraints,\n",
    "etc. Also, reflect on any data that would be helpful to address your research question, which\n",
    "you could not obtain (and why). Be creative! There is a lot of additional information, sometimes\n",
    "from less traditional sources, that may help.\n",
    "\n",
    "When you create a notebook, identify and describe the datasets as you load them. If the\n",
    "sources are in AGOL, provide source IDs, and/or load them using gis.content.get. Provide\n",
    "additional discussion in a markdown cell.\n",
    "\n",
    "(at least 200 words)\n"
   ]
  },
  {
   "cell_type": "markdown",
   "id": "e7e33445",
   "metadata": {},
   "source": [
    "\n",
    "\n"
   ]
  },
  {
   "cell_type": "markdown",
   "id": "61108479",
   "metadata": {},
   "source": [
    "--------------------------------------------------------------------------------------"
   ]
  },
  {
   "cell_type": "code",
   "execution_count": 1,
   "id": "67bdc826",
   "metadata": {},
   "outputs": [],
   "source": [
    "# Import statements, etc.\n",
    "import warnings\n",
    "warnings.filterwarnings(\"ignore\")\n",
    "\n",
    "from json import load\n",
    "import os\n",
    "import pandas as pd\n",
    "import geopandas as gpd\n",
    "import numpy as np\n",
    "\n",
    "import arcgis\n",
    "from arcgis.gis import GIS\n",
    "from arcgis.raster.functions import *\n",
    "from ipywidgets import *\n",
    "from IPython.display import display\n",
    "from arcgis.geocoding import geocode\n",
    "from arcgis.geometry import *\n",
    "from arcgis.features import GeoAccessor\n",
    "\n",
    "# Used with github repo\n",
    "LOGIN = load(open('./login.json', 'r'))\n",
    "gis = GIS(username=LOGIN['username'], password=LOGIN['password'])\n",
    "\n",
    "# TODO: Replace above with this in final notebook\n",
    "# import getpass\n",
    "# username = input('Enter username: ')\n",
    "# password = getpass.getpass(\"Enter password: \")\n",
    "# gis = GIS(username=username, password=password)"
   ]
  },
  {
   "cell_type": "markdown",
   "id": "4dad5a05",
   "metadata": {},
   "source": [
    "## Data Cleaning"
   ]
  },
  {
   "cell_type": "markdown",
   "id": "0262116d",
   "metadata": {},
   "source": [
    "***TODO***\n",
    "\n",
    "Describe the cleaning/wrangling operations that you performed, and whether you realized you\n",
    "needed to clean the data by examining metadata documents or by introspecting the data itself.\n",
    "Was the amount of cleaning/data preparation similar to what you expected when writing\n",
    "project proposal?\n",
    "\n",
    "Organize the discussion and code as a combination of markdown and code cells.\n",
    "(at least 100 words – less if you didn’t have to do any cleaning!)"
   ]
  },
  {
   "cell_type": "markdown",
   "id": "fae7d3bd",
   "metadata": {},
   "source": [
    "Potential Factors:\n",
    "- primitive vs campground*\n",
    "- light pollution\n",
    "- water accessibility\n",
    "- stargazing\n",
    "- proximity from roads\n",
    "- proximity from hiking trails\n",
    "- near water\n",
    "- tent vs car vs rv camping\n",
    "- weather: winter vs summer camping\n",
    "- campfires\n",
    "- ammentities: water, showers, restrooms, mobile service\n",
    "\n",
    "\n",
    "*essential information"
   ]
  },
  {
   "cell_type": "markdown",
   "id": "513a60e8",
   "metadata": {},
   "source": [
    "### Load Datasets"
   ]
  },
  {
   "cell_type": "code",
   "execution_count": 2,
   "id": "35bd7755",
   "metadata": {},
   "outputs": [],
   "source": [
    "data_location = os.environ[\"HOME\"] + '/dsc170_finalproject_camping/data/'"
   ]
  },
  {
   "cell_type": "code",
   "execution_count": 29,
   "id": "59dcf25f",
   "metadata": {},
   "outputs": [],
   "source": [
    "# Load in shapefile\n",
    "park_boundaries = gpd.read_file(data_location + 'park_boundaries/ParkBoundaries.shp')\n",
    "campgrounds = gpd.read_file(data_location + 'campgrounds/Campgrounds.shp')\n",
    "buildings = gpd.read_file(data_location + 'buildings/Buildings.shp')\n",
    "parking = gpd.read_file(data_location + 'parking/ParkingPoints.shp')\n",
    "routes = gpd.read_file(data_location + 'routes/RecreationalRoutes.shp')\n",
    "river = gpd.read_file(data_location + 'river/748e59dc-3bbc-4f48-a111-49be3925f2342020328-1-14slxpm.r36t.shp')\n",
    "mobile = gpd.read_file(data_location + 'mobile/Mobile_Deployment.shp')\n",
    "\n",
    "# Load in imagery layers\n",
    "light_pollution = ImageryLayer('https://ic.img.arcgis.com/arcgis/rest/services/VIIRS/NighttimeLightsMDNB/ImageServer',gis)\n",
    "air_pollution = ImageryLayer('https://sedac.ciesin.columbia.edu/arcgis/rest/services/sedac/sdei_global_annual_avg_pm2_5_2001_2010_image_service/ImageServer', gis)"
   ]
  },
  {
   "cell_type": "markdown",
   "id": "35ee3989",
   "metadata": {},
   "source": [
    "### Descriptive Statistics"
   ]
  },
  {
   "cell_type": "markdown",
   "id": "4f8d8f6f",
   "metadata": {},
   "source": [
    "***TODO***\n",
    "\n",
    "Explore the data using maps, charts, and common descriptive statistics. Sample questions you\n",
    "can try to answer: is there spatial autocorrelation in the data? Are you dealing with random\n",
    "point patterns? What is the spatial mean and standard distance? Or why the above questions\n",
    "are not relevant to your research theme and the data?\n",
    "\n",
    "(a combination of markdown and documented code cells)"
   ]
  },
  {
   "cell_type": "code",
   "execution_count": 4,
   "id": "1f1a5917",
   "metadata": {},
   "outputs": [],
   "source": [
    "# Create a function to clip and set study area extent\n",
    "def extent_clip(feature):\n",
    "    feature.extent = study_area_extent\n",
    "    features_clip = clip(raster=feature, geometry=study_area_geom)\n",
    "    return features_clip"
   ]
  },
  {
   "cell_type": "code",
   "execution_count": 5,
   "id": "5b921170",
   "metadata": {},
   "outputs": [
    {
     "data": {
      "text/plain": [
       "{'xmin': -124.409174647392,\n",
       " 'ymin': 32.5342707663828,\n",
       " 'xmax': -114.131199590089,\n",
       " 'ymax': 42.0095056809425,\n",
       " 'spatialReference': {'latestwkid': 3857, 'wkid': 102100}}"
      ]
     },
     "execution_count": 5,
     "metadata": {},
     "output_type": "execute_result"
    }
   ],
   "source": [
    "# Derive the area of interest (AOI) and its geometry and extent. \n",
    "# The smaller the area the better (so that you don't run into raster size limitations)\n",
    "\n",
    "states_item = gis.content.get('1612d351695b467eba75fdf82c10884f')\n",
    "states_lyr = states_item.layers[0]\n",
    "study_area_query = states_lyr.query(\"STATE_FIPS='06'\", return_geometry=True)\n",
    "\n",
    "#Extract input data for study area\n",
    "study_area_geom = study_area_query.features[0].geometry\n",
    "study_area_geom['spatialReference'] = study_area_query.spatial_reference\n",
    "\n",
    "# Create extent dict\n",
    "study_area_ex = Geometry(study_area_geom).geoextent\n",
    "tup = (('xmin',study_area_ex[0]), ('ymin', study_area_ex[1]), ('xmax',study_area_ex[2]), ('ymax', study_area_ex[3]))\n",
    "study_area_extent = dict(tup)\n",
    "\n",
    "# Add crs\n",
    "crs = \"{'latestwkid':3857, 'wkid':102100}\"\n",
    "study_area_extent.update({'spatialReference':{'latestwkid':3857, 'wkid':102100}})\n",
    "study_area_extent"
   ]
  },
  {
   "cell_type": "markdown",
   "id": "14f85066",
   "metadata": {},
   "source": [
    "#### Buildings"
   ]
  },
  {
   "cell_type": "code",
   "execution_count": 6,
   "id": "1a224009",
   "metadata": {},
   "outputs": [
    {
     "data": {
      "text/html": [
       "<div>\n",
       "<style scoped>\n",
       "    .dataframe tbody tr th:only-of-type {\n",
       "        vertical-align: middle;\n",
       "    }\n",
       "\n",
       "    .dataframe tbody tr th {\n",
       "        vertical-align: top;\n",
       "    }\n",
       "\n",
       "    .dataframe thead th {\n",
       "        text-align: right;\n",
       "    }\n",
       "</style>\n",
       "<table border=\"1\" class=\"dataframe\">\n",
       "  <thead>\n",
       "    <tr style=\"text-align: right;\">\n",
       "      <th></th>\n",
       "      <th>Restrooms</th>\n",
       "      <th>Showers</th>\n",
       "      <th>Flush_toilet</th>\n",
       "    </tr>\n",
       "    <tr>\n",
       "      <th>UNITNAME</th>\n",
       "      <th></th>\n",
       "      <th></th>\n",
       "      <th></th>\n",
       "    </tr>\n",
       "  </thead>\n",
       "  <tbody>\n",
       "    <tr>\n",
       "      <th>Admiral William Standley SRA</th>\n",
       "      <td>True</td>\n",
       "      <td>False</td>\n",
       "      <td>False</td>\n",
       "    </tr>\n",
       "    <tr>\n",
       "      <th>Angel Island SP</th>\n",
       "      <td>True</td>\n",
       "      <td>True</td>\n",
       "      <td>False</td>\n",
       "    </tr>\n",
       "    <tr>\n",
       "      <th>Antelope Valley California Poppy Preserve (SNR)</th>\n",
       "      <td>True</td>\n",
       "      <td>False</td>\n",
       "      <td>False</td>\n",
       "    </tr>\n",
       "    <tr>\n",
       "      <th>Anza-Borrego Desert SP</th>\n",
       "      <td>True</td>\n",
       "      <td>False</td>\n",
       "      <td>False</td>\n",
       "    </tr>\n",
       "    <tr>\n",
       "      <th>Armstrong Redwoods SNR</th>\n",
       "      <td>True</td>\n",
       "      <td>True</td>\n",
       "      <td>False</td>\n",
       "    </tr>\n",
       "  </tbody>\n",
       "</table>\n",
       "</div>"
      ],
      "text/plain": [
       "                                                 Restrooms  Showers  \\\n",
       "UNITNAME                                                              \n",
       "Admiral William Standley SRA                          True    False   \n",
       "Angel Island SP                                       True     True   \n",
       "Antelope Valley California Poppy Preserve (SNR)       True    False   \n",
       "Anza-Borrego Desert SP                                True    False   \n",
       "Armstrong Redwoods SNR                                True     True   \n",
       "\n",
       "                                                 Flush_toilet  \n",
       "UNITNAME                                                       \n",
       "Admiral William Standley SRA                            False  \n",
       "Angel Island SP                                         False  \n",
       "Antelope Valley California Poppy Preserve (SNR)         False  \n",
       "Anza-Borrego Desert SP                                  False  \n",
       "Armstrong Redwoods SNR                                  False  "
      ]
     },
     "execution_count": 6,
     "metadata": {},
     "output_type": "execute_result"
    }
   ],
   "source": [
    "# Filter out NaN values\n",
    "buildings = buildings[buildings['TYPE'].notna()]\n",
    "\n",
    "# Filter rows and create columns for if restroom or shower\n",
    "restrooms = ['Chemical toilet', \n",
    "             'Combo building', \n",
    "             'Comfort station', \n",
    "             'Comfort station/dressing room', \n",
    "             'Flush toilet', \n",
    "             'Unisex combination building', \n",
    "             'Unisex comfort station', \n",
    "             'Vault toilet']\n",
    "showers = ['Bath house', \n",
    "           'Combo building', \n",
    "           'Shower building', \n",
    "           'Unisex combination building']\n",
    "buildings= buildings[buildings['TYPE'].isin(restrooms + showers)]\n",
    "buildings['Restrooms'] = buildings['TYPE'].isin(restrooms)\n",
    "buildings['Showers'] = buildings['TYPE'].isin(showers)\n",
    "buildings['Flush_toilet'] = buildings['TYPE'] == 'Flush toilet'\n",
    "\n",
    "# Group by campground\n",
    "def any_true(x):\n",
    "    '''Returns true if any values in series is true'''\n",
    "    return x.any()\n",
    "grouped_buildings = buildings.groupby('UNITNAME').agg({'Restrooms': any_true, \n",
    "                                                       'Showers': any_true, \n",
    "                                                       'Flush_toilet': any_true})\n",
    "grouped_buildings.head()"
   ]
  },
  {
   "cell_type": "markdown",
   "id": "baaca4ba",
   "metadata": {},
   "source": [
    "#### Parking"
   ]
  },
  {
   "cell_type": "code",
   "execution_count": 7,
   "id": "4a37dec5",
   "metadata": {},
   "outputs": [
    {
     "data": {
      "text/plain": [
       "Vehicle            2108\n",
       "Administrative      114\n",
       "Boat                 47\n",
       "Equestrian           26\n",
       "RV/Bus/Trailer       21\n",
       "Campground Spur       2\n",
       "Name: SUBTYPE, dtype: int64"
      ]
     },
     "execution_count": 7,
     "metadata": {},
     "output_type": "execute_result"
    }
   ],
   "source": [
    "parking['SUBTYPE'].value_counts()"
   ]
  },
  {
   "cell_type": "code",
   "execution_count": 8,
   "id": "5bea6ff5",
   "metadata": {},
   "outputs": [
    {
     "data": {
      "text/html": [
       "<div>\n",
       "<style scoped>\n",
       "    .dataframe tbody tr th:only-of-type {\n",
       "        vertical-align: middle;\n",
       "    }\n",
       "\n",
       "    .dataframe tbody tr th {\n",
       "        vertical-align: top;\n",
       "    }\n",
       "\n",
       "    .dataframe thead th {\n",
       "        text-align: right;\n",
       "    }\n",
       "</style>\n",
       "<table border=\"1\" class=\"dataframe\">\n",
       "  <thead>\n",
       "    <tr style=\"text-align: right;\">\n",
       "      <th></th>\n",
       "      <th>RV Parking</th>\n",
       "      <th>Vehicle Parking</th>\n",
       "      <th>Boat Parking</th>\n",
       "    </tr>\n",
       "    <tr>\n",
       "      <th>UNITNAME</th>\n",
       "      <th></th>\n",
       "      <th></th>\n",
       "      <th></th>\n",
       "    </tr>\n",
       "  </thead>\n",
       "  <tbody>\n",
       "    <tr>\n",
       "      <th>Ahjumawi Lava Springs SP</th>\n",
       "      <td>False</td>\n",
       "      <td>True</td>\n",
       "      <td>False</td>\n",
       "    </tr>\n",
       "    <tr>\n",
       "      <th>Anderson Marsh SHP</th>\n",
       "      <td>False</td>\n",
       "      <td>True</td>\n",
       "      <td>False</td>\n",
       "    </tr>\n",
       "    <tr>\n",
       "      <th>Andrew Molera SP</th>\n",
       "      <td>False</td>\n",
       "      <td>True</td>\n",
       "      <td>False</td>\n",
       "    </tr>\n",
       "    <tr>\n",
       "      <th>Angel Island SP</th>\n",
       "      <td>False</td>\n",
       "      <td>True</td>\n",
       "      <td>False</td>\n",
       "    </tr>\n",
       "    <tr>\n",
       "      <th>Antelope Valley California Poppy Preserve (SNR)</th>\n",
       "      <td>True</td>\n",
       "      <td>True</td>\n",
       "      <td>False</td>\n",
       "    </tr>\n",
       "  </tbody>\n",
       "</table>\n",
       "</div>"
      ],
      "text/plain": [
       "                                                 RV Parking  Vehicle Parking  \\\n",
       "UNITNAME                                                                       \n",
       "Ahjumawi Lava Springs SP                              False             True   \n",
       "Anderson Marsh SHP                                    False             True   \n",
       "Andrew Molera SP                                      False             True   \n",
       "Angel Island SP                                       False             True   \n",
       "Antelope Valley California Poppy Preserve (SNR)        True             True   \n",
       "\n",
       "                                                 Boat Parking  \n",
       "UNITNAME                                                       \n",
       "Ahjumawi Lava Springs SP                                False  \n",
       "Anderson Marsh SHP                                      False  \n",
       "Andrew Molera SP                                        False  \n",
       "Angel Island SP                                         False  \n",
       "Antelope Valley California Poppy Preserve (SNR)         False  "
      ]
     },
     "execution_count": 8,
     "metadata": {},
     "output_type": "execute_result"
    }
   ],
   "source": [
    "parking['RV Parking'] = parking['SUBTYPE'] == 'RV/Bus/Trailer'\n",
    "parking['Vehicle Parking'] = parking['SUBTYPE'] == 'Vehicle'\n",
    "parking['Boat Parking'] = parking['SUBTYPE'] == 'Boat'\n",
    "\n",
    "grouped_parking = parking.groupby('UNITNAME').agg({'RV Parking': any_true, \n",
    "                                                       'Vehicle Parking': any_true, \n",
    "                                                       'Boat Parking': any_true})\n",
    "grouped_parking.head()"
   ]
  },
  {
   "cell_type": "markdown",
   "id": "ae5195b9",
   "metadata": {},
   "source": [
    "#### Campgrounds"
   ]
  },
  {
   "cell_type": "code",
   "execution_count": 9,
   "id": "baac3184",
   "metadata": {},
   "outputs": [
    {
     "data": {
      "text/plain": [
       "Developed Family Camp Area    198\n",
       "Developed Group Camp Area      82\n",
       "Primitive Family Camp Area     78\n",
       "Environmental Camp Area        54\n",
       "Hike/Bike Camp Area            40\n",
       "Undefined                      25\n",
       "Horse Camp Area                18\n",
       "Primitive Group Camp Area      17\n",
       "Enroute Camp Area               8\n",
       "Walk-in Camp Area               1\n",
       "Name: TYPE, dtype: int64"
      ]
     },
     "execution_count": 9,
     "metadata": {},
     "output_type": "execute_result"
    }
   ],
   "source": [
    "campgrounds['TYPE'].value_counts()"
   ]
  },
  {
   "cell_type": "code",
   "execution_count": 10,
   "id": "0838c2b7",
   "metadata": {},
   "outputs": [
    {
     "data": {
      "text/html": [
       "<div>\n",
       "<style scoped>\n",
       "    .dataframe tbody tr th:only-of-type {\n",
       "        vertical-align: middle;\n",
       "    }\n",
       "\n",
       "    .dataframe tbody tr th {\n",
       "        vertical-align: top;\n",
       "    }\n",
       "\n",
       "    .dataframe thead th {\n",
       "        text-align: right;\n",
       "    }\n",
       "</style>\n",
       "<table border=\"1\" class=\"dataframe\">\n",
       "  <thead>\n",
       "    <tr style=\"text-align: right;\">\n",
       "      <th></th>\n",
       "      <th>FID</th>\n",
       "      <th>Campground</th>\n",
       "      <th>GISID</th>\n",
       "      <th>TYPE</th>\n",
       "      <th>SUBTYPE</th>\n",
       "      <th>UNITNBR</th>\n",
       "      <th>DETAIL</th>\n",
       "      <th>UNITNAME</th>\n",
       "      <th>SHARE</th>\n",
       "      <th>GlobalID</th>\n",
       "      <th>...</th>\n",
       "      <th>geometry</th>\n",
       "      <th>Primitive</th>\n",
       "      <th>Developed</th>\n",
       "      <th>Horse</th>\n",
       "      <th>Restrooms</th>\n",
       "      <th>Showers</th>\n",
       "      <th>Flush_toilet</th>\n",
       "      <th>RV Parking</th>\n",
       "      <th>Vehicle Parking</th>\n",
       "      <th>Boat Parking</th>\n",
       "    </tr>\n",
       "  </thead>\n",
       "  <tbody>\n",
       "    <tr>\n",
       "      <th>0</th>\n",
       "      <td>2074</td>\n",
       "      <td>Ritchey Creek Campground</td>\n",
       "      <td>GIS0006395</td>\n",
       "      <td>Developed Family Camp Area</td>\n",
       "      <td>None</td>\n",
       "      <td>240</td>\n",
       "      <td>Ritchey Creek Campground</td>\n",
       "      <td>Bothe-Napa Valley SP</td>\n",
       "      <td>None</td>\n",
       "      <td>{AC98673D-5387-4783-BB72-ED2987FA86AE}</td>\n",
       "      <td>...</td>\n",
       "      <td>POINT (-13639496.195 4657348.494)</td>\n",
       "      <td>False</td>\n",
       "      <td>True</td>\n",
       "      <td>False</td>\n",
       "      <td>True</td>\n",
       "      <td>True</td>\n",
       "      <td>False</td>\n",
       "      <td>False</td>\n",
       "      <td>True</td>\n",
       "      <td>False</td>\n",
       "    </tr>\n",
       "    <tr>\n",
       "      <th>1</th>\n",
       "      <td>2075</td>\n",
       "      <td>Bothe-Napa Valley Group Camp</td>\n",
       "      <td>GIS0006396</td>\n",
       "      <td>Developed Group Camp Area</td>\n",
       "      <td>None</td>\n",
       "      <td>240</td>\n",
       "      <td>Bothe-Napa Valley Group Camp</td>\n",
       "      <td>Bothe-Napa Valley SP</td>\n",
       "      <td>None</td>\n",
       "      <td>{196BF388-E240-49EC-A361-4330849D07E8}</td>\n",
       "      <td>...</td>\n",
       "      <td>POINT (-13638520.925 4657386.784)</td>\n",
       "      <td>False</td>\n",
       "      <td>True</td>\n",
       "      <td>False</td>\n",
       "      <td>True</td>\n",
       "      <td>True</td>\n",
       "      <td>False</td>\n",
       "      <td>False</td>\n",
       "      <td>True</td>\n",
       "      <td>False</td>\n",
       "    </tr>\n",
       "    <tr>\n",
       "      <th>2</th>\n",
       "      <td>2076</td>\n",
       "      <td>Brannan Island Group Camp</td>\n",
       "      <td>GIS0006398</td>\n",
       "      <td>Developed Group Camp Area</td>\n",
       "      <td>None</td>\n",
       "      <td>314</td>\n",
       "      <td>Brannan Island Group Camp</td>\n",
       "      <td>Brannan Island SRA</td>\n",
       "      <td>None</td>\n",
       "      <td>{D089D94A-75A3-409E-8B95-613D918F27C5}</td>\n",
       "      <td>...</td>\n",
       "      <td>POINT (-13546051.275 4596380.365)</td>\n",
       "      <td>False</td>\n",
       "      <td>True</td>\n",
       "      <td>False</td>\n",
       "      <td>True</td>\n",
       "      <td>True</td>\n",
       "      <td>False</td>\n",
       "      <td>False</td>\n",
       "      <td>True</td>\n",
       "      <td>True</td>\n",
       "    </tr>\n",
       "    <tr>\n",
       "      <th>3</th>\n",
       "      <td>2077</td>\n",
       "      <td>Walk-in Campsites</td>\n",
       "      <td>GIS0006399</td>\n",
       "      <td>Developed Family Camp Area</td>\n",
       "      <td>None</td>\n",
       "      <td>314</td>\n",
       "      <td>Walk-in  Campsites</td>\n",
       "      <td>Brannan Island SRA</td>\n",
       "      <td>None</td>\n",
       "      <td>{C880DECC-2000-48C3-953E-B6AD4C29B49C}</td>\n",
       "      <td>...</td>\n",
       "      <td>POINT (-13546394.584 4595659.599)</td>\n",
       "      <td>False</td>\n",
       "      <td>True</td>\n",
       "      <td>False</td>\n",
       "      <td>True</td>\n",
       "      <td>True</td>\n",
       "      <td>False</td>\n",
       "      <td>False</td>\n",
       "      <td>True</td>\n",
       "      <td>True</td>\n",
       "    </tr>\n",
       "    <tr>\n",
       "      <th>4</th>\n",
       "      <td>2078</td>\n",
       "      <td>North Grove Campground</td>\n",
       "      <td>GIS0006400</td>\n",
       "      <td>Developed Family Camp Area</td>\n",
       "      <td>None</td>\n",
       "      <td>306</td>\n",
       "      <td>North Grove Campground</td>\n",
       "      <td>Calaveras Big Trees SP</td>\n",
       "      <td>None</td>\n",
       "      <td>{3C9F0EA0-DB71-479E-9486-C45DDB6C579E}</td>\n",
       "      <td>...</td>\n",
       "      <td>POINT (-13392613.832 4618511.183)</td>\n",
       "      <td>False</td>\n",
       "      <td>True</td>\n",
       "      <td>False</td>\n",
       "      <td>True</td>\n",
       "      <td>True</td>\n",
       "      <td>False</td>\n",
       "      <td>False</td>\n",
       "      <td>True</td>\n",
       "      <td>False</td>\n",
       "    </tr>\n",
       "  </tbody>\n",
       "</table>\n",
       "<p>5 rows × 21 columns</p>\n",
       "</div>"
      ],
      "text/plain": [
       "    FID                    Campground       GISID                        TYPE  \\\n",
       "0  2074      Ritchey Creek Campground  GIS0006395  Developed Family Camp Area   \n",
       "1  2075  Bothe-Napa Valley Group Camp  GIS0006396   Developed Group Camp Area   \n",
       "2  2076     Brannan Island Group Camp  GIS0006398   Developed Group Camp Area   \n",
       "3  2077             Walk-in Campsites  GIS0006399  Developed Family Camp Area   \n",
       "4  2078        North Grove Campground  GIS0006400  Developed Family Camp Area   \n",
       "\n",
       "  SUBTYPE UNITNBR                        DETAIL                UNITNAME SHARE  \\\n",
       "0    None     240      Ritchey Creek Campground    Bothe-Napa Valley SP  None   \n",
       "1    None     240  Bothe-Napa Valley Group Camp    Bothe-Napa Valley SP  None   \n",
       "2    None     314     Brannan Island Group Camp      Brannan Island SRA  None   \n",
       "3    None     314            Walk-in  Campsites      Brannan Island SRA  None   \n",
       "4    None     306        North Grove Campground  Calaveras Big Trees SP  None   \n",
       "\n",
       "                                 GlobalID  ...  \\\n",
       "0  {AC98673D-5387-4783-BB72-ED2987FA86AE}  ...   \n",
       "1  {196BF388-E240-49EC-A361-4330849D07E8}  ...   \n",
       "2  {D089D94A-75A3-409E-8B95-613D918F27C5}  ...   \n",
       "3  {C880DECC-2000-48C3-953E-B6AD4C29B49C}  ...   \n",
       "4  {3C9F0EA0-DB71-479E-9486-C45DDB6C579E}  ...   \n",
       "\n",
       "                            geometry Primitive  Developed  Horse  Restrooms  \\\n",
       "0  POINT (-13639496.195 4657348.494)     False       True  False       True   \n",
       "1  POINT (-13638520.925 4657386.784)     False       True  False       True   \n",
       "2  POINT (-13546051.275 4596380.365)     False       True  False       True   \n",
       "3  POINT (-13546394.584 4595659.599)     False       True  False       True   \n",
       "4  POINT (-13392613.832 4618511.183)     False       True  False       True   \n",
       "\n",
       "  Showers Flush_toilet RV Parking Vehicle Parking Boat Parking  \n",
       "0    True        False      False            True        False  \n",
       "1    True        False      False            True        False  \n",
       "2    True        False      False            True         True  \n",
       "3    True        False      False            True         True  \n",
       "4    True        False      False            True        False  \n",
       "\n",
       "[5 rows x 21 columns]"
      ]
     },
     "execution_count": 10,
     "metadata": {},
     "output_type": "execute_result"
    }
   ],
   "source": [
    "# Filter na values\n",
    "campgrounds = campgrounds[campgrounds['TYPE'].notna()]\n",
    "campgrounds = campgrounds[campgrounds['DETAIL'] != 'Proposed']\n",
    "\n",
    "# Create columns for different types of camping\n",
    "campgrounds['Primitive'] = campgrounds['TYPE'].str.contains('Primitive')\n",
    "campgrounds['Developed'] = campgrounds['TYPE'].str.contains('Developed')\n",
    "campgrounds['Horse'] = campgrounds['TYPE'] == 'Horse Camp Area'\n",
    "\n",
    "campgrounds_merged = campgrounds.merge(grouped_buildings, on='UNITNAME', how='left')\n",
    "campgrounds_merged = campgrounds_merged.merge(grouped_parking, on='UNITNAME', how='left')\n",
    "campgrounds_merged.head()"
   ]
  },
  {
   "cell_type": "code",
   "execution_count": 11,
   "id": "80d08f10",
   "metadata": {},
   "outputs": [
    {
     "data": {
      "text/html": [
       "<div class=\"item_container\" style=\"height: auto; overflow: hidden; border: 1px solid #cfcfcf; border-radius: 2px; background: #f6fafa; line-height: 1.21429em; padding: 10px;\">\n",
       "                    <div class=\"item_left\" style=\"width: 210px; float: left;\">\n",
       "                       <a href='https://UCSDOnline.maps.arcgis.com/home/item.html?id=1f87231cbc4546bba448bf4016d8956e' target='_blank'>\n",
       "                        <img src='http://static.arcgis.com/images/desktopapp.png' class=\"itemThumbnail\">\n",
       "                       </a>\n",
       "                    </div>\n",
       "\n",
       "                    <div class=\"item_right\"     style=\"float: none; width: auto; overflow: hidden;\">\n",
       "                        <a href='https://UCSDOnline.maps.arcgis.com/home/item.html?id=1f87231cbc4546bba448bf4016d8956e' target='_blank'><b>CA State Campgrounds</b>\n",
       "                        </a>\n",
       "                        <br/><img src='https://UCSDOnline.maps.arcgis.com/home/js/jsapi/esri/css/images/item_type_icons/featureshosted16.png' style=\"vertical-align:middle;\" width=16 height=16>Feature Layer Collection by dsc170wi24_44\n",
       "                        <br/>Last Modified: March 14, 2024\n",
       "                        <br/>0 comments, 12 views\n",
       "                    </div>\n",
       "                </div>\n",
       "                "
      ],
      "text/plain": [
       "<Item title:\"CA State Campgrounds\" type:Feature Layer Collection owner:dsc170wi24_44>"
      ]
     },
     "execution_count": 11,
     "metadata": {},
     "output_type": "execute_result"
    }
   ],
   "source": [
    "# Upload as feature layer\n",
    "# campgrounds_sdf = GeoAccessor.from_geodataframe(campgrounds_merged, inplace=False, column_name='SHAPE')\n",
    "# campgrounds_fl = campgrounds_sdf.spatial.to_featurelayer(title='CA State Campgrounds',\n",
    "#                                                           gis=gis,\n",
    "#                                                           tags='Camping')\n",
    "\n",
    "# Get feature layer\n",
    "campgrounds_fl = gis.content.get('1f87231cbc4546bba448bf4016d8956e')\n",
    "campgrounds_fl"
   ]
  },
  {
   "cell_type": "code",
   "execution_count": 12,
   "id": "a0d37104",
   "metadata": {
    "scrolled": true
   },
   "outputs": [
    {
     "data": {
      "application/vnd.jupyter.widget-view+json": {
       "model_id": "db2b90dc9f0e4ffca254aeb1a35c0cb1",
       "version_major": 2,
       "version_minor": 0
      },
      "text/plain": [
       "MapView(layout=Layout(height='400px', width='100%'))"
      ]
     },
     "metadata": {},
     "output_type": "display_data"
    },
    {
     "data": {
      "text/html": [
       "<div class=\"map-static-img-preview-d7c0132a-f9fb-4e25-b38c-922938ed57c1\"><img src=\"\"></img></div>"
      ],
      "text/plain": [
       "<IPython.core.display.HTML object>"
      ]
     },
     "metadata": {},
     "output_type": "display_data"
    },
    {
     "data": {
      "text/html": [
       "<div class=\"map-html-embed-preview-d7c0132a-f9fb-4e25-b38c-922938ed57c1\"></div>"
      ],
      "text/plain": [
       "<IPython.core.display.HTML object>"
      ]
     },
     "metadata": {},
     "output_type": "display_data"
    }
   ],
   "source": [
    "camp_map = gis.map('California, US')\n",
    "camp_map.add_layer(campgrounds_fl)\n",
    "camp_map"
   ]
  },
  {
   "cell_type": "markdown",
   "id": "1f6fe563",
   "metadata": {},
   "source": [
    "#### Recreational Routes"
   ]
  },
  {
   "cell_type": "code",
   "execution_count": 13,
   "id": "f5f2ba86",
   "metadata": {},
   "outputs": [
    {
     "data": {
      "text/html": [
       "<div>\n",
       "<style scoped>\n",
       "    .dataframe tbody tr th:only-of-type {\n",
       "        vertical-align: middle;\n",
       "    }\n",
       "\n",
       "    .dataframe tbody tr th {\n",
       "        vertical-align: top;\n",
       "    }\n",
       "\n",
       "    .dataframe thead th {\n",
       "        text-align: right;\n",
       "    }\n",
       "</style>\n",
       "<table border=\"1\" class=\"dataframe\">\n",
       "  <thead>\n",
       "    <tr style=\"text-align: right;\">\n",
       "      <th></th>\n",
       "      <th>FID</th>\n",
       "      <th>ROUTENAME</th>\n",
       "      <th>GISID</th>\n",
       "      <th>ROUTECLASS</th>\n",
       "      <th>UNITNBR</th>\n",
       "      <th>UNITNAME</th>\n",
       "      <th>ROUTECAT</th>\n",
       "      <th>ROUTETYPE</th>\n",
       "      <th>SEGLNGTH</th>\n",
       "      <th>SHARE</th>\n",
       "      <th>Shape_Leng</th>\n",
       "      <th>GlobalID</th>\n",
       "      <th>SHAPE_Le_1</th>\n",
       "      <th>geometry</th>\n",
       "    </tr>\n",
       "  </thead>\n",
       "  <tbody>\n",
       "    <tr>\n",
       "      <th>72</th>\n",
       "      <td>23311</td>\n",
       "      <td>LAP</td>\n",
       "      <td>GIS0075760</td>\n",
       "      <td>State Park Road</td>\n",
       "      <td>521</td>\n",
       "      <td>Hungry Valley SVRA</td>\n",
       "      <td>Primitive Rd</td>\n",
       "      <td>Native Material</td>\n",
       "      <td>1100.0</td>\n",
       "      <td>Public</td>\n",
       "      <td>407.877932</td>\n",
       "      <td>{17C364FB-E0F6-43A8-8A82-B50C262D6F41}</td>\n",
       "      <td>407.877932</td>\n",
       "      <td>LINESTRING Z (-13226060.142 4131594.839 0.000,...</td>\n",
       "    </tr>\n",
       "    <tr>\n",
       "      <th>421</th>\n",
       "      <td>23660</td>\n",
       "      <td>Lava Springs Trail</td>\n",
       "      <td>GIS0128939</td>\n",
       "      <td>State Park Trail</td>\n",
       "      <td>190</td>\n",
       "      <td>Ahjumawi Lava Springs SP</td>\n",
       "      <td>None</td>\n",
       "      <td>Native Material</td>\n",
       "      <td>9047.0</td>\n",
       "      <td>Public</td>\n",
       "      <td>2552.327716</td>\n",
       "      <td>{DD5C3862-F726-440D-AF67-07CB6CFA5F9E}</td>\n",
       "      <td>2552.327716</td>\n",
       "      <td>LINESTRING Z (-13520639.129 5028652.868 0.000,...</td>\n",
       "    </tr>\n",
       "    <tr>\n",
       "      <th>425</th>\n",
       "      <td>23664</td>\n",
       "      <td>Nightmare Gulch</td>\n",
       "      <td>GIS0070250</td>\n",
       "      <td>State Park Road</td>\n",
       "      <td>577</td>\n",
       "      <td>Red Rock Canyon SP</td>\n",
       "      <td>Primitive Rd</td>\n",
       "      <td>Native Material</td>\n",
       "      <td>852.0</td>\n",
       "      <td>Public</td>\n",
       "      <td>1274.654037</td>\n",
       "      <td>{44DB3AF1-7AB9-4489-BA86-00202D1AF012}</td>\n",
       "      <td>1274.654037</td>\n",
       "      <td>LINESTRING Z (-13129998.876 4216458.724 0.000,...</td>\n",
       "    </tr>\n",
       "    <tr>\n",
       "      <th>426</th>\n",
       "      <td>23665</td>\n",
       "      <td>Nightmare Gulch turn around area</td>\n",
       "      <td>GIS0070251</td>\n",
       "      <td>State Park Road</td>\n",
       "      <td>577</td>\n",
       "      <td>Red Rock Canyon SP</td>\n",
       "      <td>Primitive Rd</td>\n",
       "      <td>Native Material</td>\n",
       "      <td>258.0</td>\n",
       "      <td>Public</td>\n",
       "      <td>92.928927</td>\n",
       "      <td>{8B563CED-2C5F-4AF7-8313-24E90838660E}</td>\n",
       "      <td>92.928927</td>\n",
       "      <td>LINESTRING Z (-13131843.769 4215224.907 0.000,...</td>\n",
       "    </tr>\n",
       "    <tr>\n",
       "      <th>428</th>\n",
       "      <td>23667</td>\n",
       "      <td>Last Chance Canyon Rd</td>\n",
       "      <td>GIS0070263</td>\n",
       "      <td>State Park Road</td>\n",
       "      <td>577</td>\n",
       "      <td>Red Rock Canyon SP</td>\n",
       "      <td>Primitive Rd</td>\n",
       "      <td>Native Material</td>\n",
       "      <td>853.0</td>\n",
       "      <td>Public</td>\n",
       "      <td>5825.074481</td>\n",
       "      <td>{21B0EF1B-E76F-463A-B791-4A4657B35E8F}</td>\n",
       "      <td>5825.074481</td>\n",
       "      <td>LINESTRING Z (-13127171.707 4218337.212 0.000,...</td>\n",
       "    </tr>\n",
       "  </tbody>\n",
       "</table>\n",
       "</div>"
      ],
      "text/plain": [
       "       FID                         ROUTENAME       GISID        ROUTECLASS  \\\n",
       "72   23311                               LAP  GIS0075760   State Park Road   \n",
       "421  23660                Lava Springs Trail  GIS0128939  State Park Trail   \n",
       "425  23664                   Nightmare Gulch  GIS0070250   State Park Road   \n",
       "426  23665  Nightmare Gulch turn around area  GIS0070251   State Park Road   \n",
       "428  23667             Last Chance Canyon Rd  GIS0070263   State Park Road   \n",
       "\n",
       "    UNITNBR                  UNITNAME      ROUTECAT        ROUTETYPE  \\\n",
       "72      521        Hungry Valley SVRA  Primitive Rd  Native Material   \n",
       "421     190  Ahjumawi Lava Springs SP          None  Native Material   \n",
       "425     577        Red Rock Canyon SP  Primitive Rd  Native Material   \n",
       "426     577        Red Rock Canyon SP  Primitive Rd  Native Material   \n",
       "428     577        Red Rock Canyon SP  Primitive Rd  Native Material   \n",
       "\n",
       "     SEGLNGTH   SHARE   Shape_Leng                                GlobalID  \\\n",
       "72     1100.0  Public   407.877932  {17C364FB-E0F6-43A8-8A82-B50C262D6F41}   \n",
       "421    9047.0  Public  2552.327716  {DD5C3862-F726-440D-AF67-07CB6CFA5F9E}   \n",
       "425     852.0  Public  1274.654037  {44DB3AF1-7AB9-4489-BA86-00202D1AF012}   \n",
       "426     258.0  Public    92.928927  {8B563CED-2C5F-4AF7-8313-24E90838660E}   \n",
       "428     853.0  Public  5825.074481  {21B0EF1B-E76F-463A-B791-4A4657B35E8F}   \n",
       "\n",
       "      SHAPE_Le_1                                           geometry  \n",
       "72    407.877932  LINESTRING Z (-13226060.142 4131594.839 0.000,...  \n",
       "421  2552.327716  LINESTRING Z (-13520639.129 5028652.868 0.000,...  \n",
       "425  1274.654037  LINESTRING Z (-13129998.876 4216458.724 0.000,...  \n",
       "426    92.928927  LINESTRING Z (-13131843.769 4215224.907 0.000,...  \n",
       "428  5825.074481  LINESTRING Z (-13127171.707 4218337.212 0.000,...  "
      ]
     },
     "execution_count": 13,
     "metadata": {},
     "output_type": "execute_result"
    }
   ],
   "source": [
    "routes = routes[routes['SHARE'] == 'Public']\n",
    "routes.head()"
   ]
  },
  {
   "cell_type": "code",
   "execution_count": 14,
   "id": "fdd596f1",
   "metadata": {},
   "outputs": [
    {
     "data": {
      "text/html": [
       "<div class=\"item_container\" style=\"height: auto; overflow: hidden; border: 1px solid #cfcfcf; border-radius: 2px; background: #f6fafa; line-height: 1.21429em; padding: 10px;\">\n",
       "                    <div class=\"item_left\" style=\"width: 210px; float: left;\">\n",
       "                       <a href='https://UCSDOnline.maps.arcgis.com/home/item.html?id=a789dc2099c24e659c5829cab5beac2c' target='_blank'>\n",
       "                        <img src='data:image/png;base64,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' width='200' height='133' class=\"itemThumbnail\">\n",
       "                       </a>\n",
       "                    </div>\n",
       "\n",
       "                    <div class=\"item_right\"     style=\"float: none; width: auto; overflow: hidden;\">\n",
       "                        <a href='https://UCSDOnline.maps.arcgis.com/home/item.html?id=a789dc2099c24e659c5829cab5beac2c' target='_blank'><b>State Park Trails</b>\n",
       "                        </a>\n",
       "                        <br/><img src='https://UCSDOnline.maps.arcgis.com/home/js/jsapi/esri/css/images/item_type_icons/featureshosted16.png' style=\"vertical-align:middle;\" width=16 height=16>Feature Layer Collection by dsc170wi24_44\n",
       "                        <br/>Last Modified: March 12, 2024\n",
       "                        <br/>0 comments, 23 views\n",
       "                    </div>\n",
       "                </div>\n",
       "                "
      ],
      "text/plain": [
       "<Item title:\"State Park Trails\" type:Feature Layer Collection owner:dsc170wi24_44>"
      ]
     },
     "execution_count": 14,
     "metadata": {},
     "output_type": "execute_result"
    }
   ],
   "source": [
    "# # Upload as feature layer\n",
    "# routes_sdf = GeoAccessor.from_geodataframe(routes, inplace=False, column_name='SHAPE')\n",
    "# routes_fl = routes_sdf.spatial.to_featurelayer(title='State Park Trails',\n",
    "#                                                          gis=gis,\n",
    "#                                                          tags='Camping')\n",
    "\n",
    "#Get feature layer\n",
    "routes_fl = gis.content.get('a789dc2099c24e659c5829cab5beac2c')\n",
    "routes_fl"
   ]
  },
  {
   "cell_type": "code",
   "execution_count": 15,
   "id": "61c8fb90",
   "metadata": {},
   "outputs": [
    {
     "data": {
      "application/vnd.jupyter.widget-view+json": {
       "model_id": "3ff6a6e49aa84dd0b9697dbed1f0bf5c",
       "version_major": 2,
       "version_minor": 0
      },
      "text/plain": [
       "MapView(layout=Layout(height='400px', width='100%'))"
      ]
     },
     "metadata": {},
     "output_type": "display_data"
    },
    {
     "data": {
      "text/html": [
       "<div class=\"map-static-img-preview-3b1e23b9-6b33-4da9-8f5b-5f24e0286b1f\"><img src=\"\"></img></div>"
      ],
      "text/plain": [
       "<IPython.core.display.HTML object>"
      ]
     },
     "metadata": {},
     "output_type": "display_data"
    },
    {
     "data": {
      "text/html": [
       "<div class=\"map-html-embed-preview-3b1e23b9-6b33-4da9-8f5b-5f24e0286b1f\"></div>"
      ],
      "text/plain": [
       "<IPython.core.display.HTML object>"
      ]
     },
     "metadata": {},
     "output_type": "display_data"
    }
   ],
   "source": [
    "trail_map = gis.map('California, US')\n",
    "trail_map.add_layer(campgrounds_fl)\n",
    "trail_map.add_layer(routes_fl)\n",
    "trail_map"
   ]
  },
  {
   "cell_type": "markdown",
   "id": "2df511a7",
   "metadata": {},
   "source": [
    "#### Near River"
   ]
  },
  {
   "cell_type": "code",
   "execution_count": 25,
   "id": "9ce86c31",
   "metadata": {},
   "outputs": [
    {
     "data": {
      "text/html": [
       "<div class=\"item_container\" style=\"height: auto; overflow: hidden; border: 1px solid #cfcfcf; border-radius: 2px; background: #f6fafa; line-height: 1.21429em; padding: 10px;\">\n",
       "                    <div class=\"item_left\" style=\"width: 210px; float: left;\">\n",
       "                       <a href='https://UCSDOnline.maps.arcgis.com/home/item.html?id=d1dc945e8357493cb9219ed3491867fe' target='_blank'>\n",
       "                        <img src='data:image/png;base64,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' width='200' height='133' class=\"itemThumbnail\">\n",
       "                       </a>\n",
       "                    </div>\n",
       "\n",
       "                    <div class=\"item_right\"     style=\"float: none; width: auto; overflow: hidden;\">\n",
       "                        <a href='https://UCSDOnline.maps.arcgis.com/home/item.html?id=d1dc945e8357493cb9219ed3491867fe' target='_blank'><b>CA Rivers</b>\n",
       "                        </a>\n",
       "                        <br/><img src='https://UCSDOnline.maps.arcgis.com/home/js/jsapi/esri/css/images/item_type_icons/featureshosted16.png' style=\"vertical-align:middle;\" width=16 height=16>Feature Layer Collection by dsc170wi24_44\n",
       "                        <br/>Last Modified: March 19, 2024\n",
       "                        <br/>0 comments, 2 views\n",
       "                    </div>\n",
       "                </div>\n",
       "                "
      ],
      "text/plain": [
       "<Item title:\"CA Rivers\" type:Feature Layer Collection owner:dsc170wi24_44>"
      ]
     },
     "execution_count": 25,
     "metadata": {},
     "output_type": "execute_result"
    }
   ],
   "source": [
    "# river_sdf = GeoAccessor.from_geodataframe(river, inplace=False, column_name='SHAPE')\n",
    "# river_fl = river_sdf.spatial.to_featurelayer(title='CA Rivers',\n",
    "#                                                          gis=gis,\n",
    "#                                                          tags='Camping')\n",
    "river_fl = gis.content.get('d1dc945e8357493cb9219ed3491867fe')\n",
    "river_fl"
   ]
  },
  {
   "cell_type": "code",
   "execution_count": 26,
   "id": "04ad2a21",
   "metadata": {},
   "outputs": [
    {
     "data": {
      "application/vnd.jupyter.widget-view+json": {
       "model_id": "2fb9d8c28bc04f7dbf9f227e7ef8f95f",
       "version_major": 2,
       "version_minor": 0
      },
      "text/plain": [
       "MapView(layout=Layout(height='400px', width='100%'))"
      ]
     },
     "metadata": {},
     "output_type": "display_data"
    },
    {
     "data": {
      "text/html": [
       "<div class=\"map-static-img-preview-7db27477-177b-430c-a151-e5db6afb68fc\"><img src=\"\"></img></div>"
      ],
      "text/plain": [
       "<IPython.core.display.HTML object>"
      ]
     },
     "metadata": {},
     "output_type": "display_data"
    },
    {
     "data": {
      "text/html": [
       "<div class=\"map-html-embed-preview-7db27477-177b-430c-a151-e5db6afb68fc\"></div>"
      ],
      "text/plain": [
       "<IPython.core.display.HTML object>"
      ]
     },
     "metadata": {},
     "output_type": "display_data"
    }
   ],
   "source": [
    "river_map = gis.map('California, US')\n",
    "river_map.add_layer(river_fl)\n",
    "river_map"
   ]
  },
  {
   "cell_type": "markdown",
   "id": "c052e4e4",
   "metadata": {},
   "source": [
    "#### Mobile Service"
   ]
  },
  {
   "cell_type": "code",
   "execution_count": 32,
   "id": "b3a97f44",
   "metadata": {},
   "outputs": [
    {
     "data": {
      "text/html": [
       "<div class=\"item_container\" style=\"height: auto; overflow: hidden; border: 1px solid #cfcfcf; border-radius: 2px; background: #f6fafa; line-height: 1.21429em; padding: 10px;\">\n",
       "                    <div class=\"item_left\" style=\"width: 210px; float: left;\">\n",
       "                       <a href='https://UCSDOnline.maps.arcgis.com/home/item.html?id=0ab52126721a4e609d7c7cc7d253f958' target='_blank'>\n",
       "                        <img src='http://static.arcgis.com/images/desktopapp.png' class=\"itemThumbnail\">\n",
       "                       </a>\n",
       "                    </div>\n",
       "\n",
       "                    <div class=\"item_right\"     style=\"float: none; width: auto; overflow: hidden;\">\n",
       "                        <a href='https://UCSDOnline.maps.arcgis.com/home/item.html?id=0ab52126721a4e609d7c7cc7d253f958' target='_blank'><b>Mobile Service</b>\n",
       "                        </a>\n",
       "                        <br/><img src='https://UCSDOnline.maps.arcgis.com/home/js/jsapi/esri/css/images/item_type_icons/featureshosted16.png' style=\"vertical-align:middle;\" width=16 height=16>Feature Layer Collection by dsc170wi24_44\n",
       "                        <br/>Last Modified: March 19, 2024\n",
       "                        <br/>0 comments, 0 views\n",
       "                    </div>\n",
       "                </div>\n",
       "                "
      ],
      "text/plain": [
       "<Item title:\"Mobile Service\" type:Feature Layer Collection owner:dsc170wi24_44>"
      ]
     },
     "execution_count": 32,
     "metadata": {},
     "output_type": "execute_result"
    }
   ],
   "source": [
    "mobile_sdf = GeoAccessor.from_geodataframe(mobile, inplace=False, column_name='SHAPE')\n",
    "mobile_fl = mobile_sdf.spatial.to_featurelayer(title='Mobile Service',\n",
    "                                                         gis=gis,\n",
    "                                                         tags='Camping')\n",
    "mobile_fl"
   ]
  },
  {
   "cell_type": "code",
   "execution_count": 31,
   "id": "395afcd2",
   "metadata": {},
   "outputs": [
    {
     "data": {
      "text/plain": [
       "11"
      ]
     },
     "execution_count": 31,
     "metadata": {},
     "output_type": "execute_result"
    }
   ],
   "source": []
  },
  {
   "cell_type": "markdown",
   "id": "6b10c366",
   "metadata": {},
   "source": [
    "#### Light Pollution"
   ]
  },
  {
   "cell_type": "code",
   "execution_count": 16,
   "id": "b6f1b6ea",
   "metadata": {},
   "outputs": [],
   "source": [
    "# Extent and clip\n",
    "light_pollution_clip = extent_clip(light_pollution)\n",
    "\n",
    "# Normalize map into 9 bins\n",
    "light_pollution_n = remap(raster=light_pollution_clip,\n",
    "                  input_ranges = [0.0, 9.0,\n",
    "                                  9.0, 18.0,\n",
    "                                  18.0, 27.0,\n",
    "                                  27.0, 36.0,\n",
    "                                  36.0, 45.0,\n",
    "                                  45.0, 54.0,\n",
    "                                  54.0, 63.0,\n",
    "                                  63.0, 72.0,\n",
    "                                  72.0, 81.0],\n",
    "                  output_values=[9,8,7,6,5,4,3,2,1],  astype='U8')"
   ]
  },
  {
   "cell_type": "code",
   "execution_count": 17,
   "id": "1b60f84c",
   "metadata": {},
   "outputs": [
    {
     "data": {
      "text/html": [
       "<div class=\"item_container\" style=\"height: auto; overflow: hidden; border: 1px solid #cfcfcf; border-radius: 2px; background: #f6fafa; line-height: 1.21429em; padding: 10px;\">\n",
       "                    <div class=\"item_left\" style=\"width: 210px; float: left;\">\n",
       "                       <a href='https://UCSDOnline.maps.arcgis.com/home/item.html?id=afcf82caba7b45699f5a8e0fee321329' target='_blank'>\n",
       "                        <img src='data:image/png;base64,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' width='200' height='133' class=\"itemThumbnail\">\n",
       "                       </a>\n",
       "                    </div>\n",
       "\n",
       "                    <div class=\"item_right\"     style=\"float: none; width: auto; overflow: hidden;\">\n",
       "                        <a href='https://UCSDOnline.maps.arcgis.com/home/item.html?id=afcf82caba7b45699f5a8e0fee321329' target='_blank'><b>Light Pollution CA Feature Layer</b>\n",
       "                        </a>\n",
       "                        <br/>RasterToFeature_ECLNNG<img src='https://UCSDOnline.maps.arcgis.com/home/js/jsapi/esri/css/images/item_type_icons/featureshosted16.png' style=\"vertical-align:middle;\" width=16 height=16>Feature Layer Collection by dsc170wi24_44\n",
       "                        <br/>Last Modified: March 18, 2024\n",
       "                        <br/>0 comments, 12 views\n",
       "                    </div>\n",
       "                </div>\n",
       "                "
      ],
      "text/plain": [
       "<Item title:\"Light Pollution CA Feature Layer\" type:Feature Layer Collection owner:dsc170wi24_44>"
      ]
     },
     "execution_count": 17,
     "metadata": {},
     "output_type": "execute_result"
    }
   ],
   "source": [
    "# Change imagery layer to feature layer\n",
    "#light_fl = light_pollution_n.to_features()\n",
    "# light_fl = gis.content.get('ce3a7029ab0346e5a0f6c2edbd507bf4')\n",
    "light_fl = gis.content.get('afcf82caba7b45699f5a8e0fee321329')\n",
    "light_fl"
   ]
  },
  {
   "cell_type": "markdown",
   "id": "4a86acf8",
   "metadata": {},
   "source": [
    "#### Air Pollution"
   ]
  },
  {
   "cell_type": "code",
   "execution_count": 18,
   "id": "eb736999",
   "metadata": {},
   "outputs": [
    {
     "data": {
      "text/plain": [
       "{'histograms': [{'size': 10,\n",
       "   'min': -0.5,\n",
       "   'max': 9.5,\n",
       "   'counts': [0, 0, 3, 106, 280, 342, 579, 566, 581, 1470]}]}"
      ]
     },
     "execution_count": 18,
     "metadata": {},
     "output_type": "execute_result"
    }
   ],
   "source": [
    "# Extent and clip\n",
    "air_clip = extent_clip(air_pollution)\n",
    "\n",
    "# Normalize\n",
    "air_n = remap(raster=air_clip,\n",
    "                  input_ranges=[0,5,\n",
    "                                5,6,\n",
    "                                6,7,\n",
    "                                7,8,\n",
    "                                8,9,\n",
    "                                9,11,\n",
    "                                11,13,\n",
    "                                13,584,\n",
    "                                584,660],\n",
    "                  output_values=[9,8,7,6,5,4,3,2,1],  astype='U8')\n",
    "air_n.compute_histograms(geometry=study_area_geom)"
   ]
  },
  {
   "cell_type": "code",
   "execution_count": 19,
   "id": "b44e1ade",
   "metadata": {},
   "outputs": [
    {
     "data": {
      "text/html": [
       "<div class=\"item_container\" style=\"height: auto; overflow: hidden; border: 1px solid #cfcfcf; border-radius: 2px; background: #f6fafa; line-height: 1.21429em; padding: 10px;\">\n",
       "                    <div class=\"item_left\" style=\"width: 210px; float: left;\">\n",
       "                       <a href='https://UCSDOnline.maps.arcgis.com/home/item.html?id=a5c244c6241344509635eda832609967' target='_blank'>\n",
       "                        <img src='data:image/png;base64,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' width='200' height='133' class=\"itemThumbnail\">\n",
       "                       </a>\n",
       "                    </div>\n",
       "\n",
       "                    <div class=\"item_right\"     style=\"float: none; width: auto; overflow: hidden;\">\n",
       "                        <a href='https://UCSDOnline.maps.arcgis.com/home/item.html?id=a5c244c6241344509635eda832609967' target='_blank'><b>Air Pollution CA Feature Layer</b>\n",
       "                        </a>\n",
       "                        <br/>RasterToFeature_ZWTKNY<img src='https://UCSDOnline.maps.arcgis.com/home/js/jsapi/esri/css/images/item_type_icons/featureshosted16.png' style=\"vertical-align:middle;\" width=16 height=16>Feature Layer Collection by dsc170wi24_44\n",
       "                        <br/>Last Modified: March 18, 2024\n",
       "                        <br/>0 comments, 10 views\n",
       "                    </div>\n",
       "                </div>\n",
       "                "
      ],
      "text/plain": [
       "<Item title:\"Air Pollution CA Feature Layer\" type:Feature Layer Collection owner:dsc170wi24_44>"
      ]
     },
     "execution_count": 19,
     "metadata": {},
     "output_type": "execute_result"
    }
   ],
   "source": [
    "# Change to feature layer \n",
    "#air_fl = air_n.to_features()\n",
    "#air_fl = gis.content.get('7ba57f788aa94960a0d99199a37b4891')\n",
    "\n",
    "air_fl = gis.content.get('a5c244c6241344509635eda832609967')\n",
    "air_fl"
   ]
  },
  {
   "cell_type": "markdown",
   "id": "72df77a3",
   "metadata": {},
   "source": [
    "--------------------------------------------------------------------------------------"
   ]
  },
  {
   "cell_type": "markdown",
   "id": "f0a6013e",
   "metadata": {},
   "source": [
    "## Analysis"
   ]
  },
  {
   "cell_type": "markdown",
   "id": "2356f323",
   "metadata": {},
   "source": [
    "***TODO***\n",
    "\n",
    "Provide a general outline of your analysis (in a markdown), and then document it step by step\n",
    "as you code the solution. Please make sure that we can reproduce your analysis by running\n",
    "your notebook. As before, a diagram describing your workflow would be helpful.\n",
    "\n",
    "Please also reflect on how your actual analysis steps were different compared to your project\n",
    "proposal - or state that you didn’t deviate from the initial plan.\n",
    "\n",
    "(a combination of markdown and documented code cells)\n",
    "(at least 500 words)"
   ]
  },
  {
   "cell_type": "code",
   "execution_count": 20,
   "id": "18a3ddc0",
   "metadata": {},
   "outputs": [
    {
     "data": {
      "image/jpeg": "[encoded data removed]",
      "text/plain": [
       "<ImageryLayer url:\"https://ic.img.arcgis.com/arcgis/rest/services/VIIRS/NighttimeLightsMDNB/ImageServer\">"
      ]
     },
     "execution_count": 20,
     "metadata": {},
     "output_type": "execute_result"
    }
   ],
   "source": [
    "result = 0.5*light_pollution_n + 0.5*air_n\n",
    "result"
   ]
  },
  {
   "cell_type": "code",
   "execution_count": 21,
   "id": "a05d8d5d",
   "metadata": {},
   "outputs": [],
   "source": [
    "result_lyr = result.save(\"result_test_1234\",gis=gis)"
   ]
  },
  {
   "cell_type": "code",
   "execution_count": 24,
   "id": "891c30bf",
   "metadata": {},
   "outputs": [
    {
     "data": {
      "text/plain": [
       "{\n",
       "  \"currentVersion\": 11.2,\n",
       "  \"name\": \"result_test_1234\",\n",
       "  \"serviceDescription\": \"\",\n",
       "  \"description\": \"\",\n",
       "  \"type\": \"ImageServer\",\n",
       "  \"capabilities\": \"Image,Metadata,TilesOnly\",\n",
       "  \"copyrightText\": \"\",\n",
       "  \"serviceItemId\": \"3cf4dae09d6f4b06ae4174a943bdfd64\",\n",
       "  \"meanPixelSize\": 463.831191087825,\n",
       "  \"server\": \"eGSDp8lpKe5izqVc\",\n",
       "  \"created\": null,\n",
       "  \"modified\": null,\n",
       "  \"status\": \"created\",\n",
       "  \"access\": \"SECURE\",\n",
       "  \"allowAnalysis\": true,\n",
       "  \"allowCopy\": false,\n",
       "  \"serviceSourceType\": \"esriImageServiceSourceTypeDataset\",\n",
       "  \"spatialReference\": {\n",
       "    \"wkid\": 102100,\n",
       "    \"latestWkid\": 3857\n",
       "  },\n",
       "  \"extent\": {\n",
       "    \"xmin\": -13091171.149468705,\n",
       "    \"ymin\": 3833698.449000089,\n",
       "    \"xmax\": -12921872.764721649,\n",
       "    \"ymax\": 3963571.18250468,\n",
       "    \"spatialReference\": {\n",
       "      \"wkid\": 102100,\n",
       "      \"latestWkid\": 3857\n",
       "    }\n",
       "  },\n",
       "  \"initialExtent\": {\n",
       "    \"xmin\": -13091171.149468705,\n",
       "    \"ymin\": 3833698.449000089,\n",
       "    \"xmax\": -12921872.764721649,\n",
       "    \"ymax\": 3963571.18250468,\n",
       "    \"spatialReference\": {\n",
       "      \"wkid\": 102100,\n",
       "      \"latestWkid\": 3857\n",
       "    }\n",
       "  },\n",
       "  \"fullExtent\": {\n",
       "    \"xmin\": -13091171.149468705,\n",
       "    \"ymin\": 3833698.449000089,\n",
       "    \"xmax\": -12921872.764721649,\n",
       "    \"ymax\": 3963571.18250468,\n",
       "    \"spatialReference\": {\n",
       "      \"wkid\": 102100,\n",
       "      \"latestWkid\": 3857\n",
       "    }\n",
       "  },\n",
       "  \"datasetFormat\": \"Cache/LERC2D\",\n",
       "  \"compressionType\": \"LERC\",\n",
       "  \"uncompressedSize\": 408800,\n",
       "  \"pixelSizeX\": 463.831191087825,\n",
       "  \"pixelSizeY\": 463.831191087825,\n",
       "  \"blockWidth\": 256,\n",
       "  \"blockHeight\": 256,\n",
       "  \"bandCount\": 1,\n",
       "  \"bandNames\": [\n",
       "    \"Band_1\"\n",
       "  ],\n",
       "  \"pixelType\": \"F32\",\n",
       "  \"minPixelSize\": 463.831191087825,\n",
       "  \"maxPixelSize\": 927.662382175651,\n",
       "  \"minScale\": 3506118.52668052,\n",
       "  \"maxScale\": 1753059.26334026,\n",
       "  \"serviceDataType\": \"esriImageServiceDataTypeGeneric\",\n",
       "  \"noDataValue\": -3.402823e+38,\n",
       "  \"noDataValues\": [\n",
       "    -3.402823e+38\n",
       "  ],\n",
       "  \"minValues\": [\n",
       "    2.494999885559082\n",
       "  ],\n",
       "  \"maxValues\": [\n",
       "    140.2550048828125\n",
       "  ],\n",
       "  \"meanValues\": [\n",
       "    7.946452109339703\n",
       "  ],\n",
       "  \"stdvValues\": [\n",
       "    2.256673012960794\n",
       "  ],\n",
       "  \"objectIdField\": \"\",\n",
       "  \"fields\": [],\n",
       "  \"defaultMosaicMethod\": \"\",\n",
       "  \"allowedMosaicMethods\": \"\",\n",
       "  \"sortField\": \"\",\n",
       "  \"sortValue\": null,\n",
       "  \"sortAscending\": true,\n",
       "  \"singleFusedMapCache\": true,\n",
       "  \"tileInfo\": {\n",
       "    \"rows\": 256,\n",
       "    \"cols\": 256,\n",
       "    \"dpi\": 96,\n",
       "    \"preciseDpi\": 96,\n",
       "    \"format\": \"LERC2D\",\n",
       "    \"storageFormat\": \"esriMapCacheStorageModeCompactV2\",\n",
       "    \"packetSize\": 16,\n",
       "    \"compressionQuality\": 0,\n",
       "    \"antialiasing\": false,\n",
       "    \"origin\": {\n",
       "      \"x\": -13091171.1494687,\n",
       "      \"y\": 3963571.18250468\n",
       "    },\n",
       "    \"spatialReference\": {\n",
       "      \"wkid\": 102100,\n",
       "      \"latestWkid\": 3857\n",
       "    },\n",
       "    \"lods\": [\n",
       "      {\n",
       "        \"level\": 0,\n",
       "        \"resolution\": 927.662382175651,\n",
       "        \"scale\": 3506118.52668052\n",
       "      },\n",
       "      {\n",
       "        \"level\": 1,\n",
       "        \"resolution\": 463.831191087825,\n",
       "        \"scale\": 1753059.26334026\n",
       "      }\n",
       "    ]\n",
       "  },\n",
       "  \"cacheType\": \"Raster\",\n",
       "  \"allowRasterFunction\": false,\n",
       "  \"hasHistograms\": true,\n",
       "  \"hasColormap\": false,\n",
       "  \"hasRasterAttributeTable\": false,\n",
       "  \"exportTilesAllowed\": false,\n",
       "  \"maxExportTilesCount\": 100000,\n",
       "  \"hasMultidimensions\": false\n",
       "}"
      ]
     },
     "execution_count": 24,
     "metadata": {},
     "output_type": "execute_result"
    }
   ],
   "source": [
    "result_lyr.layers[0].properties"
   ]
  },
  {
   "cell_type": "code",
   "execution_count": 35,
   "id": "dc257bdf",
   "metadata": {},
   "outputs": [
    {
     "name": "stdout",
     "output_type": "stream",
     "text": [
      "{'histograms': [{'size': 2, 'min': -0.5, 'max': 1.5, 'counts': [68367, 4606]}]}\n"
     ]
    },
    {
     "data": {
      "image/jpeg": "[encoded data removed]",
      "text/plain": [
       "<ImageryLayer url:\"https://rasterutils1.arcgis.com/arcgis/rest/services/RasterRendering/ImageServer\">"
      ]
     },
     "execution_count": 35,
     "metadata": {},
     "output_type": "execute_result"
    }
   ],
   "source": [
    "# not suitable (red) and suitable (green)\n",
    "result2_b = remap(raster=result_lyr.layers[0],\n",
    "                  input_ranges=[0,7, 7,141],\n",
    "                  output_values=[1,0],  astype='U8')\n",
    "print(result2_b.compute_histograms(geometry=study_area_geom))\n",
    "clrmap2 =  [[1, 230, 0, 0], [0, 38, 115, 0]]\n",
    "\n",
    "result2_c = colormap(result2_b, colormap=clrmap2)\n",
    "result2_c"
   ]
  },
  {
   "cell_type": "code",
   "execution_count": 40,
   "id": "05ae2081",
   "metadata": {},
   "outputs": [
    {
     "ename": "NameError",
     "evalue": "name 'resutlb_lr' is not defined",
     "output_type": "error",
     "traceback": [
      "\u001b[0;31m---------------------------------------------------------------------------\u001b[0m",
      "\u001b[0;31mNameError\u001b[0m                                 Traceback (most recent call last)",
      "\u001b[0;32m/tmp/ipykernel_1122/763889396.py\u001b[0m in \u001b[0;36m<module>\u001b[0;34m\u001b[0m\n\u001b[1;32m      1\u001b[0m \u001b[0mresultb_lyr\u001b[0m \u001b[0;34m=\u001b[0m \u001b[0mgis\u001b[0m\u001b[0;34m.\u001b[0m\u001b[0mcontent\u001b[0m\u001b[0;34m.\u001b[0m\u001b[0mget\u001b[0m\u001b[0;34m(\u001b[0m\u001b[0;34m'bebd505291844055b36da1a181500fee'\u001b[0m\u001b[0;34m)\u001b[0m\u001b[0;34m\u001b[0m\u001b[0;34m\u001b[0m\u001b[0m\n\u001b[1;32m      2\u001b[0m \u001b[0mresultb_lr\u001b[0m \u001b[0;34m=\u001b[0m \u001b[0mresultb_lyr\u001b[0m\u001b[0;34m.\u001b[0m\u001b[0mlayers\u001b[0m\u001b[0;34m[\u001b[0m\u001b[0;36m0\u001b[0m\u001b[0;34m]\u001b[0m\u001b[0;34m.\u001b[0m\u001b[0mto_features\u001b[0m\u001b[0;34m(\u001b[0m\u001b[0;34m)\u001b[0m\u001b[0;34m\u001b[0m\u001b[0;34m\u001b[0m\u001b[0m\n\u001b[0;32m----> 3\u001b[0;31m \u001b[0mresutlb_lr\u001b[0m\u001b[0;34m\u001b[0m\u001b[0;34m\u001b[0m\u001b[0m\n\u001b[0m",
      "\u001b[0;31mNameError\u001b[0m: name 'resutlb_lr' is not defined"
     ]
    }
   ],
   "source": [
    "resultb_lyr = gis.content.get('bebd505291844055b36da1a181500fee')\n",
    "resultb_lr = resultb_lyr.layers[0].to_features()\n",
    "resutlb_lr"
   ]
  },
  {
   "cell_type": "code",
   "execution_count": 44,
   "id": "f46d8e4d",
   "metadata": {},
   "outputs": [],
   "source": [
    "fl = gis.content.get('408cda385e164a958d916554edeac6c5')"
   ]
  },
  {
   "cell_type": "code",
   "execution_count": 97,
   "id": "534832c9",
   "metadata": {},
   "outputs": [
    {
     "data": {
      "text/html": [
       "<div>\n",
       "<style scoped>\n",
       "    .dataframe tbody tr th:only-of-type {\n",
       "        vertical-align: middle;\n",
       "    }\n",
       "\n",
       "    .dataframe tbody tr th {\n",
       "        vertical-align: top;\n",
       "    }\n",
       "\n",
       "    .dataframe thead th {\n",
       "        text-align: right;\n",
       "    }\n",
       "</style>\n",
       "<table border=\"1\" class=\"dataframe\">\n",
       "  <thead>\n",
       "    <tr style=\"text-align: right;\">\n",
       "      <th></th>\n",
       "      <th>FID</th>\n",
       "      <th>Campground</th>\n",
       "      <th>GISID</th>\n",
       "      <th>TYPE</th>\n",
       "      <th>SUBTYPE</th>\n",
       "      <th>UNITNBR</th>\n",
       "      <th>DETAIL</th>\n",
       "      <th>UNITNAME</th>\n",
       "      <th>SHARE</th>\n",
       "      <th>GlobalID</th>\n",
       "      <th>...</th>\n",
       "      <th>geometry</th>\n",
       "      <th>Primitive</th>\n",
       "      <th>Developed</th>\n",
       "      <th>Horse</th>\n",
       "      <th>Restrooms</th>\n",
       "      <th>Showers</th>\n",
       "      <th>Flush_toilet</th>\n",
       "      <th>RV Parking</th>\n",
       "      <th>Vehicle Parking</th>\n",
       "      <th>Boat Parking</th>\n",
       "    </tr>\n",
       "  </thead>\n",
       "  <tbody>\n",
       "    <tr>\n",
       "      <th>0</th>\n",
       "      <td>2074</td>\n",
       "      <td>Ritchey Creek Campground</td>\n",
       "      <td>GIS0006395</td>\n",
       "      <td>Developed Family Camp Area</td>\n",
       "      <td>None</td>\n",
       "      <td>240</td>\n",
       "      <td>Ritchey Creek Campground</td>\n",
       "      <td>Bothe-Napa Valley SP</td>\n",
       "      <td>None</td>\n",
       "      <td>{AC98673D-5387-4783-BB72-ED2987FA86AE}</td>\n",
       "      <td>...</td>\n",
       "      <td>POINT (-13639496.195 4657348.494)</td>\n",
       "      <td>False</td>\n",
       "      <td>True</td>\n",
       "      <td>False</td>\n",
       "      <td>True</td>\n",
       "      <td>True</td>\n",
       "      <td>False</td>\n",
       "      <td>False</td>\n",
       "      <td>True</td>\n",
       "      <td>False</td>\n",
       "    </tr>\n",
       "    <tr>\n",
       "      <th>1</th>\n",
       "      <td>2075</td>\n",
       "      <td>Bothe-Napa Valley Group Camp</td>\n",
       "      <td>GIS0006396</td>\n",
       "      <td>Developed Group Camp Area</td>\n",
       "      <td>None</td>\n",
       "      <td>240</td>\n",
       "      <td>Bothe-Napa Valley Group Camp</td>\n",
       "      <td>Bothe-Napa Valley SP</td>\n",
       "      <td>None</td>\n",
       "      <td>{196BF388-E240-49EC-A361-4330849D07E8}</td>\n",
       "      <td>...</td>\n",
       "      <td>POINT (-13638520.925 4657386.784)</td>\n",
       "      <td>False</td>\n",
       "      <td>True</td>\n",
       "      <td>False</td>\n",
       "      <td>True</td>\n",
       "      <td>True</td>\n",
       "      <td>False</td>\n",
       "      <td>False</td>\n",
       "      <td>True</td>\n",
       "      <td>False</td>\n",
       "    </tr>\n",
       "    <tr>\n",
       "      <th>2</th>\n",
       "      <td>2076</td>\n",
       "      <td>Brannan Island Group Camp</td>\n",
       "      <td>GIS0006398</td>\n",
       "      <td>Developed Group Camp Area</td>\n",
       "      <td>None</td>\n",
       "      <td>314</td>\n",
       "      <td>Brannan Island Group Camp</td>\n",
       "      <td>Brannan Island SRA</td>\n",
       "      <td>None</td>\n",
       "      <td>{D089D94A-75A3-409E-8B95-613D918F27C5}</td>\n",
       "      <td>...</td>\n",
       "      <td>POINT (-13546051.275 4596380.365)</td>\n",
       "      <td>False</td>\n",
       "      <td>True</td>\n",
       "      <td>False</td>\n",
       "      <td>True</td>\n",
       "      <td>True</td>\n",
       "      <td>False</td>\n",
       "      <td>False</td>\n",
       "      <td>True</td>\n",
       "      <td>True</td>\n",
       "    </tr>\n",
       "    <tr>\n",
       "      <th>3</th>\n",
       "      <td>2077</td>\n",
       "      <td>Walk-in Campsites</td>\n",
       "      <td>GIS0006399</td>\n",
       "      <td>Developed Family Camp Area</td>\n",
       "      <td>None</td>\n",
       "      <td>314</td>\n",
       "      <td>Walk-in  Campsites</td>\n",
       "      <td>Brannan Island SRA</td>\n",
       "      <td>None</td>\n",
       "      <td>{C880DECC-2000-48C3-953E-B6AD4C29B49C}</td>\n",
       "      <td>...</td>\n",
       "      <td>POINT (-13546394.584 4595659.599)</td>\n",
       "      <td>False</td>\n",
       "      <td>True</td>\n",
       "      <td>False</td>\n",
       "      <td>True</td>\n",
       "      <td>True</td>\n",
       "      <td>False</td>\n",
       "      <td>False</td>\n",
       "      <td>True</td>\n",
       "      <td>True</td>\n",
       "    </tr>\n",
       "    <tr>\n",
       "      <th>4</th>\n",
       "      <td>2078</td>\n",
       "      <td>North Grove Campground</td>\n",
       "      <td>GIS0006400</td>\n",
       "      <td>Developed Family Camp Area</td>\n",
       "      <td>None</td>\n",
       "      <td>306</td>\n",
       "      <td>North Grove Campground</td>\n",
       "      <td>Calaveras Big Trees SP</td>\n",
       "      <td>None</td>\n",
       "      <td>{3C9F0EA0-DB71-479E-9486-C45DDB6C579E}</td>\n",
       "      <td>...</td>\n",
       "      <td>POINT (-13392613.832 4618511.183)</td>\n",
       "      <td>False</td>\n",
       "      <td>True</td>\n",
       "      <td>False</td>\n",
       "      <td>True</td>\n",
       "      <td>True</td>\n",
       "      <td>False</td>\n",
       "      <td>False</td>\n",
       "      <td>True</td>\n",
       "      <td>False</td>\n",
       "    </tr>\n",
       "  </tbody>\n",
       "</table>\n",
       "<p>5 rows × 21 columns</p>\n",
       "</div>"
      ],
      "text/plain": [
       "    FID                    Campground       GISID                        TYPE  \\\n",
       "0  2074      Ritchey Creek Campground  GIS0006395  Developed Family Camp Area   \n",
       "1  2075  Bothe-Napa Valley Group Camp  GIS0006396   Developed Group Camp Area   \n",
       "2  2076     Brannan Island Group Camp  GIS0006398   Developed Group Camp Area   \n",
       "3  2077             Walk-in Campsites  GIS0006399  Developed Family Camp Area   \n",
       "4  2078        North Grove Campground  GIS0006400  Developed Family Camp Area   \n",
       "\n",
       "  SUBTYPE UNITNBR                        DETAIL                UNITNAME SHARE  \\\n",
       "0    None     240      Ritchey Creek Campground    Bothe-Napa Valley SP  None   \n",
       "1    None     240  Bothe-Napa Valley Group Camp    Bothe-Napa Valley SP  None   \n",
       "2    None     314     Brannan Island Group Camp      Brannan Island SRA  None   \n",
       "3    None     314            Walk-in  Campsites      Brannan Island SRA  None   \n",
       "4    None     306        North Grove Campground  Calaveras Big Trees SP  None   \n",
       "\n",
       "                                 GlobalID  ...  \\\n",
       "0  {AC98673D-5387-4783-BB72-ED2987FA86AE}  ...   \n",
       "1  {196BF388-E240-49EC-A361-4330849D07E8}  ...   \n",
       "2  {D089D94A-75A3-409E-8B95-613D918F27C5}  ...   \n",
       "3  {C880DECC-2000-48C3-953E-B6AD4C29B49C}  ...   \n",
       "4  {3C9F0EA0-DB71-479E-9486-C45DDB6C579E}  ...   \n",
       "\n",
       "                            geometry Primitive  Developed  Horse  Restrooms  \\\n",
       "0  POINT (-13639496.195 4657348.494)     False       True  False       True   \n",
       "1  POINT (-13638520.925 4657386.784)     False       True  False       True   \n",
       "2  POINT (-13546051.275 4596380.365)     False       True  False       True   \n",
       "3  POINT (-13546394.584 4595659.599)     False       True  False       True   \n",
       "4  POINT (-13392613.832 4618511.183)     False       True  False       True   \n",
       "\n",
       "  Showers Flush_toilet RV Parking Vehicle Parking Boat Parking  \n",
       "0    True        False      False            True        False  \n",
       "1    True        False      False            True        False  \n",
       "2    True        False      False            True         True  \n",
       "3    True        False      False            True         True  \n",
       "4    True        False      False            True        False  \n",
       "\n",
       "[5 rows x 21 columns]"
      ]
     },
     "execution_count": 97,
     "metadata": {},
     "output_type": "execute_result"
    }
   ],
   "source": [
    "#Developed campgrounds and restrooms\n",
    "campgrounds_filtered = campgrounds_merged[campgrounds_merged['Showers'] == True]\n",
    "campgrounds_filtered = campgrounds_filtered[campgrounds_filtered['Restrooms'] == True]\n",
    "campgrounds_filtered.head()"
   ]
  },
  {
   "cell_type": "code",
   "execution_count": 118,
   "id": "579c25c0",
   "metadata": {},
   "outputs": [
    {
     "data": {
      "application/vnd.jupyter.widget-view+json": {
       "model_id": "9b405826a9c74a0e87fe066cbcc64add",
       "version_major": 2,
       "version_minor": 0
      },
      "text/plain": [
       "MapView(layout=Layout(height='400px', width='100%'), legend=True)"
      ]
     },
     "metadata": {},
     "output_type": "display_data"
    },
    {
     "data": {
      "text/html": [
       "<div class=\"map-static-img-preview-594f947d-fe5b-4bac-b25b-3311331e5b0c\"><img src=\"\"></img></div>"
      ],
      "text/plain": [
       "<IPython.core.display.HTML object>"
      ]
     },
     "metadata": {},
     "output_type": "display_data"
    },
    {
     "data": {
      "text/html": [
       "<div class=\"map-html-embed-preview-594f947d-fe5b-4bac-b25b-3311331e5b0c\"></div>"
      ],
      "text/plain": [
       "<IPython.core.display.HTML object>"
      ]
     },
     "metadata": {},
     "output_type": "display_data"
    }
   ],
   "source": [
    "m = gis.map()\n",
    "m.extent = study_area_extent        \n",
    "m.legend=True\n",
    "m.add_layer(fl,\n",
    " {\"renderer\":\"ClassedColorRenderer\",\n",
    " \"field_name\":\"gridcode\",\n",
    " \"opacity\":0.7,\n",
    " })\n",
    "m"
   ]
  },
  {
   "cell_type": "code",
   "execution_count": 119,
   "id": "15505bf5",
   "metadata": {},
   "outputs": [],
   "source": [
    "m.add_layer(camps_fl)"
   ]
  },
  {
   "cell_type": "code",
   "execution_count": 109,
   "id": "9561b2d6",
   "metadata": {},
   "outputs": [],
   "source": [
    "camps_filtered_sdf = GeoAccessor.from_geodataframe(campgrounds_filtered, inplace=False, column_name='SHAPE')\n",
    "camps_fl = camps_filtered_sdf.spatial.to_featurelayer(title='Campgrounds Filtered',\n",
    "                                                         gis=gis,\n",
    "                                                         tags='Camping')"
   ]
  },
  {
   "cell_type": "code",
   "execution_count": 111,
   "id": "92494c94",
   "metadata": {},
   "outputs": [
    {
     "ename": "AttributeError",
     "evalue": "'Item' object has no attribute 'intersect'",
     "output_type": "error",
     "traceback": [
      "\u001b[0;31m---------------------------------------------------------------------------\u001b[0m",
      "\u001b[0;31mKeyError\u001b[0m                                  Traceback (most recent call last)",
      "\u001b[0;32m/opt/conda/lib/python3.9/site-packages/arcgis/gis/__init__.py\u001b[0m in \u001b[0;36m__getattr__\u001b[0;34m(self, name)\u001b[0m\n\u001b[1;32m  13190\u001b[0m         \u001b[0;32mtry\u001b[0m\u001b[0;34m:\u001b[0m\u001b[0;34m\u001b[0m\u001b[0;34m\u001b[0m\u001b[0m\n\u001b[0;32m> 13191\u001b[0;31m             \u001b[0;32mreturn\u001b[0m \u001b[0mdict\u001b[0m\u001b[0;34m.\u001b[0m\u001b[0m__getitem__\u001b[0m\u001b[0;34m(\u001b[0m\u001b[0mself\u001b[0m\u001b[0;34m,\u001b[0m \u001b[0mname\u001b[0m\u001b[0;34m)\u001b[0m\u001b[0;34m\u001b[0m\u001b[0;34m\u001b[0m\u001b[0m\n\u001b[0m\u001b[1;32m  13192\u001b[0m         \u001b[0;32mexcept\u001b[0m\u001b[0;34m:\u001b[0m\u001b[0;34m\u001b[0m\u001b[0;34m\u001b[0m\u001b[0m\n",
      "\u001b[0;31mKeyError\u001b[0m: 'intersect'",
      "\nDuring handling of the above exception, another exception occurred:\n",
      "\u001b[0;31mAttributeError\u001b[0m                            Traceback (most recent call last)",
      "\u001b[0;32m/tmp/ipykernel_1122/665033474.py\u001b[0m in \u001b[0;36m<module>\u001b[0;34m\u001b[0m\n\u001b[0;32m----> 1\u001b[0;31m \u001b[0mcamps_fl\u001b[0m\u001b[0;34m.\u001b[0m\u001b[0mintersect\u001b[0m\u001b[0;34m(\u001b[0m\u001b[0mfl\u001b[0m\u001b[0;34m)\u001b[0m\u001b[0;34m\u001b[0m\u001b[0;34m\u001b[0m\u001b[0m\n\u001b[0m",
      "\u001b[0;32m/opt/conda/lib/python3.9/site-packages/arcgis/gis/__init__.py\u001b[0m in \u001b[0;36m__getattr__\u001b[0;34m(self, name)\u001b[0m\n\u001b[1;32m  13191\u001b[0m             \u001b[0;32mreturn\u001b[0m \u001b[0mdict\u001b[0m\u001b[0;34m.\u001b[0m\u001b[0m__getitem__\u001b[0m\u001b[0;34m(\u001b[0m\u001b[0mself\u001b[0m\u001b[0;34m,\u001b[0m \u001b[0mname\u001b[0m\u001b[0;34m)\u001b[0m\u001b[0;34m\u001b[0m\u001b[0;34m\u001b[0m\u001b[0m\n\u001b[1;32m  13192\u001b[0m         \u001b[0;32mexcept\u001b[0m\u001b[0;34m:\u001b[0m\u001b[0;34m\u001b[0m\u001b[0;34m\u001b[0m\u001b[0m\n\u001b[0;32m> 13193\u001b[0;31m             raise AttributeError(\n\u001b[0m\u001b[1;32m  13194\u001b[0m                 \u001b[0;34m\"'%s' object has no attribute '%s'\"\u001b[0m \u001b[0;34m%\u001b[0m \u001b[0;34m(\u001b[0m\u001b[0mtype\u001b[0m\u001b[0;34m(\u001b[0m\u001b[0mself\u001b[0m\u001b[0;34m)\u001b[0m\u001b[0;34m.\u001b[0m\u001b[0m__name__\u001b[0m\u001b[0;34m,\u001b[0m \u001b[0mname\u001b[0m\u001b[0;34m)\u001b[0m\u001b[0;34m\u001b[0m\u001b[0;34m\u001b[0m\u001b[0m\n\u001b[1;32m  13195\u001b[0m             )\n",
      "\u001b[0;31mAttributeError\u001b[0m: 'Item' object has no attribute 'intersect'"
     ]
    }
   ],
   "source": [
    "desired_polygon = campgrounds_filtered[campgrounds_filtered['attribute_column'] == desired_value].unary_union"
   ]
  },
  {
   "cell_type": "markdown",
   "id": "7b354031",
   "metadata": {},
   "source": [
    "--------------------------------------------------------------------------------------"
   ]
  },
  {
   "cell_type": "markdown",
   "id": "7ea4b29c",
   "metadata": {},
   "source": [
    "## Results"
   ]
  },
  {
   "cell_type": "markdown",
   "id": "f0db91ff",
   "metadata": {},
   "source": [
    "***TODO***\n",
    "\n",
    "Describe what you found, and why it is important; illustrate the findings with maps/charts\n",
    "reflecting your results.\n",
    "\n",
    "(a combination of markdown and documented code cells)\n",
    "\n",
    "(200 words)"
   ]
  },
  {
   "cell_type": "markdown",
   "id": "a6067c2d",
   "metadata": {},
   "source": [
    "## Discussion"
   ]
  },
  {
   "cell_type": "markdown",
   "id": "2c02320a",
   "metadata": {},
   "source": [
    "The discussion should include the following parts:\n",
    "1) Discuss your findings with respect to the literature sources in section 3. What do the\n",
    "results mean in the context of what is already known? What is new? Does it validate\n",
    "what was found in literature? How do your results improve our understanding of the\n",
    "problem?\n",
    "\n",
    "2) Of particular importance is a discussion of any trade-offs and decision points that you\n",
    "had to consider. This may include a discussion of any performance issues, width of\n",
    "buffers you applied, projections you chose, spatial operations you used, machine\n",
    "learning techniques, and other issues we discussed in class.\n",
    "(this can be done as a markdown, at least 200 words)"
   ]
  },
  {
   "cell_type": "markdown",
   "id": "12a899e8",
   "metadata": {},
   "source": [
    "## Conclusions and Future Work"
   ]
  },
  {
   "cell_type": "markdown",
   "id": "0fab2f3d",
   "metadata": {},
   "source": [
    "Did you manage to completely answer your initial research question? If not, what additional\n",
    "data and additional analysis steps can you think of? Can your approach be extended to other\n",
    "areas or topics, and use additional datasets? How do you expect the results to be used and by\n",
    "whom?\n",
    "\n",
    "(a markdown cell, at least 200 words)\n"
   ]
  },
  {
   "cell_type": "code",
   "execution_count": null,
   "id": "372e9483",
   "metadata": {},
   "outputs": [],
   "source": []
  }
 ],
 "metadata": {
  "kernelspec": {
   "display_name": "Python 3 (clean)",
   "language": "python",
   "name": "python3_clean"
  },
  "language_info": {
   "codemirror_mode": {
    "name": "ipython",
    "version": 3
   },
   "file_extension": ".py",
   "mimetype": "text/x-python",
   "name": "python",
   "nbconvert_exporter": "python",
   "pygments_lexer": "ipython3",
   "version": "3.9.5"
  }
 },
 "nbformat": 4,
 "nbformat_minor": 5
}
