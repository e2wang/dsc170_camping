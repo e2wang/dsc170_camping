{
 "cells": [
  {
   "cell_type": "markdown",
   "id": "d16cabdb",
   "metadata": {},
   "source": [
    "--------------------------------------------------------------------------------------\n",
    "\n",
    "* Team member names: Elsie Wang, Hou Wan\n",
    "\n",
    "* Team member IDs: A16655032, A16462095\n",
    "\n",
    "--------------------------------------------------------------------------------------"
   ]
  },
  {
   "cell_type": "markdown",
   "id": "9d281a75",
   "metadata": {},
   "source": [
    "# Optimizing Camping Spots with OpenAI and ArcGIS"
   ]
  },
  {
   "cell_type": "markdown",
   "id": "c780dcaa",
   "metadata": {},
   "source": [
    "## Introduction"
   ]
  },
  {
   "cell_type": "markdown",
   "id": "63fd2499",
   "metadata": {},
   "source": [
    "***TODO***\n",
    "\n",
    "Question(s) you addressed, why it is important (5pt)\n",
    "\n",
    "As in your project proposal, describe the intended audience and the business case for finding a\n",
    "solution to your question.\n",
    "\n",
    "If your question changed significantly compared to your project proposal, please explain.\n",
    "(format this as a markdown cell)\n",
    "\n",
    "(at least 250 words):\n"
   ]
  },
  {
   "cell_type": "markdown",
   "id": "f6774942",
   "metadata": {},
   "source": [
    "### Related Work"
   ]
  },
  {
   "cell_type": "markdown",
   "id": "36b1319b",
   "metadata": {},
   "source": [
    "***TODO***\n",
    "\n",
    "At least 4 bibliographic references (with links) relevant to your question. These don’t have to be\n",
    "new references; you can continue what you started in your project proposal. As before, the\n",
    "references can include research publications, online articles, blogs, github repos, online\n",
    "applications, etc.\n",
    "\n",
    "As a new element of this section, reflect on how these references helped you specify the\n",
    "problem more narrowly, or focus on a specific hypothesis, or question conclusions they made,\n",
    "or improve over previously available code.\n",
    "(format this as a markdown cell)\n",
    "\n",
    "(at least 200 words)"
   ]
  },
  {
   "cell_type": "markdown",
   "id": "dbca5030",
   "metadata": {},
   "source": [
    "### Python Packages"
   ]
  },
  {
   "cell_type": "markdown",
   "id": "bc4961fe",
   "metadata": {},
   "source": [
    "***TODO***\n",
    "\n",
    "Make this a brief list – but also mention whether and how this list has evolved compared to the\n",
    "project proposal.\n",
    "\n",
    "In your notebook: identify and describe the libraries as you import them, using a combination\n",
    "of markdown and code cells.\n",
    "\n",
    "(at least 100 words)"
   ]
  },
  {
   "cell_type": "markdown",
   "id": "1f385391",
   "metadata": {},
   "source": [
    "### References"
   ]
  },
  {
   "cell_type": "markdown",
   "id": "23533a84",
   "metadata": {},
   "source": [
    "***TODO***\n",
    "\n",
    "Include a URL and a one-sentence description of each source you used. Make sure you have\n",
    "enough records for your machine learning application.\n",
    "\n",
    "Please reflect on how your choice of sources evolved since the proposal phase, and any\n",
    "concerns about the sources you used - related to data quality, provenance, access constraints,\n",
    "etc. Also, reflect on any data that would be helpful to address your research question, which\n",
    "you could not obtain (and why). Be creative! There is a lot of additional information, sometimes\n",
    "from less traditional sources, that may help.\n",
    "\n",
    "When you create a notebook, identify and describe the datasets as you load them. If the\n",
    "sources are in AGOL, provide source IDs, and/or load them using gis.content.get. Provide\n",
    "additional discussion in a markdown cell.\n",
    "\n",
    "(at least 200 words)\n"
   ]
  },
  {
   "cell_type": "markdown",
   "id": "e7e33445",
   "metadata": {},
   "source": [
    "- source 1\n",
    "- source 2\n",
    "- source 3"
   ]
  },
  {
   "cell_type": "markdown",
   "id": "61108479",
   "metadata": {},
   "source": [
    "--------------------------------------------------------------------------------------"
   ]
  },
  {
   "cell_type": "code",
   "execution_count": 1,
   "id": "67bdc826",
   "metadata": {},
   "outputs": [],
   "source": [
    "# Import statements, etc.\n",
    "import warnings\n",
    "warnings.filterwarnings(\"ignore\")\n",
    "\n",
    "from json import load\n",
    "\n",
    "import arcgis\n",
    "from arcgis.gis import GIS\n",
    "from arcgis.raster.functions import *\n",
    "from ipywidgets import *\n",
    "from IPython.display import display\n",
    "from arcgis.geocoding import geocode\n",
    "from arcgis.geometry import *\n",
    "\n",
    "LOGIN = load(open('./login.json', 'r'))\n",
    "gis = GIS(username=LOGIN['username'], password=LOGIN['password'])\n",
    "\n",
    "# TODO: Replace above with this in final notebook\n",
    "# import getpass\n",
    "# username = input('Enter username: ')\n",
    "# password = getpass.getpass(\"Enter password: \")\n",
    "# gis = GIS(username=username, password=password)"
   ]
  },
  {
   "cell_type": "code",
   "execution_count": 2,
   "id": "67c87818",
   "metadata": {},
   "outputs": [
    {
     "name": "stdout",
     "output_type": "stream",
     "text": [
      "An error occured.\n",
      "PermissionError: [Errno 13] Permission denied: '/opt/conda/share/jupyter/lab/extensions/jupyterlab-toc-4.0.0.tgz'\n",
      "See the log file for details:  /tmp/jupyterlab-debug-3_c31b0y.log\n"
     ]
    }
   ],
   "source": [
    "!jupyter labextension install @jupyterlab/toc"
   ]
  },
  {
   "cell_type": "markdown",
   "id": "4dad5a05",
   "metadata": {},
   "source": [
    "## Data Cleaning"
   ]
  },
  {
   "cell_type": "markdown",
   "id": "0262116d",
   "metadata": {},
   "source": [
    "***TODO***\n",
    "\n",
    "Describe the cleaning/wrangling operations that you performed, and whether you realized you\n",
    "needed to clean the data by examining metadata documents or by introspecting the data itself.\n",
    "Was the amount of cleaning/data preparation similar to what you expected when writing\n",
    "project proposal?\n",
    "\n",
    "Organize the discussion and code as a combination of markdown and code cells.\n",
    "(at least 100 words – less if you didn’t have to do any cleaning!)"
   ]
  },
  {
   "cell_type": "markdown",
   "id": "fae7d3bd",
   "metadata": {},
   "source": [
    "Potential Factors:\n",
    "- primitive vs campground*\n",
    "- light pollution\n",
    "- water accessibility\n",
    "- stargazing\n",
    "- proximity from roads\n",
    "- proximity from hiking trails\n",
    "- near water\n",
    "- tent vs car vs rv camping\n",
    "- weather: winter vs summer camping\n",
    "- campfires\n",
    "- ammentities: water, showers, restrooms, mobile service\n",
    "\n",
    "\n",
    "*essential information"
   ]
  },
  {
   "cell_type": "markdown",
   "id": "35ee3989",
   "metadata": {},
   "source": [
    "## Descriptive Statistics"
   ]
  },
  {
   "cell_type": "markdown",
   "id": "4f8d8f6f",
   "metadata": {},
   "source": [
    "***TODO***\n",
    "\n",
    "Explore the data using maps, charts, and common descriptive statistics. Sample questions you\n",
    "can try to answer: is there spatial autocorrelation in the data? Are you dealing with random\n",
    "point patterns? What is the spatial mean and standard distance? Or why the above questions\n",
    "are not relevant to your research theme and the data?\n",
    "\n",
    "(a combination of markdown and documented code cells)"
   ]
  },
  {
   "cell_type": "code",
   "execution_count": null,
   "id": "e2381f3c",
   "metadata": {},
   "outputs": [],
   "source": []
  },
  {
   "cell_type": "markdown",
   "id": "72df77a3",
   "metadata": {},
   "source": [
    "--------------------------------------------------------------------------------------"
   ]
  },
  {
   "cell_type": "markdown",
   "id": "f0a6013e",
   "metadata": {},
   "source": [
    "## Analysis"
   ]
  },
  {
   "cell_type": "markdown",
   "id": "2356f323",
   "metadata": {},
   "source": [
    "***TODO***\n",
    "\n",
    "Provide a general outline of your analysis (in a markdown), and then document it step by step\n",
    "as you code the solution. Please make sure that we can reproduce your analysis by running\n",
    "your notebook. As before, a diagram describing your workflow would be helpful.\n",
    "\n",
    "Please also reflect on how your actual analysis steps were different compared to your project\n",
    "proposal - or state that you didn’t deviate from the initial plan.\n",
    "\n",
    "(a combination of markdown and documented code cells)\n",
    "(at least 500 words)"
   ]
  },
  {
   "cell_type": "code",
   "execution_count": null,
   "id": "18a3ddc0",
   "metadata": {},
   "outputs": [],
   "source": []
  },
  {
   "cell_type": "markdown",
   "id": "7b354031",
   "metadata": {},
   "source": [
    "--------------------------------------------------------------------------------------"
   ]
  },
  {
   "cell_type": "markdown",
   "id": "7ea4b29c",
   "metadata": {},
   "source": [
    "## Results"
   ]
  },
  {
   "cell_type": "markdown",
   "id": "f0db91ff",
   "metadata": {},
   "source": [
    "***TODO***\n",
    "\n",
    "Describe what you found, and why it is important; illustrate the findings with maps/charts\n",
    "reflecting your results.\n",
    "\n",
    "(a combination of markdown and documented code cells)\n",
    "\n",
    "(200 words)"
   ]
  },
  {
   "cell_type": "markdown",
   "id": "a6067c2d",
   "metadata": {},
   "source": [
    "## Discussion"
   ]
  },
  {
   "cell_type": "markdown",
   "id": "2c02320a",
   "metadata": {},
   "source": [
    "The discussion should include the following parts:\n",
    "1) Discuss your findings with respect to the literature sources in section 3. What do the\n",
    "results mean in the context of what is already known? What is new? Does it validate\n",
    "what was found in literature? How do your results improve our understanding of the\n",
    "problem?\n",
    "\n",
    "2) Of particular importance is a discussion of any trade-offs and decision points that you\n",
    "had to consider. This may include a discussion of any performance issues, width of\n",
    "buffers you applied, projections you chose, spatial operations you used, machine\n",
    "learning techniques, and other issues we discussed in class.\n",
    "(this can be done as a markdown, at least 200 words)"
   ]
  },
  {
   "cell_type": "markdown",
   "id": "12a899e8",
   "metadata": {},
   "source": [
    "## Conclusions and Future Work"
   ]
  },
  {
   "cell_type": "markdown",
   "id": "0fab2f3d",
   "metadata": {},
   "source": [
    "Did you manage to completely answer your initial research question? If not, what additional\n",
    "data and additional analysis steps can you think of? Can your approach be extended to other\n",
    "areas or topics, and use additional datasets? How do you expect the results to be used and by\n",
    "whom?\n",
    "\n",
    "(a markdown cell, at least 200 words)\n"
   ]
  },
  {
   "cell_type": "code",
   "execution_count": null,
   "id": "372e9483",
   "metadata": {},
   "outputs": [],
   "source": []
  }
 ],
 "metadata": {
  "kernelspec": {
   "display_name": "Python 3 (clean)",
   "language": "python",
   "name": "python3_clean"
  },
  "language_info": {
   "codemirror_mode": {
    "name": "ipython",
    "version": 3
   },
   "file_extension": ".py",
   "mimetype": "text/x-python",
   "name": "python",
   "nbconvert_exporter": "python",
   "pygments_lexer": "ipython3",
   "version": "3.9.5"
  }
 },
 "nbformat": 4,
 "nbformat_minor": 5
}
